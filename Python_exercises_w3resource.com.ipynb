{
 "cells": [
  {
   "cell_type": "markdown",
   "metadata": {},
   "source": [
    "This notebook containes exercices from the website [w3resource](https://www.w3resource.com/python-exercises/) - **Python Exercises, Practice, Solution** -  work licensed under a Creative Commons Attribution-NonCommercial-ShareAlike 3.0 Unported License."
   ]
  },
  {
   "cell_type": "markdown",
   "metadata": {},
   "source": [
    "1. display the current date and time"
   ]
  },
  {
   "cell_type": "code",
   "execution_count": 1,
   "metadata": {},
   "outputs": [
    {
     "name": "stdout",
     "output_type": "stream",
     "text": [
      "Current date and time: \n",
      "2021-04-16 15:50:09\n"
     ]
    }
   ],
   "source": [
    "from datetime import datetime\n",
    "\n",
    "current_datetime = datetime.today().strftime('%Y-%m-%d %H:%M:%S')\n",
    "print('Current date and time: \\n' + current_datetime)"
   ]
  },
  {
   "cell_type": "markdown",
   "metadata": {},
   "source": [
    "2. Python program which accepts the user's first and last name and print them in reverse order with a space between them"
   ]
  },
  {
   "cell_type": "code",
   "execution_count": 2,
   "metadata": {},
   "outputs": [
    {
     "name": "stdout",
     "output_type": "stream",
     "text": [
      "please enteryour first name: Mary\n",
      "please enteryour last name: Jones\n",
      "senoJ yraM\n"
     ]
    }
   ],
   "source": [
    "first_name = input('please enteryour first name: ')\n",
    "last_name = input('please enteryour last name: ')\n",
    "full_name = first_name + ' ' + last_name\n",
    "reverse_full_name = ''\n",
    "for i in range(len(full_name)-1,-1,-1):\n",
    "    reverse_full_name += full_name[i]\n",
    "print(reverse_full_name)"
   ]
  },
  {
   "cell_type": "markdown",
   "metadata": {},
   "source": [
    "3. Calculate number of days between two dates"
   ]
  },
  {
   "cell_type": "code",
   "execution_count": 3,
   "metadata": {},
   "outputs": [
    {
     "name": "stdout",
     "output_type": "stream",
     "text": [
      "15\n"
     ]
    }
   ],
   "source": [
    "from datetime import date\n",
    "\n",
    "date1 = date(2020, 1, 17)\n",
    "date2 = date(2020, 1, 2)\n",
    "print((date1-date2).days)"
   ]
  },
  {
   "cell_type": "markdown",
   "metadata": {},
   "source": [
    "4. Count the number 4 in a given list"
   ]
  },
  {
   "cell_type": "code",
   "execution_count": 4,
   "metadata": {},
   "outputs": [
    {
     "data": {
      "text/plain": [
       "2"
      ]
     },
     "execution_count": 4,
     "metadata": {},
     "output_type": "execute_result"
    }
   ],
   "source": [
    "mylist = [1, 4, 3, 4, 5, 6]\n",
    "mylist.count(4)"
   ]
  },
  {
   "cell_type": "markdown",
   "metadata": {},
   "source": [
    "5. create a histogram from a given list of integers"
   ]
  },
  {
   "cell_type": "code",
   "execution_count": 5,
   "metadata": {},
   "outputs": [
    {
     "data": {
      "text/plain": [
       "[3, 0, 0, 2, 0, 1, 2, 4, 1, 1, 1, 3, 3, 0, 1, 4, 3, 4]"
      ]
     },
     "metadata": {},
     "output_type": "display_data"
    },
    {
     "name": "stdout",
     "output_type": "stream",
     "text": [
      "          x    \n",
      " x  x     x    \n",
      " x  x     x  x \n",
      " x  x  x  x  x \n",
      " x  x  x  x  x \n",
      " 3  0  2  1  4 "
     ]
    }
   ],
   "source": [
    "import numpy as np\n",
    "\n",
    "np.random.seed(4243285)\n",
    "\n",
    "def histogram(int_list):\n",
    "    frequency_dict = {}\n",
    "    for i in int_list:\n",
    "        if i not in frequency_dict.keys():\n",
    "            frequency_dict[i] = 1\n",
    "        else:\n",
    "            frequency_dict[i] += 1\n",
    "    hist_height = max(list(frequency_dict.values()))\n",
    "    for line in range(hist_height,0,-1):\n",
    "        thisline = ''\n",
    "        for key, freq in list(frequency_dict.items()):\n",
    "            if freq >= line:\n",
    "                thisline += ' x '\n",
    "            else:\n",
    "                thisline += '   '\n",
    "        print(thisline)\n",
    "    for n in list(frequency_dict.keys()):\n",
    "        print('', n, end=' ')\n",
    "mylist = list(np.random.randint(5,size=18))   \n",
    "display(mylist)\n",
    "histogram(mylist) "
   ]
  },
  {
   "cell_type": "markdown",
   "metadata": {},
   "source": [
    "6. Check whether a file exists using Python"
   ]
  },
  {
   "cell_type": "code",
   "execution_count": 6,
   "metadata": {},
   "outputs": [
    {
     "name": "stdout",
     "output_type": "stream",
     "text": [
      "False\n"
     ]
    }
   ],
   "source": [
    "import os.path\n",
    "\n",
    "print(os.path.isfile('notafile.txt'))"
   ]
  },
  {
   "cell_type": "markdown",
   "metadata": {},
   "source": [
    "7. find the type of the progression (arithmetic progression/geometric progression) and the next successive member of a given three successive members of a sequence"
   ]
  },
  {
   "cell_type": "code",
   "execution_count": 7,
   "metadata": {},
   "outputs": [
    {
     "name": "stdout",
     "output_type": "stream",
     "text": [
      "it's an arithmetic progression and the next number is 4\n",
      "it's a geometric progression and the next number is 16.0\n",
      "this doesn't look like a progression...\n"
     ]
    }
   ],
   "source": [
    "def find_progression(a,b,c):\n",
    "    if (a-b) == 0 or 0 in (a,b):\n",
    "        next_num = '?'\n",
    "        print('this doesn\\'t look like a progression...')\n",
    "    elif (a-b) == (b-c): #check if it is an arithmetic progression \n",
    "        next_num = c + (b-a)\n",
    "        print('it\\'s an arithmetic progression and the next number is', next_num)\n",
    "    elif (b/a) == (c/b): #check if it is a geometric progression\n",
    "        next_num = c * (b/a)\n",
    "        print('it\\'s a geometric progression and the next number is', next_num)\n",
    "    else:\n",
    "        next_num = '?'\n",
    "        print('this doesn\\'t look like a progression...')\n",
    "    return next_num\n",
    "    \n",
    "#test\n",
    "assert find_progression(1,2,3) == 4\n",
    "assert find_progression(2,4,8) == 16\n",
    "assert find_progression(0,5,0) =='?'"
   ]
  },
  {
   "cell_type": "markdown",
   "metadata": {},
   "source": [
    "8. Python script to display the various Date Time formats"
   ]
  },
  {
   "cell_type": "code",
   "execution_count": 8,
   "metadata": {},
   "outputs": [
    {
     "name": "stdout",
     "output_type": "stream",
     "text": [
      "2021 4 \n",
      " 15 5 \n",
      "   106\n"
     ]
    }
   ],
   "source": [
    "from datetime import datetime\n",
    "\n",
    "current_year = datetime.now().year\n",
    "current_month = datetime.now().month\n",
    "current_week_number_of_the_year = datetime.now().strftime('%W')\n",
    "current_weekday_of_week = datetime.now().strftime('%w')\n",
    "current_day_of_year = datetime.now().strftime('%j')\n",
    "\n",
    "print(current_year, current_month,'\\n',\n",
    "     current_week_number_of_the_year, current_weekday_of_week,'\\n  ',\n",
    "     current_day_of_year)"
   ]
  },
  {
   "cell_type": "markdown",
   "metadata": {},
   "source": [
    "9. Print next 5 days starting from today"
   ]
  },
  {
   "cell_type": "code",
   "execution_count": 9,
   "metadata": {},
   "outputs": [
    {
     "name": "stdout",
     "output_type": "stream",
     "text": [
      "2021-04-16\n",
      "2021-04-17\n",
      "2021-04-18\n",
      "2021-04-19\n",
      "2021-04-20\n"
     ]
    }
   ],
   "source": [
    "from datetime import date, timedelta\n",
    "\n",
    "for i in range(5):\n",
    "    print(date.today() + timedelta(days=i))"
   ]
  },
  {
   "cell_type": "markdown",
   "metadata": {},
   "source": [
    "10. Add the digits of a positive integer repeatedly until the result has a single digit"
   ]
  },
  {
   "cell_type": "code",
   "execution_count": 10,
   "metadata": {},
   "outputs": [
    {
     "data": {
      "text/plain": [
       "6"
      ]
     },
     "execution_count": 10,
     "metadata": {},
     "output_type": "execute_result"
    }
   ],
   "source": [
    "def add_digits(pos_int):\n",
    "    digits = [int(d) for d in list(str(pos_int))]\n",
    "    while len(digits) > 1:\n",
    "        digits = [int(d) for d in list(str(sum(digits)))]\n",
    "    return digits[0]\n",
    "\n",
    "add_digits(12345)"
   ]
  },
  {
   "cell_type": "markdown",
   "metadata": {},
   "source": [
    "11. find the single number in a list that doesn't occur twice"
   ]
  },
  {
   "cell_type": "code",
   "execution_count": 16,
   "metadata": {},
   "outputs": [
    {
     "data": {
      "text/plain": [
       "3"
      ]
     },
     "execution_count": 16,
     "metadata": {},
     "output_type": "execute_result"
    }
   ],
   "source": [
    "def find_unique(input_list):\n",
    "    freq_dict = {}\n",
    "    for i in set(input_list):\n",
    "        if i not in freq_dict:\n",
    "            freq_dict[i] = 1\n",
    "        else:\n",
    "            freq_dict[i] += 1\n",
    "    for k, v in freq_dict.items():\n",
    "        if v == 1:\n",
    "            return k\n",
    "        \n",
    "#test\n",
    "find_unique([5, 3, 4, 3, 4])"
   ]
  },
  {
   "cell_type": "code",
   "execution_count": null,
   "metadata": {},
   "outputs": [],
   "source": []
  }
 ],
 "metadata": {
  "kernelspec": {
   "display_name": "Python 3",
   "language": "python",
   "name": "python3"
  },
  "language_info": {
   "codemirror_mode": {
    "name": "ipython",
    "version": 3
   },
   "file_extension": ".py",
   "mimetype": "text/x-python",
   "name": "python",
   "nbconvert_exporter": "python",
   "pygments_lexer": "ipython3",
   "version": "3.8.5"
  }
 },
 "nbformat": 4,
 "nbformat_minor": 4
}
