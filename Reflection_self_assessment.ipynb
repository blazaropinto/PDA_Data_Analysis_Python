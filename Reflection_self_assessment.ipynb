{
  "nbformat": 4,
  "nbformat_minor": 0,
  "metadata": {
    "colab": {
      "name": "Copia de Reflection-self-assessment.ipynb",
      "provenance": [],
      "include_colab_link": true
    },
    "kernelspec": {
      "name": "python3",
      "display_name": "Python 3"
    },
    "language_info": {
      "name": "python"
    }
  },
  "cells": [
    {
      "cell_type": "markdown",
      "metadata": {
        "id": "view-in-github",
        "colab_type": "text"
      },
      "source": [
        "<a href=\"https://colab.research.google.com/github/blazaropinto/PDA_Data_Analysis_Python/blob/main/Reflection_self_assessment.ipynb\" target=\"_parent\"><img src=\"https://colab.research.google.com/assets/colab-badge.svg\" alt=\"Open In Colab\"/></a>"
      ]
    },
    {
      "cell_type": "markdown",
      "metadata": {
        "id": "rZjqhF0NXKBW"
      },
      "source": [
        "# Reflection and self-assessment\n",
        "\n",
        "---\n"
      ]
    },
    {
      "cell_type": "markdown",
      "metadata": {
        "id": "60dyofsmXPGL"
      },
      "source": [
        "## Self-assessment - Python programming\n",
        "\n",
        "### You are going to assess your progress in the programming part of this module, using a ranking system, then you are going to write a set of functions that will allow you to demonstrate your skills, knowledge and understanding.\n",
        "\n",
        "Reflect on your programming so far in this course.  For each of the criteria below, rank yourself from 1 to 10 using the information below to guide you.  Use the numbers between 1 and 5 and between 5 and 10 to indicate which you are closer to.   \n",
        "\n",
        "10 = totally confident that you can do this  \n",
        "5  = starting to feel confident  \n",
        "1  = not confident at all  \n",
        "\n",
        "---\n",
        "\n",
        "1.  Use basic programming concepts and notebooks independently to produce simple coded solutions. 10\n",
        "\n",
        "2.  Code and document inputs, outputs and processes within simple Python programs 10\n",
        "\n",
        "3.  Use variables of a range of types within working Python code 10\n",
        "\n",
        "4.  Explain coded solutions clearly through well-placed comments 8\n",
        "\n",
        "5.  Develop Python coded solutions which process lists of data 9\n",
        "\n",
        "6.  Use meaningful data and function names 8\n",
        "\n",
        "7.  Select and use if statements correctly for given problems 8\n",
        "\n",
        "8.  Select and use appropriate loops correctly for given problems 8\n",
        "\n",
        "9.  Demonstrate clear understanding of selection and repetition by using them appropriately in combination 8\n",
        "\n",
        "10.  Identify and use in-built and imported library functions 8\n",
        "\n",
        "11.  Develop and test the output of user-defined functions 7\n",
        "\n",
        "12.  Demonstrate clear understanding of external functions and custom functions and choose or write them appropriately 8\n",
        "\n",
        "13.  Use Google Colabs and Github together to regularly store copies of code notebooks 9\n",
        "\n",
        "14.  Produce code that is free from obvious errors 8\n",
        "\n",
        "15.  Write neat and readable code (blank lines for spacing, indentation, relevant function naming, relevant variable naming. 9\n",
        "\n",
        "16.  Use basic technical language to explain coded solutions 8\n",
        "\n",
        "17.  Identify obvious errors and look for opportunities to make code faster, more robust or more secure. 9\n",
        "\n",
        "\n",
        "## Challenge problem\n",
        "\n",
        "1.  Create a list of the criteria.  Each of the criteria should be stored as a string in the list.   \n",
        "2.  Create a second list which contains your ranks as a list of numbers.\n",
        "\n",
        "Give each list a relevant variable name.\n",
        "\n",
        "Determine the expected output and then write functions to find and display the following:\n",
        "*  average ranking\n",
        "*  the criteria with the highest ranking (there may be more than one)  \n",
        "*  the criteria with the lowest ranking (there may be more than one)\n",
        "*  the most common ranking level and all the criteria with that ranking\n",
        "*  the median ranking and the first criterion that has that ranking (the median should be found by sorting the ranking list from lowest to highest rank and finding the one in the middle.  The criterion will be the first one with that ranking in the original criteria list).\n",
        "\n",
        "Use text cells to explain what each function does and what the expected output is.  Use a code cell for each function.\n"
      ]
    },
    {
      "cell_type": "code",
      "metadata": {
        "id": "im660yKGXJJN"
      },
      "source": [
        "list_criteria = ['Use basic programming concepts and notebooks independently to produce simple coded solutions.',\n",
        "              'Code and document inputs, outputs and processes within simple Python programs.',\n",
        "              'Use variables of a range of types within working Python code.',\n",
        "              'Explain coded solutions clearly through well-placed comments.',\n",
        "              'Develop Python coded solutions which process lists of data.',\n",
        "              'Use meaningful data and function names.',\n",
        "              'Select and use if statements correctly for given problems.', \n",
        "              'Select and use appropriate loops correctly for given problems.',\n",
        "              'Demonstrate clear understanding of selection and repetition by using them appropriately in combination.',\n",
        "              'Identify and use in-built and imported library functions.',\n",
        "              'Develop and test the output of user-defined functions.',\n",
        "              'Demonstrate clear understanding of external functions and custom functions and choose or write them appropriately.',\n",
        "              'Use Google Colabs and Github together to regularly store copies of code notebooks.',\n",
        "              'Produce code that is free from obvious errors.',\n",
        "              'Write neat and readable code (blank lines for spacing, indentation, relevant function naming, relevant variable naming.',\n",
        "              'Use basic technical language to explain coded solutions.',\n",
        "              'Identify obvious errors and look for opportunities to make code faster, more robust or more secure.']\n",
        "\n",
        "list_marks = [10, 10, 10, 8, 9, 8, 8, 8, 8, 8, 7, 8, 8, 8, 9, 8, 9]\n",
        "\n",
        "# make sure both have the same lenght\n",
        "assert len(list_criteria) == len(list_marks)"
      ],
      "execution_count": 1,
      "outputs": []
    },
    {
      "cell_type": "markdown",
      "metadata": {
        "id": "y8o76b815sbQ"
      },
      "source": [
        "## average ranking\n",
        "This function calculates the aritmetic mean of the list of marks.\n",
        "\n",
        "Test the following statements to check the function works as expected:\n",
        "\n",
        "1. The average will be between the lower and higher values, unless all elements of the list are equal"
      ]
    },
    {
      "cell_type": "code",
      "metadata": {
        "colab": {
          "base_uri": "https://localhost:8080/"
        },
        "id": "Ut98GbaW6ZdS",
        "outputId": "1aa5e416-e463-46db-b336-f537a213201b"
      },
      "source": [
        "def average_ranking():\n",
        "  average = round((sum(list_marks)) / len(list_marks),3)\n",
        "  return average\n",
        "\n",
        "# test\n",
        "average = average_ranking()\n",
        "\n",
        "if average > min(list_marks) and average < max(list_marks):\n",
        "  print('The average is: ', average)\n",
        "elif min(list_marks) == max(list_marks) and average == min(list_marks):\n",
        "  print('The average is: ', average)\n",
        "else:\n",
        "  print('Your calculation is wrong, your code needs to be modified')"
      ],
      "execution_count": 2,
      "outputs": [
        {
          "output_type": "stream",
          "text": [
            "The average is:  8.471\n"
          ],
          "name": "stdout"
        }
      ]
    },
    {
      "cell_type": "markdown",
      "metadata": {
        "id": "w9IMJuLb-uVX"
      },
      "source": [
        "## criteria with the highest ranking\n",
        "\n",
        "This function returns a list with the criteria scored with the highest mark.\n",
        "\n",
        "Test the following statements to check the function works as expected:\n",
        "\n",
        "1. all the criteria in the resulting list will have the same mark, the highest in the marks list \n",
        "2. the numer of criteria in this list will be equal to the number of highest marks"
      ]
    },
    {
      "cell_type": "code",
      "metadata": {
        "colab": {
          "base_uri": "https://localhost:8080/"
        },
        "id": "mQ6Tjv9B_GHw",
        "outputId": "72ecedc5-96be-40a8-f039-def3e137648e"
      },
      "source": [
        "def best_scored_criteria():\n",
        "  \n",
        "  #initialize an empty list\n",
        "  list_best_scored_criteria = []\n",
        "  \n",
        "  #add criteria with highest score assuming the mark list is in the same order\n",
        "  highest_mark = max(list_marks)\n",
        "  counter = 0   # count the loops to get the index as the .index() function returns only the index of the first appearance of the argument\n",
        "  for mark in list_marks:\n",
        "    if mark == highest_mark:\n",
        "      list_best_scored_criteria.append(list_criteria[counter])\n",
        "    counter += 1\n",
        "  return list_best_scored_criteria\n",
        "\n",
        "# test \n",
        "list_best_scored_criteria = best_scored_criteria()\n",
        "  \n",
        "# first condition\n",
        "for criteria in list_best_scored_criteria:\n",
        "  highest_mark = max(list_marks)\n",
        "\n",
        "  if list_marks[list_criteria.index(criteria)] != highest_mark:\n",
        "    print('something went wrong with:\\n', criteria)\n",
        "  else:\n",
        "    test1_pass = True\n",
        "\n",
        "# second condition\n",
        "counter = 0\n",
        "for mark in list_marks:\n",
        "  if mark == highest_mark:\n",
        "    counter +=1\n",
        "if len(list_best_scored_criteria) != counter:\n",
        "  print('wrong number of criteria...')\n",
        "else:\n",
        "  test2_pass = True\n",
        "\n",
        "#if all is ok, print the criteria\n",
        "if test1_pass and test2_pass:\n",
        "  for criteria in list_best_scored_criteria:\n",
        "    print(criteria)"
      ],
      "execution_count": 3,
      "outputs": [
        {
          "output_type": "stream",
          "text": [
            "Use basic programming concepts and notebooks independently to produce simple coded solutions.\n",
            "Code and document inputs, outputs and processes within simple Python programs.\n",
            "Use variables of a range of types within working Python code.\n"
          ],
          "name": "stdout"
        }
      ]
    },
    {
      "cell_type": "markdown",
      "metadata": {
        "id": "G5D4XKF_LypA"
      },
      "source": [
        "## criteria with the lowest ranking\n",
        "\n",
        "This function returns a list with the criteria scored with the lowest mark\n",
        "\n",
        "Test the following statements to check the function works as expected:\n",
        "\n",
        "1. all the criteria in the resulting list will have the same mark, the lowest in the marks list \n",
        "2. the numer of criteria in this list will be equal to the number of lowest marks"
      ]
    },
    {
      "cell_type": "code",
      "metadata": {
        "colab": {
          "base_uri": "https://localhost:8080/"
        },
        "id": "UxRQh4SOL3E4",
        "outputId": "b8e0cbab-0d5a-4ece-e4e5-806c71f0e164"
      },
      "source": [
        "def worst_scored_criteria():\n",
        "  \n",
        "  #initialize an empty list\n",
        "  list_worst_scored_criteria = []\n",
        "  \n",
        "  #add criteria with lowest score assuming the mark list is in the same order\n",
        "  lowest_mark = min(list_marks)\n",
        "  counter = 0   \n",
        "  for mark in list_marks:\n",
        "    if mark == lowest_mark:\n",
        "      list_worst_scored_criteria.append(list_criteria[counter])\n",
        "    counter += 1\n",
        "  return list_worst_scored_criteria\n",
        "\n",
        "# test \n",
        "list_worst_scored_criteria = worst_scored_criteria()\n",
        "  \n",
        "# first condition\n",
        "for criteria in list_worst_scored_criteria:\n",
        "  lowest_mark = min(list_marks)\n",
        "\n",
        "  if list_marks[list_criteria.index(criteria)] != lowest_mark:\n",
        "    print('something went wrong with:\\n', criteria)\n",
        "  else:\n",
        "    test1_pass = True\n",
        "\n",
        "# second condition\n",
        "counter = 0\n",
        "for mark in list_marks:\n",
        "  if mark == lowest_mark:\n",
        "    counter +=1\n",
        "if len(list_worst_scored_criteria) != counter:\n",
        "  print('wrong number of criteria...')\n",
        "else:\n",
        "  test2_pass = True\n",
        "\n",
        "#if all is ok, print the criteria\n",
        "if test1_pass and test2_pass:\n",
        "  for criteria in list_worst_scored_criteria:\n",
        "    print(criteria)"
      ],
      "execution_count": 4,
      "outputs": [
        {
          "output_type": "stream",
          "text": [
            "Develop and test the output of user-defined functions.\n"
          ],
          "name": "stdout"
        }
      ]
    },
    {
      "cell_type": "markdown",
      "metadata": {
        "id": "7s2mNWLCOUV6"
      },
      "source": [
        "## most common ranking level and all the criteria with that ranking\n",
        "\n",
        "This function returns a tuple with the most common ranking level and a list with the criteria scored with that mark\n",
        "\n",
        "Test the following statements to check the function works as expected:\n",
        "\n",
        "1. all the criteria in the resulting list will have the same mark, the one in the first pofition of the tuple\n",
        "2. the numer of criteria in the list will be equal to the number marks equal to the first position of the tuple\n",
        "3. the mark in the  first position of the tuple will be between the lower and higher values of the list of marks, unless all elements of the list are equal"
      ]
    },
    {
      "cell_type": "code",
      "metadata": {
        "colab": {
          "base_uri": "https://localhost:8080/"
        },
        "id": "k3m9x-O0OT43",
        "outputId": "7d3e45c3-2d8d-46b8-cbd4-c5e769657cff"
      },
      "source": [
        "def mode_criteria():\n",
        "\n",
        "  #initialize an empty dictionary for the calculation of the \n",
        "  used_ranks = {}\n",
        "  #loop over marks in list to get mode\n",
        "  for mark in list_marks:\n",
        "    if mark not in used_ranks.keys():\n",
        "      used_ranks[mark] = 1\n",
        "    else:\n",
        "      used_ranks[mark] += 1\n",
        "  times_mode_used = max(list(used_ranks.values()))\n",
        "  #to get the key for the value above, loop througt the dictionary\n",
        "  for k, v in used_ranks.items():\n",
        "    if v == times_mode_used:\n",
        "      rank_mode = k\n",
        "\n",
        "  #initialize an empty list for the criteria meeting the condition\n",
        "  list_mode_criteria = []\n",
        "  \n",
        "  #add criteria with the mode score assuming the mark list is in the same order\n",
        "  counter = 0   \n",
        "  for mark in list_marks:\n",
        "    if mark == rank_mode:\n",
        "      list_mode_criteria.append(list_criteria[counter])\n",
        "    counter += 1\n",
        "  \n",
        "  #return a tuple with the mode and the list\n",
        "  return rank_mode, list_mode_criteria\n",
        "\n",
        "\n",
        "\n",
        "# test\n",
        "tuple_mode = mode_criteria()\n",
        "\n",
        "# first condition\n",
        "for criteria in tuple_mode[1]:\n",
        "  \n",
        "  if list_marks[list_criteria.index(criteria)] != tuple_mode[0]:\n",
        "    print('something went wrong with:\\n', criteria)\n",
        "  else:\n",
        "    test1_pass = True\n",
        "\n",
        "# second condition\n",
        "counter = 0\n",
        "for mark in list_marks:\n",
        "  if mark == lowest_mark:\n",
        "    counter +=1\n",
        "if len(list_worst_scored_criteria) != counter:\n",
        "  print('wrong number of criteria...')\n",
        "else:\n",
        "  test2_pass = True\n",
        "\n",
        "# third condition\n",
        "if tuple_mode[0] > min(list_marks) and tuple_mode[0] < max(list_marks):\n",
        "  print('The mode is: ', tuple_mode[0])\n",
        "  test3_pass = True\n",
        "elif min(list_marks) == max(list_marks) and min(list_marks) == tuple_mode[0]:\n",
        "  print('The mode is: ', tuple_mode[0])\n",
        "  test3_pass = True\n",
        "else:\n",
        "  print('Your calculation is wrong, your code needs to be modified')\n",
        "\n",
        "#if all is ok, print the criteria in the list\n",
        "if test1_pass and test2_pass and test3_pass:\n",
        "  for criteria in tuple_mode[1]:\n",
        "    print(criteria)"
      ],
      "execution_count": 5,
      "outputs": [
        {
          "output_type": "stream",
          "text": [
            "The mode is:  8\n",
            "Explain coded solutions clearly through well-placed comments.\n",
            "Use meaningful data and function names.\n",
            "Select and use if statements correctly for given problems.\n",
            "Select and use appropriate loops correctly for given problems.\n",
            "Demonstrate clear understanding of selection and repetition by using them appropriately in combination.\n",
            "Identify and use in-built and imported library functions.\n",
            "Demonstrate clear understanding of external functions and custom functions and choose or write them appropriately.\n",
            "Use Google Colabs and Github together to regularly store copies of code notebooks.\n",
            "Produce code that is free from obvious errors.\n",
            "Use basic technical language to explain coded solutions.\n"
          ],
          "name": "stdout"
        }
      ]
    },
    {
      "cell_type": "markdown",
      "metadata": {
        "id": "dQT7fmnS4JUi"
      },
      "source": [
        "## median ranking and the first criterion that has that ranking \n",
        "\n",
        "The median should be found by sorting the ranking list from lowest to highest rank and finding the one in the middle. \n",
        "\n",
        "The criterion will be the first one with that ranking in the original criteria list.\n",
        "\n",
        "This function returns a tuple with both solutions.\n",
        "\n",
        "Test the following statements to check the function works as expected:\n",
        "\n",
        "1. the median will be between the lower and higher values of the list of marks, unless all elements of the list are equal\n",
        "\n",
        "2. The criteria will have the median rank."
      ]
    },
    {
      "cell_type": "code",
      "metadata": {
        "colab": {
          "base_uri": "https://localhost:8080/"
        },
        "id": "4dicPuC85gPp",
        "outputId": "097072b9-244c-4009-bd16-ecf7d0a6f51c"
      },
      "source": [
        "def median_ranked():\n",
        "  sorted_ranking_list = list_marks.copy()\n",
        "  sorted_ranking_list.sort()\n",
        "  # print(list_marks, sorted_ranking_list) to check..\n",
        "  median_index = int(len(sorted_ranking_list)/2)\n",
        "  median_mark = sorted_ranking_list[median_index]\n",
        "  median_rank_criteria = list_criteria[list_marks.index(median_mark)]\n",
        "  return median_mark, median_rank_criteria\n",
        "\n",
        "#test\n",
        "median_tuple = median_ranked()\n",
        "\n",
        "# first condition\n",
        "if median_tuple[0] > min(list_marks) and median_tuple[0] < max(list_marks):\n",
        "  print('The median is: ', median_tuple[0])\n",
        "  test1_pass = True\n",
        "elif min(list_marks) == max(list_marks) and min(list_marks) == median_tuple[0]:\n",
        "  print('The mode is: ', median_tuple[0])\n",
        "  test1_pass = True\n",
        "else:\n",
        "  print('Your calculation is wrong, your code needs to be modified')\n",
        "\n",
        "# second condition\n",
        "cri_rank = list_marks[list_criteria.index(median_tuple[1])]\n",
        "if cri_rank != median_tuple[0]:\n",
        "  print('test 2 failed')\n",
        "else:\n",
        "  test2_pass = True\n",
        "\n",
        "#if all is ok, print the items in the tuple\n",
        "if test1_pass and test2_pass:\n",
        "  print('The median of the given ranks is, ', median_tuple[0],\n",
        "        '\\nand the first criteria in the original list with this rank is:\\n--> \"', median_tuple[1], '\"')"
      ],
      "execution_count": 6,
      "outputs": [
        {
          "output_type": "stream",
          "text": [
            "The median is:  8\n",
            "The median of the given ranks is,  8 \n",
            "and the first criteria in the original list with this rank is:\n",
            "--> \" Explain coded solutions clearly through well-placed comments. \"\n"
          ],
          "name": "stdout"
        }
      ]
    }
  ]
}