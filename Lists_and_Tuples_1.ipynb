{
  "nbformat": 4,
  "nbformat_minor": 0,
  "metadata": {
    "colab": {
      "name": "Copia de Copia de Lists and Tuples 1.ipynb",
      "provenance": [],
      "include_colab_link": true
    },
    "kernelspec": {
      "name": "python3",
      "display_name": "Python 3"
    },
    "language_info": {
      "name": "python"
    }
  },
  "cells": [
    {
      "cell_type": "markdown",
      "metadata": {
        "id": "view-in-github",
        "colab_type": "text"
      },
      "source": [
        "<a href=\"https://colab.research.google.com/github/blazaropinto/PDA_Data_Analysis_Python/blob/main/Lists_and_Tuples_1.ipynb\" target=\"_parent\"><img src=\"https://colab.research.google.com/assets/colab-badge.svg\" alt=\"Open In Colab\"/></a>"
      ]
    },
    {
      "cell_type": "markdown",
      "metadata": {
        "id": "Z-M-RCWATK71"
      },
      "source": [
        "# Lists and tuples\n",
        "\n",
        "Often we need to store a number of single items of data together so that they can be processed together. This might be because all the data refers to one person (e.g. name, age, gender, etc) OR it might be because we have a set of data (e.g. all the items that should be displayed in a drop down list, such as all the years from this year back to 100 years ago so that someone can select their year of birth)\n",
        "\n",
        "Python has a range of data structures available including:\n",
        "*   lists  \n",
        "*   tuples  \n",
        "*   dictionaries  \n",
        "*   sets\n",
        "\n",
        "This worksheet looks at lists and tuples.\n",
        "\n",
        "## List\n",
        "A list is a set of related, individual data objects, that are indexed and can be processed as a whole, as subsets or as individual items.  Lists are stored, essentially, as contiguous items in memory so that access can be as quick as possible.  However, they are mutable (they can be changed after they are created and stored) and so those mechanisms need to include extra functionality to deal with changing list sizes.\n",
        "\n",
        "## Tuple\n",
        "Essentially the same as a list but it is immutable.  Once it has been created it can't be changed.  It is stored in memory as contiguous items, with the size required being fixed right from the start.  This makes it faster to access.\n",
        "\n",
        "The code below will create two lists and a tuple.\n",
        "*   the first list contains 1000 random numbers between 1 and 100\n",
        "*   the second list is of random length (up to 5000) and each item is one of the 9 characteristics that are protected under the Equality Act in the UK.\n",
        "*   the tuple contains the 9 protected characteristics\n",
        "\n",
        "Before you start the exercises, run the code below.  It will generate the lists and tuple so that you can use them in the exercises.  If you need to recreate the lists again (because you have changed them and need to work on the originals, just run this cell again).\n",
        "\n",
        "***Note:***  *a list variable contains a reference to the start of the list in memory, rather than storing the list itself.  This means that if you assign the list to another variable (to make a copy), it will only copy across the reference.  If you change the copy, you change the original list.*\n",
        "\n",
        "*If you need to make a copy of the list you will need to use a loop to create a new list and copy all items across.*"
      ]
    },
    {
      "cell_type": "code",
      "metadata": {
        "id": "BDRckXeQXFMT"
      },
      "source": [
        "from random import randint, choice\n",
        "\n",
        "def get_num_list():\n",
        "  num_list = [randint(1,100) for n in range(1000)]\n",
        "  return num_list\n",
        "\n",
        "def get_protected_characteristics():\n",
        "  characteristics_tuple = ('age','disability','gender reassignment','marriage and civil partnership','pregnancy and maternity','race','religion or belief','sex','sexual orientation')\n",
        "  return characteristics_tuple\n",
        "\n",
        "def get_protected_characteristic_list(protected_characteristics):                           # make sure variables name are equally spelled... common issue\n",
        "  char_list = [choice(protected_characteristics) for ch in range(randint(1,5000))]\n",
        "  return char_list\n",
        "\n",
        "nums = get_num_list()\n",
        "protected_characteristics = get_protected_characteristics()\n",
        "characteristics = get_protected_characteristic_list(protected_characteristics)"
      ],
      "execution_count": 1,
      "outputs": []
    },
    {
      "cell_type": "markdown",
      "metadata": {
        "id": "xXT38-4ZV45n"
      },
      "source": [
        "## The exercises below will use the lists:  \n",
        "*   **nums** (a list of between 1 and 1000 random numbers, each number is between 0 and 1000)\n",
        "*   **characteristics** (a list of 5000 random protected_characteristics)\n",
        "\n",
        "and the tuple:\n",
        "*  **protected_characteristics** (a set of the 9 protected characteristics identified in the Equality Act)\n",
        "\n",
        "## You can run the cell above any number of times to generate new lists."
      ]
    },
    {
      "cell_type": "markdown",
      "metadata": {
        "id": "Ft0dXl7fUuaK"
      },
      "source": [
        "---\n",
        "### Exercise 1 - list head, tail and shape\n",
        "\n",
        "Write a function, **describe_list()** which will:\n",
        "*  print the length of the list `nums`\n",
        "*  print the first 10 items in `nums`  \n",
        "*  print the last 5 items in `nums`"
      ]
    },
    {
      "cell_type": "code",
      "metadata": {
        "id": "jUcZD7mmTJdA",
        "colab": {
          "base_uri": "https://localhost:8080/"
        },
        "outputId": "e9bc4000-3d20-4219-c126-b135a741cf83"
      },
      "source": [
        "def describe_list():\n",
        "  print(len(nums))\n",
        "  print(nums[:10])\n",
        "  print(nums[-5:])\n",
        "\n",
        "describe_list()"
      ],
      "execution_count": 2,
      "outputs": [
        {
          "output_type": "stream",
          "text": [
            "1000\n",
            "[75, 63, 22, 75, 70, 96, 67, 36, 2, 4]\n",
            "[7, 38, 88, 14, 86]\n"
          ],
          "name": "stdout"
        }
      ]
    },
    {
      "cell_type": "markdown",
      "metadata": {
        "id": "yNWg08k6bXv0"
      },
      "source": [
        "---\n",
        "### Exercise 2 - show tuple items\n",
        "\n",
        "Write a function which will:\n",
        "*   use a loop to print the list of protected characteristics from the `protected_characteristics` tuple.\n"
      ]
    },
    {
      "cell_type": "code",
      "metadata": {
        "id": "P2HnCG9pb1BS",
        "colab": {
          "base_uri": "https://localhost:8080/"
        },
        "outputId": "9f857ae0-6970-4af3-d55b-29f298629d0b"
      },
      "source": [
        "def show_tuple_items():\n",
        "  for item in protected_characteristics:\n",
        "    print(item)\n",
        "\n",
        "show_tuple_items()"
      ],
      "execution_count": 3,
      "outputs": [
        {
          "output_type": "stream",
          "text": [
            "age\n",
            "disability\n",
            "gender reassignment\n",
            "marriage and civil partnership\n",
            "pregnancy and maternity\n",
            "race\n",
            "religion or belief\n",
            "sex\n",
            "sexual orientation\n"
          ],
          "name": "stdout"
        }
      ]
    },
    {
      "cell_type": "markdown",
      "metadata": {
        "id": "RTSuQZs4b1JU"
      },
      "source": [
        "---\n",
        "### Exercise 3 - list a random subset\n",
        "\n",
        "Write a function which will:\n",
        "*  calculate the position of the middle item in the `characteristics` list   \n",
        "(*Hint: use len() to help with this*)\n",
        "*  calculate the position of the item that is 5 places before the middle item\n",
        "*  calculate the position of the item that is 5 places after the middle item\n",
        "*  print the part of the list that includes the items from 5 places before to 5 places after.  \n",
        "\n",
        "Expected output:  \n",
        "Your list will include 11 items."
      ]
    },
    {
      "cell_type": "code",
      "metadata": {
        "id": "OwhFnH2kdC11",
        "colab": {
          "base_uri": "https://localhost:8080/"
        },
        "outputId": "7242ef96-ed7e-4d6d-f4f5-bca646ca49a6"
      },
      "source": [
        "def print_middle():\n",
        "  middle_position = round((len(characteristics)/2))   # division in python gives a float, but obviously an integer is needed for slicing... \n",
        "                                                      # to solve it cast to int or round (to 0 decimal places, the default so no need to especify that) \n",
        "  # print(middle_position) # here a quick check..\n",
        "  position_5_before_middle = middle_position - 5\n",
        "  position_5_after_middle = middle_position + 5\n",
        "  print(characteristics[position_5_before_middle:position_5_after_middle+1])\n",
        "\n",
        "print_middle()"
      ],
      "execution_count": 4,
      "outputs": [
        {
          "output_type": "stream",
          "text": [
            "['disability', 'disability', 'race', 'age', 'religion or belief', 'age', 'sex', 'race', 'marriage and civil partnership', 'disability', 'gender reassignment']\n"
          ],
          "name": "stdout"
        }
      ]
    },
    {
      "cell_type": "markdown",
      "metadata": {
        "id": "KS0x3oFNePI9"
      },
      "source": [
        "---\n",
        "### Exercise 4 - create a copy\n",
        "\n",
        "Write a function which will: use a for loop to create a copy of the `nums` list:\n",
        "\n",
        "*   create a new, empty, list called **new_nums**  (*Hint: an empty list is [ ]*)\n",
        "*   use a for loop which uses the following syntax:  `for num in nums:`\n",
        "*   each time round the loop append `num` to `new_nums`  ( *`new_nums.append(num)`*)\n",
        "*   print the first 10 items of `new_nums`\n",
        "*   print the first 10 items of `nums`\n",
        "*   print the length of both lists"
      ]
    },
    {
      "cell_type": "code",
      "metadata": {
        "id": "mpK1Ip3we-uC",
        "colab": {
          "base_uri": "https://localhost:8080/"
        },
        "outputId": "a26e64e1-0e91-4a7e-987e-8a128e0e1134"
      },
      "source": [
        "def copy_nums():\n",
        "  new_nums = []\n",
        "  for num in nums:\n",
        "    new_nums.append(num)\n",
        "  print(new_nums[:10])\n",
        "  print(nums[:10])\n",
        "  print('The lenght of the list is, respectively:', len(new_nums), 'and', len(nums))\n",
        "\n",
        "copy_nums()"
      ],
      "execution_count": 5,
      "outputs": [
        {
          "output_type": "stream",
          "text": [
            "[75, 63, 22, 75, 70, 96, 67, 36, 2, 4]\n",
            "[75, 63, 22, 75, 70, 96, 67, 36, 2, 4]\n",
            "The lenght of the list is, respectively: 1000 and 1000\n"
          ],
          "name": "stdout"
        }
      ]
    },
    {
      "cell_type": "markdown",
      "metadata": {
        "id": "deUIFWjRe-3G"
      },
      "source": [
        "\n",
        "\n",
        "```\n",
        "# This is formatted as code\n",
        "```\n",
        "\n",
        "---\n",
        "### Exercise 5 - count the occurrence of age in characteristics\n",
        "\n",
        "Write a function which will use the list method:\n",
        "\n",
        "`list_name.count(item)`\n",
        "\n",
        "to count the number of occurrences of 'age' in the `characteristics` list.  Print the result."
      ]
    },
    {
      "cell_type": "code",
      "metadata": {
        "id": "b9TrHQ9hfoIU",
        "colab": {
          "base_uri": "https://localhost:8080/"
        },
        "outputId": "1dc3f10a-bfab-4008-9491-9a88ece87db9"
      },
      "source": [
        "def count_age():\n",
        "  print(characteristics.count('age'))\n",
        "\n",
        "count_age()"
      ],
      "execution_count": 6,
      "outputs": [
        {
          "output_type": "stream",
          "text": [
            "80\n"
          ],
          "name": "stdout"
        }
      ]
    },
    {
      "cell_type": "markdown",
      "metadata": {
        "id": "zm2VI5RmfoSy"
      },
      "source": [
        "---\n",
        "### Exercise 6 - sort the nums list\n",
        "\n",
        "Write a function which will:\n",
        "*   call the function `get_num_list()` and store the result in a new list called **sort_nums**\n",
        "*   print the first, and last, 20 items in the `sort_nums` list\n",
        "*   use the `list_name.sort()` method to sort the `sort_nums` list into ascending order\n",
        "*   print the first, and last, 20 items again  \n",
        "*   use the `list_name.sort()` method again to sort the `sort_nums` list into descending order\n",
        "*   print the first, and last, 20 items again"
      ]
    },
    {
      "cell_type": "code",
      "metadata": {
        "id": "Fksgpj9JgWDs",
        "colab": {
          "base_uri": "https://localhost:8080/"
        },
        "outputId": "311827f8-a9fe-4369-e2be-fb99a0537af5"
      },
      "source": [
        "def sort_the_nums_list():\n",
        "  sort_nums = get_num_list()\n",
        "  print(sort_nums[:20], sort_nums[-20:])\n",
        "  sort_nums.sort()\n",
        "  print(sort_nums[:20], sort_nums[-20:])\n",
        "  sort_nums.sort(reverse=True)\n",
        "  print(sort_nums[:20], sort_nums[-20:])\n",
        "\n",
        "sort_the_nums_list()"
      ],
      "execution_count": null,
      "outputs": [
        {
          "output_type": "stream",
          "text": [
            "[63, 73, 81, 30, 26, 36, 59, 47, 25, 23, 74, 10, 3, 19, 52, 86, 25, 67, 71, 44] [36, 23, 15, 18, 74, 84, 11, 41, 12, 40, 89, 1, 99, 12, 25, 98, 73, 75, 4, 52]\n",
            "[1, 1, 1, 1, 1, 1, 1, 1, 1, 1, 2, 2, 2, 2, 2, 2, 2, 2, 2, 2] [98, 98, 98, 99, 99, 99, 99, 99, 99, 100, 100, 100, 100, 100, 100, 100, 100, 100, 100, 100]\n",
            "[100, 100, 100, 100, 100, 100, 100, 100, 100, 100, 100, 99, 99, 99, 99, 99, 99, 98, 98, 98] [2, 2, 2, 2, 2, 2, 2, 2, 2, 2, 1, 1, 1, 1, 1, 1, 1, 1, 1, 1]\n"
          ],
          "name": "stdout"
        }
      ]
    },
    {
      "cell_type": "code",
      "metadata": {
        "colab": {
          "base_uri": "https://localhost:8080/"
        },
        "id": "6UnfT6NfC7K7",
        "outputId": "33f79a3e-e0d1-419c-ca00-1a48973e9485"
      },
      "source": [
        "help(list.sort)"
      ],
      "execution_count": null,
      "outputs": [
        {
          "output_type": "stream",
          "text": [
            "Help on method_descriptor:\n",
            "\n",
            "sort(self, /, *, key=None, reverse=False)\n",
            "    Stable sort *IN PLACE*.\n",
            "\n"
          ],
          "name": "stdout"
        }
      ]
    },
    {
      "cell_type": "markdown",
      "metadata": {
        "id": "_OF-Xuj1UrW0"
      },
      "source": [
        "---\n",
        "### Exercise 7 - get statistics (max(), min(), sum() )\n",
        "\n",
        "Write a function which will:\n",
        "*   print the maximum and minimum numbers in the `nums` list  \n",
        "*   print the sum of the `nums` list\n",
        "*   calculate and print the average of the `nums` list (using `len()` to help)"
      ]
    },
    {
      "cell_type": "code",
      "metadata": {
        "id": "9YmYMenZVGod",
        "colab": {
          "base_uri": "https://localhost:8080/"
        },
        "outputId": "a023013a-019c-4c19-b954-d76b6f46b619"
      },
      "source": [
        "def get_statistics():\n",
        "  print(max(nums), min(nums))\n",
        "  print(sum(nums))\n",
        "  print(sum(nums)/len(nums))\n",
        "\n",
        "get_statistics()"
      ],
      "execution_count": null,
      "outputs": [
        {
          "output_type": "stream",
          "text": [
            "100 1\n",
            "50546\n",
            "50.546\n"
          ],
          "name": "stdout"
        }
      ]
    },
    {
      "cell_type": "markdown",
      "metadata": {
        "id": "Mn4tHQ_KVbHa"
      },
      "source": [
        "---\n",
        "### Exercise 8 - percentage difference\n",
        "\n",
        "Write a function which will:\n",
        "*   generate a new list called **ex8_nums** using `get_num_list()`\n",
        "*   calculate and print the percentage of the first number in `ex8_nums` that is the difference between it and the first number in `nums` (subtract **ex8_num** from **num**, divide by `nums` and multiply by 100)\n",
        "*   calculate and print the percentage difference between the last numbers in each list in the same way\n",
        "*   calculate and print the percentage difference between the middle numbers in each list in the same way.\n",
        "*   calculate and print the percentage difference between the sums of each list in the same way"
      ]
    },
    {
      "cell_type": "code",
      "metadata": {
        "id": "nJCQjZIeZL0e",
        "colab": {
          "base_uri": "https://localhost:8080/"
        },
        "outputId": "84d663f5-fa89-4d1b-bd46-976d678ccc6e"
      },
      "source": [
        "def percentage_difference():\n",
        "  ex8_nums = get_num_list()\n",
        "  print(round(((ex8_nums[0]-nums[0])*100/nums[0]),2), '%')\n",
        "  print(round(((ex8_nums[-1]-nums[-1])*100/nums[-1]),2), '%')\n",
        "  middle_number_position = int(len(ex8_nums)/2)\n",
        "  print(round(((ex8_nums[middle_number_position]-nums[middle_number_position])*100/nums[middle_number_position]),2), '%')\n",
        "  print(round(((sum(ex8_nums)-sum(nums))*100/sum(nums)),2), '%')\n",
        "\n",
        "percentage_difference()"
      ],
      "execution_count": null,
      "outputs": [
        {
          "output_type": "stream",
          "text": [
            "-58.95 %\n",
            "3.85 %\n",
            "23.33 %\n",
            "-0.02 %\n"
          ],
          "name": "stdout"
        }
      ]
    },
    {
      "cell_type": "code",
      "metadata": {
        "colab": {
          "base_uri": "https://localhost:8080/"
        },
        "id": "yMH-ue6fL46P",
        "outputId": "7509c789-426a-41bf-c1c9-9c93a12830d4"
      },
      "source": [
        "def percentage_difference2():\n",
        "  ex8_nums = get_num_list()\n",
        "  middle_number_position = int(len(ex8_nums)/2)\n",
        "  positions = [0, -1, middle_number_position]\n",
        "  for p in positions:\n",
        "    print(round(((ex8_nums[p]-nums[p])*100/nums[p]),2), '%')\n",
        "  print(round(((sum(ex8_nums)-sum(nums))*100/sum(nums)),2), '%')\n",
        "\n",
        "percentage_difference2() #random lists..."
      ],
      "execution_count": null,
      "outputs": [
        {
          "output_type": "stream",
          "text": [
            "-49.47 %\n",
            "-75.64 %\n",
            "31.67 %\n",
            "-3.94 %\n"
          ],
          "name": "stdout"
        }
      ]
    },
    {
      "cell_type": "markdown",
      "metadata": {
        "id": "HNs3lZmYawFO"
      },
      "source": [
        "---\n",
        "### Exercise 9 - characteristic counts\n",
        "\n",
        "Write a function which will:\n",
        "*  iterate through the `protected_characteristics` tuple and for each **characteristic**:\n",
        "*   *   count the number of occurrences of that `characteristic` in the `characteristics` list\n",
        "*   *   print the `protected_characteristic` and the **count**  \n",
        "\n",
        "Example expected output:\n",
        "\n",
        "age 100  \n",
        "disability 120  \n",
        "gender reassignment 120  \n",
        "marriage and civil partnership 111  \n",
        "pregnancy and maternity 103  \n",
        "race 106  \n",
        "religion or belief 95  \n",
        "sex 110  \n",
        "sexual orientation 113  \n",
        "\n",
        "Extra learning:  you can read [here](https://thispointer.com/python-how-to-pad-strings-with-zero-space-or-some-other-character/) how to justify the printed characteristic so that the output is organised into two columns as shown below:  \n",
        "![tabulated output](https://drive.google.com/uc?id=1CCXfX6K5ZeDefnq7vUsqxCDmqvcfY8Mz)\n",
        "\n",
        "\n",
        "\n"
      ]
    },
    {
      "cell_type": "code",
      "metadata": {
        "id": "GURT11albqUs",
        "colab": {
          "base_uri": "https://localhost:8080/"
        },
        "outputId": "abf55fe5-27c9-4e9a-c7a3-c448058e9f03"
      },
      "source": [
        "def characteristic_counts():\n",
        "  for characteristic in protected_characteristics:\n",
        "    print(characteristic, characteristics.count(characteristic))\n",
        "\n",
        "characteristic_counts()"
      ],
      "execution_count": null,
      "outputs": [
        {
          "output_type": "stream",
          "text": [
            "age 153\n",
            "disability 156\n",
            "gender reassignment 136\n",
            "marriage and civil partnership 161\n",
            "pregnancy and maternity 122\n",
            "race 126\n",
            "religion or belief 126\n",
            "sex 135\n",
            "sexual orientation 144\n"
          ],
          "name": "stdout"
        }
      ]
    },
    {
      "cell_type": "markdown",
      "metadata": {
        "id": "9Po7yQj-ds38"
      },
      "source": [
        "---\n",
        "### Exercise 10 - characteristics statistics\n",
        "\n",
        "Assuming that the `characteristics` list may have been taken from a study of cases that have been taken to court in relation to the Equality Act.  \n",
        "\n",
        "Write a function which will:\n",
        "\n",
        "*   find the most common characteristic resulting in court action, from this population\n",
        "*   print this in a message, e.g. The characteristic with the highest number of court cases is:  *characteristic*\n",
        "*   print the list of `protected_characteristics`, on one line if possible - see [here](https://www.geeksforgeeks.org/g-fact-25-print-single-multiple-variable-python/)\n",
        "*   ask the user to enter a characteristic that they would like to see statistics on and use a while loop to continue until the user has entered a valid characteristic\n",
        "*   print the characteristic, its frequency and the percentage that this frequency is of the whole population."
      ]
    },
    {
      "cell_type": "code",
      "metadata": {
        "id": "uk_I5z7UgbDs",
        "colab": {
          "base_uri": "https://localhost:8080/"
        },
        "outputId": "ac7031a8-9ffe-476b-d1b7-2b4e6f60c389"
      },
      "source": [
        "def characteristics_statistics():\n",
        "  #create the same counter as above but in a list of tuples\n",
        "  char_count = []\n",
        "  for characteristic in protected_characteristics:\n",
        "    char_count.append((characteristic, characteristics.count(characteristic)))\n",
        "  # print(max(char_count)) does not work with lists of tuples with different data types\n",
        "  #print(char_count) to check\n",
        "  # unpack the tuple\n",
        "  char = [i[0] for i in char_count]\n",
        "  counting =  [i[1] for i in char_count]\n",
        "  #use the index of the max in one list to get the corresponding value in the other list\n",
        "  print('The characteristic with the highest number of court cases is:', char[counting.index(max(counting))])\n",
        "\n",
        "  #print characteristics on one line\n",
        "  for characteristic in protected_characteristics:\n",
        "    print(characteristic, end=' ')\n",
        "  print('\\n') #to change line at the end of the loop\n",
        "\n",
        "  # ask user...\n",
        "  userchar = '_'\n",
        "  while userchar not in protected_characteristics:\n",
        "    userchar = input('please enter a characteristic that they would like to see statistics on: ')\n",
        "  print(userchar, counting[char.index(userchar)], round((counting[char.index(userchar)] * 100/ len(characteristics)),2), '%')\n",
        "\n",
        "characteristics_statistics()"
      ],
      "execution_count": null,
      "outputs": [
        {
          "output_type": "stream",
          "text": [
            "The characteristic with the highest number of court cases is: marriage and civil partnership\n",
            "age disability gender reassignment marriage and civil partnership pregnancy and maternity race religion or belief sex sexual orientation \n",
            "\n",
            "please enter a characteristic that they would like to see statistics on: als\n",
            "please enter a characteristic that they would like to see statistics on: adsfa\n",
            "please enter a characteristic that they would like to see statistics on: sdf\n",
            "please enter a characteristic that they would like to see statistics on: age\n",
            "age 153 12.15 %\n"
          ],
          "name": "stdout"
        }
      ]
    }
  ]
}