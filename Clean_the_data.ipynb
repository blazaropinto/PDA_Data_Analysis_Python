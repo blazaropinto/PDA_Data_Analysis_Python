{
  "nbformat": 4,
  "nbformat_minor": 0,
  "metadata": {
    "colab": {
      "name": "Copia de Clean the data.ipynb",
      "provenance": [],
      "include_colab_link": true
    },
    "kernelspec": {
      "name": "python3",
      "display_name": "Python 3"
    },
    "language_info": {
      "name": "python"
    }
  },
  "cells": [
    {
      "cell_type": "markdown",
      "metadata": {
        "id": "view-in-github",
        "colab_type": "text"
      },
      "source": [
        "<a href=\"https://colab.research.google.com/github/blazaropinto/PDA_Data_Analysis_Python/blob/main/Clean_the_data.ipynb\" target=\"_parent\"><img src=\"https://colab.research.google.com/assets/colab-badge.svg\" alt=\"Open In Colab\"/></a>"
      ]
    },
    {
      "cell_type": "markdown",
      "metadata": {
        "id": "8orImwy7DgGg"
      },
      "source": [
        "# Clean these data sets\n",
        "---\n",
        "\n",
        "\n",
        "The data in the following files has missing values, incorrectly formatted dates an incorrect data value, empty columns.\n",
        "\n",
        "Open each file, inspect the data, make decisions about how to deal with incorrect or missing data and clean the data set.  \n",
        "\n",
        "Make decisions about missing values - should the whole record be removed or is it obvious what the missing data should be?\n",
        "\n",
        "Remove rows where you have made the decision to do so.  \n",
        "Fill in values where you have made the decision to do so.  \n",
        "\n",
        "Remove empty columns.\n",
        "\n",
        "Format dates correctly (see [datetime worksheet](https://github.com/futureCodersSE/working-with-data/blob/main/Worksheet_functions_datetime.ipynb))    \n",
        "\n",
        "Once you have cleaned each data set, save the data set into a CSV file on your computer.\n",
        "\n",
        "To do this:  \n",
        "```\n",
        "from google.colab import files\n",
        "dataframe_name.to_csv('filename.csv') \n",
        "files.download('filename.csv')\n",
        "```\n",
        "\n",
        "---\n",
        "\n",
        "### Data set 1 - Calorie burning\n"
      ]
    },
    {
      "cell_type": "code",
      "metadata": {
        "id": "T182pRmGDd1o",
        "colab": {
          "base_uri": "https://localhost:8080/",
          "height": 204
        },
        "outputId": "e0f69fe1-e1e7-4e1b-d57c-ec0c7a4d037e"
      },
      "source": [
        "import pandas as pd\n",
        "url1 = \"https://github.com/futureCodersSE/working-with-data/blob/main/Data%20sets/Data%20Cleaning%20Data%20Sets/dirtydata.csv\"\n",
        "url1_raw = 'https://raw.githubusercontent.com/futureCodersSE/working-with-data/main/Data%20sets/Data%20Cleaning%20Data%20Sets/dirtydata.csv'\n",
        "\n",
        "dataset1 = pd.read_csv(url1_raw)\n",
        "dataset1.head()"
      ],
      "execution_count": null,
      "outputs": [
        {
          "output_type": "execute_result",
          "data": {
            "text/html": [
              "<div>\n",
              "<style scoped>\n",
              "    .dataframe tbody tr th:only-of-type {\n",
              "        vertical-align: middle;\n",
              "    }\n",
              "\n",
              "    .dataframe tbody tr th {\n",
              "        vertical-align: top;\n",
              "    }\n",
              "\n",
              "    .dataframe thead th {\n",
              "        text-align: right;\n",
              "    }\n",
              "</style>\n",
              "<table border=\"1\" class=\"dataframe\">\n",
              "  <thead>\n",
              "    <tr style=\"text-align: right;\">\n",
              "      <th></th>\n",
              "      <th>Duration</th>\n",
              "      <th>Date</th>\n",
              "      <th>Pulse</th>\n",
              "      <th>Maxpulse</th>\n",
              "      <th>Calories</th>\n",
              "    </tr>\n",
              "  </thead>\n",
              "  <tbody>\n",
              "    <tr>\n",
              "      <th>0</th>\n",
              "      <td>60</td>\n",
              "      <td>'2020/12/01'</td>\n",
              "      <td>110</td>\n",
              "      <td>130</td>\n",
              "      <td>409.1</td>\n",
              "    </tr>\n",
              "    <tr>\n",
              "      <th>1</th>\n",
              "      <td>60</td>\n",
              "      <td>'2020/12/02'</td>\n",
              "      <td>117</td>\n",
              "      <td>145</td>\n",
              "      <td>479.0</td>\n",
              "    </tr>\n",
              "    <tr>\n",
              "      <th>2</th>\n",
              "      <td>60</td>\n",
              "      <td>'2020/12/03'</td>\n",
              "      <td>103</td>\n",
              "      <td>135</td>\n",
              "      <td>340.0</td>\n",
              "    </tr>\n",
              "    <tr>\n",
              "      <th>3</th>\n",
              "      <td>45</td>\n",
              "      <td>'2020/12/04'</td>\n",
              "      <td>109</td>\n",
              "      <td>175</td>\n",
              "      <td>282.4</td>\n",
              "    </tr>\n",
              "    <tr>\n",
              "      <th>4</th>\n",
              "      <td>45</td>\n",
              "      <td>'2020/12/05'</td>\n",
              "      <td>117</td>\n",
              "      <td>148</td>\n",
              "      <td>406.0</td>\n",
              "    </tr>\n",
              "  </tbody>\n",
              "</table>\n",
              "</div>"
            ],
            "text/plain": [
              "   Duration          Date  Pulse  Maxpulse  Calories\n",
              "0        60  '2020/12/01'    110       130     409.1\n",
              "1        60  '2020/12/02'    117       145     479.0\n",
              "2        60  '2020/12/03'    103       135     340.0\n",
              "3        45  '2020/12/04'    109       175     282.4\n",
              "4        45  '2020/12/05'    117       148     406.0"
            ]
          },
          "metadata": {
            "tags": []
          },
          "execution_count": 2
        }
      ]
    },
    {
      "cell_type": "markdown",
      "metadata": {
        "id": "3fWCIZb44Hhs"
      },
      "source": [
        "* Start by inspecting the data"
      ]
    },
    {
      "cell_type": "code",
      "metadata": {
        "colab": {
          "base_uri": "https://localhost:8080/"
        },
        "id": "HVbai40r4PA5",
        "outputId": "eb3de67b-27fe-49c6-c1af-3ce4ce8dee36"
      },
      "source": [
        "dataset1.info()"
      ],
      "execution_count": null,
      "outputs": [
        {
          "output_type": "stream",
          "text": [
            "<class 'pandas.core.frame.DataFrame'>\n",
            "RangeIndex: 32 entries, 0 to 31\n",
            "Data columns (total 5 columns):\n",
            " #   Column    Non-Null Count  Dtype  \n",
            "---  ------    --------------  -----  \n",
            " 0   Duration  32 non-null     int64  \n",
            " 1   Date      31 non-null     object \n",
            " 2   Pulse     32 non-null     int64  \n",
            " 3   Maxpulse  32 non-null     int64  \n",
            " 4   Calories  30 non-null     float64\n",
            "dtypes: float64(1), int64(3), object(1)\n",
            "memory usage: 1.4+ KB\n"
          ],
          "name": "stdout"
        }
      ]
    },
    {
      "cell_type": "markdown",
      "metadata": {
        "id": "VYZD7n3b4m4-"
      },
      "source": [
        "* The dtype of the column date is `object`, probably most of them are strings. We can use `.strptime()` on each element or just use the pandas function`.to_datetime()`"
      ]
    },
    {
      "cell_type": "code",
      "metadata": {
        "colab": {
          "base_uri": "https://localhost:8080/"
        },
        "id": "pUhvJ7Q24VUN",
        "outputId": "d48f484c-f034-44c1-c62a-b76ddf981450"
      },
      "source": [
        "dataset1.Date = pd.to_datetime(dataset1.Date)\n",
        "dataset1.dtypes"
      ],
      "execution_count": null,
      "outputs": [
        {
          "output_type": "execute_result",
          "data": {
            "text/plain": [
              "Duration             int64\n",
              "Date        datetime64[ns]\n",
              "Pulse                int64\n",
              "Maxpulse             int64\n",
              "Calories           float64\n",
              "dtype: object"
            ]
          },
          "metadata": {
            "tags": []
          },
          "execution_count": 8
        }
      ]
    },
    {
      "cell_type": "markdown",
      "metadata": {
        "id": "LN7KBrZR6KZM"
      },
      "source": [
        "* There are only 3 missing values, take a look at these rows"
      ]
    },
    {
      "cell_type": "code",
      "metadata": {
        "colab": {
          "base_uri": "https://localhost:8080/",
          "height": 142
        },
        "id": "xz2NFuJx6CT-",
        "outputId": "6d843ab7-6039-41fe-fd37-32df9698bef5"
      },
      "source": [
        "dataset1[dataset1.isna().any(axis=1)]"
      ],
      "execution_count": null,
      "outputs": [
        {
          "output_type": "execute_result",
          "data": {
            "text/html": [
              "<div>\n",
              "<style scoped>\n",
              "    .dataframe tbody tr th:only-of-type {\n",
              "        vertical-align: middle;\n",
              "    }\n",
              "\n",
              "    .dataframe tbody tr th {\n",
              "        vertical-align: top;\n",
              "    }\n",
              "\n",
              "    .dataframe thead th {\n",
              "        text-align: right;\n",
              "    }\n",
              "</style>\n",
              "<table border=\"1\" class=\"dataframe\">\n",
              "  <thead>\n",
              "    <tr style=\"text-align: right;\">\n",
              "      <th></th>\n",
              "      <th>Duration</th>\n",
              "      <th>Date</th>\n",
              "      <th>Pulse</th>\n",
              "      <th>Maxpulse</th>\n",
              "      <th>Calories</th>\n",
              "    </tr>\n",
              "  </thead>\n",
              "  <tbody>\n",
              "    <tr>\n",
              "      <th>18</th>\n",
              "      <td>45</td>\n",
              "      <td>2020-12-18</td>\n",
              "      <td>90</td>\n",
              "      <td>112</td>\n",
              "      <td>NaN</td>\n",
              "    </tr>\n",
              "    <tr>\n",
              "      <th>22</th>\n",
              "      <td>45</td>\n",
              "      <td>NaT</td>\n",
              "      <td>100</td>\n",
              "      <td>119</td>\n",
              "      <td>282.0</td>\n",
              "    </tr>\n",
              "    <tr>\n",
              "      <th>28</th>\n",
              "      <td>60</td>\n",
              "      <td>2020-12-28</td>\n",
              "      <td>103</td>\n",
              "      <td>132</td>\n",
              "      <td>NaN</td>\n",
              "    </tr>\n",
              "  </tbody>\n",
              "</table>\n",
              "</div>"
            ],
            "text/plain": [
              "    Duration       Date  Pulse  Maxpulse  Calories\n",
              "18        45 2020-12-18     90       112       NaN\n",
              "22        45        NaT    100       119     282.0\n",
              "28        60 2020-12-28    103       132       NaN"
            ]
          },
          "metadata": {
            "tags": []
          },
          "execution_count": 18
        }
      ]
    },
    {
      "cell_type": "markdown",
      "metadata": {
        "id": "OGmnVhhd8cW8"
      },
      "source": [
        "* The missing value in the date column can' be filled or replaced with anything, this information seems to be key for the record to mean anything so we can drop the row\n",
        "* Once this is removed  fill the missing values with an appropriate statistic use `.describe()` to inspect and decide)"
      ]
    },
    {
      "cell_type": "code",
      "metadata": {
        "colab": {
          "base_uri": "https://localhost:8080/",
          "height": 297
        },
        "id": "co8kEAue8Kai",
        "outputId": "774c9c66-92ae-4de0-b8b1-bf2ea4c31f0e"
      },
      "source": [
        "dataset1.dropna(subset=['Date'], inplace=True)\n",
        "dataset1.describe()"
      ],
      "execution_count": null,
      "outputs": [
        {
          "output_type": "execute_result",
          "data": {
            "text/html": [
              "<div>\n",
              "<style scoped>\n",
              "    .dataframe tbody tr th:only-of-type {\n",
              "        vertical-align: middle;\n",
              "    }\n",
              "\n",
              "    .dataframe tbody tr th {\n",
              "        vertical-align: top;\n",
              "    }\n",
              "\n",
              "    .dataframe thead th {\n",
              "        text-align: right;\n",
              "    }\n",
              "</style>\n",
              "<table border=\"1\" class=\"dataframe\">\n",
              "  <thead>\n",
              "    <tr style=\"text-align: right;\">\n",
              "      <th></th>\n",
              "      <th>Duration</th>\n",
              "      <th>Pulse</th>\n",
              "      <th>Maxpulse</th>\n",
              "      <th>Calories</th>\n",
              "    </tr>\n",
              "  </thead>\n",
              "  <tbody>\n",
              "    <tr>\n",
              "      <th>count</th>\n",
              "      <td>31.000000</td>\n",
              "      <td>31.000000</td>\n",
              "      <td>31.000000</td>\n",
              "      <td>29.000000</td>\n",
              "    </tr>\n",
              "    <tr>\n",
              "      <th>mean</th>\n",
              "      <td>69.193548</td>\n",
              "      <td>103.612903</td>\n",
              "      <td>128.806452</td>\n",
              "      <td>305.462069</td>\n",
              "    </tr>\n",
              "    <tr>\n",
              "      <th>std</th>\n",
              "      <td>71.064487</td>\n",
              "      <td>7.935899</td>\n",
              "      <td>13.095596</td>\n",
              "      <td>67.030470</td>\n",
              "    </tr>\n",
              "    <tr>\n",
              "      <th>min</th>\n",
              "      <td>30.000000</td>\n",
              "      <td>90.000000</td>\n",
              "      <td>101.000000</td>\n",
              "      <td>195.100000</td>\n",
              "    </tr>\n",
              "    <tr>\n",
              "      <th>25%</th>\n",
              "      <td>60.000000</td>\n",
              "      <td>100.000000</td>\n",
              "      <td>120.000000</td>\n",
              "      <td>250.700000</td>\n",
              "    </tr>\n",
              "    <tr>\n",
              "      <th>50%</th>\n",
              "      <td>60.000000</td>\n",
              "      <td>103.000000</td>\n",
              "      <td>128.000000</td>\n",
              "      <td>300.000000</td>\n",
              "    </tr>\n",
              "    <tr>\n",
              "      <th>75%</th>\n",
              "      <td>60.000000</td>\n",
              "      <td>107.000000</td>\n",
              "      <td>132.500000</td>\n",
              "      <td>345.300000</td>\n",
              "    </tr>\n",
              "    <tr>\n",
              "      <th>max</th>\n",
              "      <td>450.000000</td>\n",
              "      <td>130.000000</td>\n",
              "      <td>175.000000</td>\n",
              "      <td>479.000000</td>\n",
              "    </tr>\n",
              "  </tbody>\n",
              "</table>\n",
              "</div>"
            ],
            "text/plain": [
              "         Duration       Pulse    Maxpulse    Calories\n",
              "count   31.000000   31.000000   31.000000   29.000000\n",
              "mean    69.193548  103.612903  128.806452  305.462069\n",
              "std     71.064487    7.935899   13.095596   67.030470\n",
              "min     30.000000   90.000000  101.000000  195.100000\n",
              "25%     60.000000  100.000000  120.000000  250.700000\n",
              "50%     60.000000  103.000000  128.000000  300.000000\n",
              "75%     60.000000  107.000000  132.500000  345.300000\n",
              "max    450.000000  130.000000  175.000000  479.000000"
            ]
          },
          "metadata": {
            "tags": []
          },
          "execution_count": 20
        }
      ]
    },
    {
      "cell_type": "markdown",
      "metadata": {
        "id": "TFmpOFV1-WAK"
      },
      "source": [
        "* The mean and median seem to be fairly similar is all the numeric values"
      ]
    },
    {
      "cell_type": "code",
      "metadata": {
        "colab": {
          "base_uri": "https://localhost:8080/",
          "height": 518
        },
        "id": "zB9I4nis-TtH",
        "outputId": "0921eed2-454c-480f-e26f-901d806b7198"
      },
      "source": [
        "clean_dataset1 = dataset1.copy()\n",
        "calories_mean = clean_dataset1.Calories.mean()\n",
        "clean_dataset1.Calories = clean_dataset1.Calories.fillna(calories_mean)\n",
        "display(clean_dataset1.info(), clean_dataset1.describe())"
      ],
      "execution_count": null,
      "outputs": [
        {
          "output_type": "stream",
          "text": [
            "<class 'pandas.core.frame.DataFrame'>\n",
            "Int64Index: 31 entries, 0 to 31\n",
            "Data columns (total 5 columns):\n",
            " #   Column    Non-Null Count  Dtype         \n",
            "---  ------    --------------  -----         \n",
            " 0   Duration  31 non-null     int64         \n",
            " 1   Date      31 non-null     datetime64[ns]\n",
            " 2   Pulse     31 non-null     int64         \n",
            " 3   Maxpulse  31 non-null     int64         \n",
            " 4   Calories  31 non-null     float64       \n",
            "dtypes: datetime64[ns](1), float64(1), int64(3)\n",
            "memory usage: 1.5 KB\n"
          ],
          "name": "stdout"
        },
        {
          "output_type": "display_data",
          "data": {
            "text/plain": [
              "None"
            ]
          },
          "metadata": {
            "tags": []
          }
        },
        {
          "output_type": "display_data",
          "data": {
            "text/html": [
              "<div>\n",
              "<style scoped>\n",
              "    .dataframe tbody tr th:only-of-type {\n",
              "        vertical-align: middle;\n",
              "    }\n",
              "\n",
              "    .dataframe tbody tr th {\n",
              "        vertical-align: top;\n",
              "    }\n",
              "\n",
              "    .dataframe thead th {\n",
              "        text-align: right;\n",
              "    }\n",
              "</style>\n",
              "<table border=\"1\" class=\"dataframe\">\n",
              "  <thead>\n",
              "    <tr style=\"text-align: right;\">\n",
              "      <th></th>\n",
              "      <th>Duration</th>\n",
              "      <th>Pulse</th>\n",
              "      <th>Maxpulse</th>\n",
              "      <th>Calories</th>\n",
              "    </tr>\n",
              "  </thead>\n",
              "  <tbody>\n",
              "    <tr>\n",
              "      <th>count</th>\n",
              "      <td>31.000000</td>\n",
              "      <td>31.000000</td>\n",
              "      <td>31.000000</td>\n",
              "      <td>31.000000</td>\n",
              "    </tr>\n",
              "    <tr>\n",
              "      <th>mean</th>\n",
              "      <td>69.193548</td>\n",
              "      <td>103.612903</td>\n",
              "      <td>128.806452</td>\n",
              "      <td>305.462069</td>\n",
              "    </tr>\n",
              "    <tr>\n",
              "      <th>std</th>\n",
              "      <td>71.064487</td>\n",
              "      <td>7.935899</td>\n",
              "      <td>13.095596</td>\n",
              "      <td>64.757586</td>\n",
              "    </tr>\n",
              "    <tr>\n",
              "      <th>min</th>\n",
              "      <td>30.000000</td>\n",
              "      <td>90.000000</td>\n",
              "      <td>101.000000</td>\n",
              "      <td>195.100000</td>\n",
              "    </tr>\n",
              "    <tr>\n",
              "      <th>25%</th>\n",
              "      <td>60.000000</td>\n",
              "      <td>100.000000</td>\n",
              "      <td>120.000000</td>\n",
              "      <td>250.700000</td>\n",
              "    </tr>\n",
              "    <tr>\n",
              "      <th>50%</th>\n",
              "      <td>60.000000</td>\n",
              "      <td>103.000000</td>\n",
              "      <td>128.000000</td>\n",
              "      <td>300.000000</td>\n",
              "    </tr>\n",
              "    <tr>\n",
              "      <th>75%</th>\n",
              "      <td>60.000000</td>\n",
              "      <td>107.000000</td>\n",
              "      <td>132.500000</td>\n",
              "      <td>342.650000</td>\n",
              "    </tr>\n",
              "    <tr>\n",
              "      <th>max</th>\n",
              "      <td>450.000000</td>\n",
              "      <td>130.000000</td>\n",
              "      <td>175.000000</td>\n",
              "      <td>479.000000</td>\n",
              "    </tr>\n",
              "  </tbody>\n",
              "</table>\n",
              "</div>"
            ],
            "text/plain": [
              "         Duration       Pulse    Maxpulse    Calories\n",
              "count   31.000000   31.000000   31.000000   31.000000\n",
              "mean    69.193548  103.612903  128.806452  305.462069\n",
              "std     71.064487    7.935899   13.095596   64.757586\n",
              "min     30.000000   90.000000  101.000000  195.100000\n",
              "25%     60.000000  100.000000  120.000000  250.700000\n",
              "50%     60.000000  103.000000  128.000000  300.000000\n",
              "75%     60.000000  107.000000  132.500000  342.650000\n",
              "max    450.000000  130.000000  175.000000  479.000000"
            ]
          },
          "metadata": {
            "tags": []
          }
        }
      ]
    },
    {
      "cell_type": "code",
      "metadata": {
        "colab": {
          "base_uri": "https://localhost:8080/",
          "height": 17
        },
        "id": "eEIWZrxWeINo",
        "outputId": "7dafccc4-3375-43fd-be3c-c6cd52a33a80"
      },
      "source": [
        "from google.colab import files\n",
        "clean_dataset1.to_csv('dataset1.csv')\n",
        "files.download('dataset1.csv')"
      ],
      "execution_count": null,
      "outputs": [
        {
          "output_type": "display_data",
          "data": {
            "application/javascript": [
              "\n",
              "    async function download(id, filename, size) {\n",
              "      if (!google.colab.kernel.accessAllowed) {\n",
              "        return;\n",
              "      }\n",
              "      const div = document.createElement('div');\n",
              "      const label = document.createElement('label');\n",
              "      label.textContent = `Downloading \"${filename}\": `;\n",
              "      div.appendChild(label);\n",
              "      const progress = document.createElement('progress');\n",
              "      progress.max = size;\n",
              "      div.appendChild(progress);\n",
              "      document.body.appendChild(div);\n",
              "\n",
              "      const buffers = [];\n",
              "      let downloaded = 0;\n",
              "\n",
              "      const channel = await google.colab.kernel.comms.open(id);\n",
              "      // Send a message to notify the kernel that we're ready.\n",
              "      channel.send({})\n",
              "\n",
              "      for await (const message of channel.messages) {\n",
              "        // Send a message to notify the kernel that we're ready.\n",
              "        channel.send({})\n",
              "        if (message.buffers) {\n",
              "          for (const buffer of message.buffers) {\n",
              "            buffers.push(buffer);\n",
              "            downloaded += buffer.byteLength;\n",
              "            progress.value = downloaded;\n",
              "          }\n",
              "        }\n",
              "      }\n",
              "      const blob = new Blob(buffers, {type: 'application/binary'});\n",
              "      const a = document.createElement('a');\n",
              "      a.href = window.URL.createObjectURL(blob);\n",
              "      a.download = filename;\n",
              "      div.appendChild(a);\n",
              "      a.click();\n",
              "      div.remove();\n",
              "    }\n",
              "  "
            ],
            "text/plain": [
              "<IPython.core.display.Javascript object>"
            ]
          },
          "metadata": {
            "tags": []
          }
        },
        {
          "output_type": "display_data",
          "data": {
            "application/javascript": [
              "download(\"download_9c2330e5-9be2-4a61-a13f-86836e912722\", \"dataset1.csv\", 1010)"
            ],
            "text/plain": [
              "<IPython.core.display.Javascript object>"
            ]
          },
          "metadata": {
            "tags": []
          }
        }
      ]
    },
    {
      "cell_type": "markdown",
      "metadata": {
        "id": "blitvvRwGi_A"
      },
      "source": [
        "### Data set 2 - Presidential election voting\n",
        "---\n",
        "\n"
      ]
    },
    {
      "cell_type": "code",
      "metadata": {
        "id": "KT0Ybc2kGnV-",
        "colab": {
          "base_uri": "https://localhost:8080/",
          "height": 309
        },
        "outputId": "4ba834d3-2b77-427b-bf49-3736617d5c6a"
      },
      "source": [
        "import pandas as pd\n",
        "url2 = \"https://github.com/futureCodersSE/working-with-data/blob/main/Data%20sets/Data%20Cleaning%20Data%20Sets/presDirty.csv\"\n",
        "url2_raw = 'https://raw.githubusercontent.com/futureCodersSE/working-with-data/main/Data%20sets/Data%20Cleaning%20Data%20Sets/presDirty.csv'\n",
        "\n",
        "dataset2 = pd.read_csv(url2_raw)\n",
        "dataset2.head()"
      ],
      "execution_count": null,
      "outputs": [
        {
          "output_type": "execute_result",
          "data": {
            "text/html": [
              "<div>\n",
              "<style scoped>\n",
              "    .dataframe tbody tr th:only-of-type {\n",
              "        vertical-align: middle;\n",
              "    }\n",
              "\n",
              "    .dataframe tbody tr th {\n",
              "        vertical-align: top;\n",
              "    }\n",
              "\n",
              "    .dataframe thead th {\n",
              "        text-align: right;\n",
              "    }\n",
              "</style>\n",
              "<table border=\"1\" class=\"dataframe\">\n",
              "  <thead>\n",
              "    <tr style=\"text-align: right;\">\n",
              "      <th></th>\n",
              "      <th>cycle</th>\n",
              "      <th>branch</th>\n",
              "      <th>model</th>\n",
              "      <th>modeldate</th>\n",
              "      <th>candidate_inc</th>\n",
              "      <th>candidate_chal</th>\n",
              "      <th>nat_voteshare_other_hi</th>\n",
              "      <th>national_voteshare_inc_lo</th>\n",
              "      <th>national_voteshare_chal_lo</th>\n",
              "      <th>national_voteshare_3rd_lo</th>\n",
              "      <th>nat_voteshare_other_lo</th>\n",
              "      <th>national_turnout</th>\n",
              "      <th>national_turnout_hi</th>\n",
              "      <th>national_turnout_lo</th>\n",
              "      <th>timestamp</th>\n",
              "      <th>simulations</th>\n",
              "    </tr>\n",
              "  </thead>\n",
              "  <tbody>\n",
              "    <tr>\n",
              "      <th>0</th>\n",
              "      <td>2020</td>\n",
              "      <td>President</td>\n",
              "      <td>polls-plus</td>\n",
              "      <td>11/03/2020</td>\n",
              "      <td>Trump</td>\n",
              "      <td>Biden</td>\n",
              "      <td>1.842986</td>\n",
              "      <td>42.91262</td>\n",
              "      <td>50.87952</td>\n",
              "      <td>NaN</td>\n",
              "      <td>0.724433</td>\n",
              "      <td>157972048.0</td>\n",
              "      <td>168424640.0</td>\n",
              "      <td>147487920.0</td>\n",
              "      <td>03/11/2020 00:00</td>\n",
              "      <td>40000</td>\n",
              "    </tr>\n",
              "    <tr>\n",
              "      <th>1</th>\n",
              "      <td>2020</td>\n",
              "      <td>President</td>\n",
              "      <td>polls-plus</td>\n",
              "      <td>11/02/2020</td>\n",
              "      <td>Trump</td>\n",
              "      <td>Biden</td>\n",
              "      <td>1.842986</td>\n",
              "      <td>42.91348</td>\n",
              "      <td>50.88025</td>\n",
              "      <td>NaN</td>\n",
              "      <td>0.724433</td>\n",
              "      <td>157972048.0</td>\n",
              "      <td>168424640.0</td>\n",
              "      <td>147487920.0</td>\n",
              "      <td>02/11/2020 23:45</td>\n",
              "      <td>40000</td>\n",
              "    </tr>\n",
              "    <tr>\n",
              "      <th>2</th>\n",
              "      <td>2020</td>\n",
              "      <td>President</td>\n",
              "      <td>polls-plus</td>\n",
              "      <td>11/02/2020</td>\n",
              "      <td>Trump</td>\n",
              "      <td>Biden</td>\n",
              "      <td>1.842986</td>\n",
              "      <td>42.91348</td>\n",
              "      <td>50.88025</td>\n",
              "      <td>NaN</td>\n",
              "      <td>0.724433</td>\n",
              "      <td>157972048.0</td>\n",
              "      <td>168424640.0</td>\n",
              "      <td>147487920.0</td>\n",
              "      <td>02/11/2020 23:45</td>\n",
              "      <td>40000</td>\n",
              "    </tr>\n",
              "    <tr>\n",
              "      <th>3</th>\n",
              "      <td>2020</td>\n",
              "      <td>President</td>\n",
              "      <td>polls-plus</td>\n",
              "      <td>10/31/2020</td>\n",
              "      <td>Trump</td>\n",
              "      <td>Biden</td>\n",
              "      <td>1.835479</td>\n",
              "      <td>42.98096</td>\n",
              "      <td>50.74764</td>\n",
              "      <td>NaN</td>\n",
              "      <td>0.689802</td>\n",
              "      <td>158044784.0</td>\n",
              "      <td>168497376.0</td>\n",
              "      <td>147560672.0</td>\n",
              "      <td>31/10/2020 22:23</td>\n",
              "      <td>40000</td>\n",
              "    </tr>\n",
              "    <tr>\n",
              "      <th>4</th>\n",
              "      <td>2020</td>\n",
              "      <td>President</td>\n",
              "      <td>polls-plus</td>\n",
              "      <td>10/30/2020</td>\n",
              "      <td>Trump</td>\n",
              "      <td>Biden</td>\n",
              "      <td>1.847821</td>\n",
              "      <td>42.92510</td>\n",
              "      <td>50.72821</td>\n",
              "      <td>NaN</td>\n",
              "      <td>0.692837</td>\n",
              "      <td>156723120.0</td>\n",
              "      <td>167175712.0</td>\n",
              "      <td>146239008.0</td>\n",
              "      <td>30/10/2020 21:34</td>\n",
              "      <td>40000</td>\n",
              "    </tr>\n",
              "  </tbody>\n",
              "</table>\n",
              "</div>"
            ],
            "text/plain": [
              "   cycle     branch  ...         timestamp simulations\n",
              "0   2020  President  ...  03/11/2020 00:00       40000\n",
              "1   2020  President  ...  02/11/2020 23:45       40000\n",
              "2   2020  President  ...  02/11/2020 23:45       40000\n",
              "3   2020  President  ...  31/10/2020 22:23       40000\n",
              "4   2020  President  ...  30/10/2020 21:34       40000\n",
              "\n",
              "[5 rows x 16 columns]"
            ]
          },
          "metadata": {
            "tags": []
          },
          "execution_count": 4
        }
      ]
    },
    {
      "cell_type": "markdown",
      "metadata": {
        "id": "2rUY8PtEJSab"
      },
      "source": [
        "* Start by inspecting the data"
      ]
    },
    {
      "cell_type": "code",
      "metadata": {
        "colab": {
          "base_uri": "https://localhost:8080/"
        },
        "id": "jef-MFD3JV0O",
        "outputId": "7d19d985-cb9e-4a5d-9527-fc22cc40622b"
      },
      "source": [
        "dataset2.info()"
      ],
      "execution_count": null,
      "outputs": [
        {
          "output_type": "stream",
          "text": [
            "<class 'pandas.core.frame.DataFrame'>\n",
            "RangeIndex: 156 entries, 0 to 155\n",
            "Data columns (total 16 columns):\n",
            " #   Column                      Non-Null Count  Dtype  \n",
            "---  ------                      --------------  -----  \n",
            " 0   cycle                       156 non-null    int64  \n",
            " 1   branch                      156 non-null    object \n",
            " 2   model                       156 non-null    object \n",
            " 3   modeldate                   156 non-null    object \n",
            " 4   candidate_inc               156 non-null    object \n",
            " 5   candidate_chal              156 non-null    object \n",
            " 6   nat_voteshare_other_hi      156 non-null    float64\n",
            " 7   national_voteshare_inc_lo   156 non-null    float64\n",
            " 8   national_voteshare_chal_lo  156 non-null    float64\n",
            " 9   national_voteshare_3rd_lo   0 non-null      float64\n",
            " 10  nat_voteshare_other_lo      156 non-null    float64\n",
            " 11  national_turnout            59 non-null     float64\n",
            " 12  national_turnout_hi         59 non-null     float64\n",
            " 13  national_turnout_lo         59 non-null     float64\n",
            " 14  timestamp                   156 non-null    object \n",
            " 15  simulations                 156 non-null    int64  \n",
            "dtypes: float64(8), int64(2), object(6)\n",
            "memory usage: 19.6+ KB\n"
          ],
          "name": "stdout"
        }
      ]
    },
    {
      "cell_type": "markdown",
      "metadata": {
        "id": "OcG4V5uENoyB"
      },
      "source": [
        "* There is an empty column that can be deleted. \n",
        "* There are another 3 columns with roughly 2/3 on its values missing. Take a look at the statistics."
      ]
    },
    {
      "cell_type": "code",
      "metadata": {
        "colab": {
          "base_uri": "https://localhost:8080/",
          "height": 297
        },
        "id": "WzwoGOZpOhtY",
        "outputId": "31c131c0-bbe6-45af-bd81-1e567712877c"
      },
      "source": [
        "dataset2.drop(columns=['national_voteshare_3rd_lo'], inplace=True)\n",
        "dataset2.describe()"
      ],
      "execution_count": null,
      "outputs": [
        {
          "output_type": "execute_result",
          "data": {
            "text/html": [
              "<div>\n",
              "<style scoped>\n",
              "    .dataframe tbody tr th:only-of-type {\n",
              "        vertical-align: middle;\n",
              "    }\n",
              "\n",
              "    .dataframe tbody tr th {\n",
              "        vertical-align: top;\n",
              "    }\n",
              "\n",
              "    .dataframe thead th {\n",
              "        text-align: right;\n",
              "    }\n",
              "</style>\n",
              "<table border=\"1\" class=\"dataframe\">\n",
              "  <thead>\n",
              "    <tr style=\"text-align: right;\">\n",
              "      <th></th>\n",
              "      <th>cycle</th>\n",
              "      <th>nat_voteshare_other_hi</th>\n",
              "      <th>national_voteshare_inc_lo</th>\n",
              "      <th>national_voteshare_chal_lo</th>\n",
              "      <th>nat_voteshare_other_lo</th>\n",
              "      <th>national_turnout</th>\n",
              "      <th>national_turnout_hi</th>\n",
              "      <th>national_turnout_lo</th>\n",
              "      <th>simulations</th>\n",
              "    </tr>\n",
              "  </thead>\n",
              "  <tbody>\n",
              "    <tr>\n",
              "      <th>count</th>\n",
              "      <td>156.0</td>\n",
              "      <td>156.000000</td>\n",
              "      <td>156.000000</td>\n",
              "      <td>156.000000</td>\n",
              "      <td>156.000000</td>\n",
              "      <td>5.900000e+01</td>\n",
              "      <td>5.900000e+01</td>\n",
              "      <td>5.900000e+01</td>\n",
              "      <td>156.0</td>\n",
              "    </tr>\n",
              "    <tr>\n",
              "      <th>mean</th>\n",
              "      <td>2020.0</td>\n",
              "      <td>2.004223</td>\n",
              "      <td>41.635853</td>\n",
              "      <td>48.650009</td>\n",
              "      <td>0.681118</td>\n",
              "      <td>1.445031e+08</td>\n",
              "      <td>1.545415e+08</td>\n",
              "      <td>1.343265e+08</td>\n",
              "      <td>40000.0</td>\n",
              "    </tr>\n",
              "    <tr>\n",
              "      <th>std</th>\n",
              "      <td>0.0</td>\n",
              "      <td>0.061918</td>\n",
              "      <td>0.626373</td>\n",
              "      <td>0.973757</td>\n",
              "      <td>0.016647</td>\n",
              "      <td>5.992601e+06</td>\n",
              "      <td>6.079481e+06</td>\n",
              "      <td>5.684473e+06</td>\n",
              "      <td>0.0</td>\n",
              "    </tr>\n",
              "    <tr>\n",
              "      <th>min</th>\n",
              "      <td>2020.0</td>\n",
              "      <td>1.835479</td>\n",
              "      <td>40.595360</td>\n",
              "      <td>47.484140</td>\n",
              "      <td>0.649471</td>\n",
              "      <td>1.410000e+08</td>\n",
              "      <td>1.510000e+08</td>\n",
              "      <td>1.310000e+08</td>\n",
              "      <td>40000.0</td>\n",
              "    </tr>\n",
              "    <tr>\n",
              "      <th>25%</th>\n",
              "      <td>2020.0</td>\n",
              "      <td>1.974398</td>\n",
              "      <td>41.035355</td>\n",
              "      <td>47.892697</td>\n",
              "      <td>0.668070</td>\n",
              "      <td>1.410000e+08</td>\n",
              "      <td>1.510000e+08</td>\n",
              "      <td>1.310000e+08</td>\n",
              "      <td>40000.0</td>\n",
              "    </tr>\n",
              "    <tr>\n",
              "      <th>50%</th>\n",
              "      <td>2020.0</td>\n",
              "      <td>2.030170</td>\n",
              "      <td>41.612205</td>\n",
              "      <td>48.246395</td>\n",
              "      <td>0.677246</td>\n",
              "      <td>1.410000e+08</td>\n",
              "      <td>1.510000e+08</td>\n",
              "      <td>1.310000e+08</td>\n",
              "      <td>40000.0</td>\n",
              "    </tr>\n",
              "    <tr>\n",
              "      <th>75%</th>\n",
              "      <td>2020.0</td>\n",
              "      <td>2.048704</td>\n",
              "      <td>42.110017</td>\n",
              "      <td>49.111713</td>\n",
              "      <td>0.693379</td>\n",
              "      <td>1.430000e+08</td>\n",
              "      <td>1.530000e+08</td>\n",
              "      <td>1.330000e+08</td>\n",
              "      <td>40000.0</td>\n",
              "    </tr>\n",
              "    <tr>\n",
              "      <th>max</th>\n",
              "      <td>2020.0</td>\n",
              "      <td>2.085074</td>\n",
              "      <td>42.980960</td>\n",
              "      <td>50.880250</td>\n",
              "      <td>0.724433</td>\n",
              "      <td>1.580448e+08</td>\n",
              "      <td>1.684974e+08</td>\n",
              "      <td>1.475607e+08</td>\n",
              "      <td>40000.0</td>\n",
              "    </tr>\n",
              "  </tbody>\n",
              "</table>\n",
              "</div>"
            ],
            "text/plain": [
              "        cycle  nat_voteshare_other_hi  ...  national_turnout_lo  simulations\n",
              "count   156.0              156.000000  ...         5.900000e+01        156.0\n",
              "mean   2020.0                2.004223  ...         1.343265e+08      40000.0\n",
              "std       0.0                0.061918  ...         5.684473e+06          0.0\n",
              "min    2020.0                1.835479  ...         1.310000e+08      40000.0\n",
              "25%    2020.0                1.974398  ...         1.310000e+08      40000.0\n",
              "50%    2020.0                2.030170  ...         1.310000e+08      40000.0\n",
              "75%    2020.0                2.048704  ...         1.330000e+08      40000.0\n",
              "max    2020.0                2.085074  ...         1.475607e+08      40000.0\n",
              "\n",
              "[8 rows x 9 columns]"
            ]
          },
          "metadata": {
            "tags": []
          },
          "execution_count": 6
        }
      ]
    },
    {
      "cell_type": "markdown",
      "metadata": {
        "id": "GduZvA0FPwN3"
      },
      "source": [
        "--> in the 3 columns the median value is equal to its minimum value, but the mean is higher than the upper quartile. Inspect more the dataset before making a decision."
      ]
    },
    {
      "cell_type": "markdown",
      "metadata": {
        "id": "Y0glfoPQRDqq"
      },
      "source": [
        "Many of this columns don't seem to have the most efficient datatype. Look at the number of different values on each columns to see if they should be treated as categories"
      ]
    },
    {
      "cell_type": "code",
      "metadata": {
        "colab": {
          "base_uri": "https://localhost:8080/"
        },
        "id": "67plI0CZRkmq",
        "outputId": "d5daa239-c806-4454-d010-ce53b9e41a01"
      },
      "source": [
        "for column in dataset2.columns:\n",
        "  print(column, ': ',\n",
        "        len(dataset2[column].unique()),\n",
        "        'different values')"
      ],
      "execution_count": null,
      "outputs": [
        {
          "output_type": "stream",
          "text": [
            "cycle :  1 different values\n",
            "branch :  1 different values\n",
            "model :  1 different values\n",
            "modeldate :  155 different values\n",
            "candidate_inc :  2 different values\n",
            "candidate_chal :  1 different values\n",
            "nat_voteshare_other_hi :  154 different values\n",
            "national_voteshare_inc_lo :  155 different values\n",
            "national_voteshare_chal_lo :  155 different values\n",
            "nat_voteshare_other_lo :  154 different values\n",
            "national_turnout :  8 different values\n",
            "national_turnout_hi :  8 different values\n",
            "national_turnout_lo :  8 different values\n",
            "timestamp :  136 different values\n",
            "simulations :  1 different values\n"
          ],
          "name": "stdout"
        }
      ]
    },
    {
      "cell_type": "markdown",
      "metadata": {
        "id": "RZm2fryMSnNf"
      },
      "source": [
        "* All the columns with just 1 value could also be deleted as they don't provide valuable information, but keep the original dataset separated in case it's needed.\n",
        "* look at the 2 values of 'candidate_inc' \n"
      ]
    },
    {
      "cell_type": "code",
      "metadata": {
        "id": "n1KkFjnASvSG"
      },
      "source": [
        "clean_dataset2 = dataset2.copy()\n",
        "clean_dataset2.drop(columns=['cycle', 'branch', 'model', 'candidate_chal', 'simulations'], inplace=True)"
      ],
      "execution_count": null,
      "outputs": []
    },
    {
      "cell_type": "code",
      "metadata": {
        "colab": {
          "base_uri": "https://localhost:8080/"
        },
        "id": "2P9OI7KnVU8P",
        "outputId": "3c6004f9-8b1e-4648-8ed7-f9d9caea6792"
      },
      "source": [
        "clean_dataset2.candidate_inc.unique()"
      ],
      "execution_count": null,
      "outputs": [
        {
          "output_type": "execute_result",
          "data": {
            "text/plain": [
              "array(['Trump', ' '], dtype=object)"
            ]
          },
          "metadata": {
            "tags": []
          },
          "execution_count": 9
        }
      ]
    },
    {
      "cell_type": "code",
      "metadata": {
        "colab": {
          "base_uri": "https://localhost:8080/"
        },
        "id": "IFwBBObGVdyo",
        "outputId": "d67ccff0-11c5-468a-d960-d5dd051efd35"
      },
      "source": [
        "clean_dataset2.candidate_inc.value_counts()"
      ],
      "execution_count": null,
      "outputs": [
        {
          "output_type": "execute_result",
          "data": {
            "text/plain": [
              "Trump    154\n",
              "           2\n",
              "Name: candidate_inc, dtype: int64"
            ]
          },
          "metadata": {
            "tags": []
          },
          "execution_count": 10
        }
      ]
    },
    {
      "cell_type": "markdown",
      "metadata": {
        "id": "9ue8wG5UVrWW"
      },
      "source": [
        "--> so these couple of 'blanks' are actually unrecognized missing values"
      ]
    },
    {
      "cell_type": "markdown",
      "metadata": {
        "id": "vyYYljR5WKdz"
      },
      "source": [
        "* convert the 'timestamp' and the 'modeldate' columns into the correct pandas type and calculate the range of time of the data"
      ]
    },
    {
      "cell_type": "code",
      "metadata": {
        "colab": {
          "base_uri": "https://localhost:8080/"
        },
        "id": "esLkQb4-WeFN",
        "outputId": "33400aba-ec67-49d4-cae5-6a0b8d1fc020"
      },
      "source": [
        "clean_dataset2.timestamp = pd.to_datetime(clean_dataset2.timestamp)\n",
        "print('The data was collected from', clean_dataset2.timestamp.min(), 'to', clean_dataset2.timestamp.max())"
      ],
      "execution_count": null,
      "outputs": [
        {
          "output_type": "stream",
          "text": [
            "The data was collected from 2020-01-09 19:06:00 to 2020-12-10 21:07:00\n"
          ],
          "name": "stdout"
        }
      ]
    },
    {
      "cell_type": "markdown",
      "metadata": {
        "id": "XWbidAcKZjuw"
      },
      "source": [
        "--> This suggest the missing data in candidate_inc is also 'Trump' and there is a unique value in the column so it can be also eliminated"
      ]
    },
    {
      "cell_type": "code",
      "metadata": {
        "colab": {
          "base_uri": "https://localhost:8080/",
          "height": 204
        },
        "id": "uUs5smYP_iuT",
        "outputId": "58552420-cdda-4ea1-a844-269e3b197cc5"
      },
      "source": [
        "clean_dataset2[['modeldate', 'timestamp']].head()"
      ],
      "execution_count": null,
      "outputs": [
        {
          "output_type": "execute_result",
          "data": {
            "text/html": [
              "<div>\n",
              "<style scoped>\n",
              "    .dataframe tbody tr th:only-of-type {\n",
              "        vertical-align: middle;\n",
              "    }\n",
              "\n",
              "    .dataframe tbody tr th {\n",
              "        vertical-align: top;\n",
              "    }\n",
              "\n",
              "    .dataframe thead th {\n",
              "        text-align: right;\n",
              "    }\n",
              "</style>\n",
              "<table border=\"1\" class=\"dataframe\">\n",
              "  <thead>\n",
              "    <tr style=\"text-align: right;\">\n",
              "      <th></th>\n",
              "      <th>modeldate</th>\n",
              "      <th>timestamp</th>\n",
              "    </tr>\n",
              "  </thead>\n",
              "  <tbody>\n",
              "    <tr>\n",
              "      <th>0</th>\n",
              "      <td>11/03/2020</td>\n",
              "      <td>2020-03-11 00:00:00</td>\n",
              "    </tr>\n",
              "    <tr>\n",
              "      <th>1</th>\n",
              "      <td>11/02/2020</td>\n",
              "      <td>2020-02-11 23:45:00</td>\n",
              "    </tr>\n",
              "    <tr>\n",
              "      <th>2</th>\n",
              "      <td>11/02/2020</td>\n",
              "      <td>2020-02-11 23:45:00</td>\n",
              "    </tr>\n",
              "    <tr>\n",
              "      <th>3</th>\n",
              "      <td>10/31/2020</td>\n",
              "      <td>2020-10-31 22:23:00</td>\n",
              "    </tr>\n",
              "    <tr>\n",
              "      <th>4</th>\n",
              "      <td>10/30/2020</td>\n",
              "      <td>2020-10-30 21:34:00</td>\n",
              "    </tr>\n",
              "  </tbody>\n",
              "</table>\n",
              "</div>"
            ],
            "text/plain": [
              "    modeldate           timestamp\n",
              "0  11/03/2020 2020-03-11 00:00:00\n",
              "1  11/02/2020 2020-02-11 23:45:00\n",
              "2  11/02/2020 2020-02-11 23:45:00\n",
              "3  10/31/2020 2020-10-31 22:23:00\n",
              "4  10/30/2020 2020-10-30 21:34:00"
            ]
          },
          "metadata": {
            "tags": []
          },
          "execution_count": 18
        }
      ]
    },
    {
      "cell_type": "markdown",
      "metadata": {
        "id": "6u1nJqgr_3sP"
      },
      "source": [
        "--> 'modeldate' seems to be the data from the timestamp in US format, so it doesn't provide any information and could be deleted"
      ]
    },
    {
      "cell_type": "code",
      "metadata": {
        "id": "XZIXrbxEZ9ly"
      },
      "source": [
        "clean_dataset2.drop(['candidate_inc', 'modeldate'], axis=1, inplace=True)"
      ],
      "execution_count": null,
      "outputs": []
    },
    {
      "cell_type": "markdown",
      "metadata": {
        "id": "c2QaOuPmaVmf"
      },
      "source": [
        "* Get more info about the 3 columns that still have missing values"
      ]
    },
    {
      "cell_type": "code",
      "metadata": {
        "id": "NPqd0-HicqSP"
      },
      "source": [
        "clean_dataset2.sort_values('timestamp', inplace=True)"
      ],
      "execution_count": null,
      "outputs": []
    },
    {
      "cell_type": "code",
      "metadata": {
        "colab": {
          "base_uri": "https://localhost:8080/",
          "height": 297
        },
        "id": "6P1dFhpCaf2c",
        "outputId": "d41c6149-3286-4f20-c4e8-b00529af89f4"
      },
      "source": [
        "clean_dataset2.groupby('national_turnout').median()"
      ],
      "execution_count": null,
      "outputs": [
        {
          "output_type": "execute_result",
          "data": {
            "text/html": [
              "<div>\n",
              "<style scoped>\n",
              "    .dataframe tbody tr th:only-of-type {\n",
              "        vertical-align: middle;\n",
              "    }\n",
              "\n",
              "    .dataframe tbody tr th {\n",
              "        vertical-align: top;\n",
              "    }\n",
              "\n",
              "    .dataframe thead th {\n",
              "        text-align: right;\n",
              "    }\n",
              "</style>\n",
              "<table border=\"1\" class=\"dataframe\">\n",
              "  <thead>\n",
              "    <tr style=\"text-align: right;\">\n",
              "      <th></th>\n",
              "      <th>nat_voteshare_other_hi</th>\n",
              "      <th>national_voteshare_inc_lo</th>\n",
              "      <th>national_voteshare_chal_lo</th>\n",
              "      <th>nat_voteshare_other_lo</th>\n",
              "      <th>national_turnout_hi</th>\n",
              "      <th>national_turnout_lo</th>\n",
              "    </tr>\n",
              "    <tr>\n",
              "      <th>national_turnout</th>\n",
              "      <th></th>\n",
              "      <th></th>\n",
              "      <th></th>\n",
              "      <th></th>\n",
              "      <th></th>\n",
              "      <th></th>\n",
              "    </tr>\n",
              "  </thead>\n",
              "  <tbody>\n",
              "    <tr>\n",
              "      <th>141000000.0</th>\n",
              "      <td>1.976343</td>\n",
              "      <td>42.079610</td>\n",
              "      <td>49.089965</td>\n",
              "      <td>0.692156</td>\n",
              "      <td>151000000.0</td>\n",
              "      <td>131000000.0</td>\n",
              "    </tr>\n",
              "    <tr>\n",
              "      <th>143000000.0</th>\n",
              "      <td>1.903847</td>\n",
              "      <td>42.127560</td>\n",
              "      <td>50.480000</td>\n",
              "      <td>0.680205</td>\n",
              "      <td>153000000.0</td>\n",
              "      <td>133000000.0</td>\n",
              "    </tr>\n",
              "    <tr>\n",
              "      <th>146000000.0</th>\n",
              "      <td>1.900200</td>\n",
              "      <td>42.396420</td>\n",
              "      <td>50.503680</td>\n",
              "      <td>0.691971</td>\n",
              "      <td>156000000.0</td>\n",
              "      <td>136000000.0</td>\n",
              "    </tr>\n",
              "    <tr>\n",
              "      <th>154000000.0</th>\n",
              "      <td>1.882668</td>\n",
              "      <td>42.665595</td>\n",
              "      <td>50.564565</td>\n",
              "      <td>0.697410</td>\n",
              "      <td>164000000.0</td>\n",
              "      <td>143000000.0</td>\n",
              "    </tr>\n",
              "    <tr>\n",
              "      <th>156723120.0</th>\n",
              "      <td>1.847821</td>\n",
              "      <td>42.925100</td>\n",
              "      <td>50.728210</td>\n",
              "      <td>0.692837</td>\n",
              "      <td>167175712.0</td>\n",
              "      <td>146239008.0</td>\n",
              "    </tr>\n",
              "    <tr>\n",
              "      <th>157972048.0</th>\n",
              "      <td>1.842986</td>\n",
              "      <td>42.913480</td>\n",
              "      <td>50.880250</td>\n",
              "      <td>0.724433</td>\n",
              "      <td>168424640.0</td>\n",
              "      <td>147487920.0</td>\n",
              "    </tr>\n",
              "    <tr>\n",
              "      <th>158044784.0</th>\n",
              "      <td>1.835479</td>\n",
              "      <td>42.980960</td>\n",
              "      <td>50.747640</td>\n",
              "      <td>0.689802</td>\n",
              "      <td>168497376.0</td>\n",
              "      <td>147560672.0</td>\n",
              "    </tr>\n",
              "  </tbody>\n",
              "</table>\n",
              "</div>"
            ],
            "text/plain": [
              "                  nat_voteshare_other_hi  ...  national_turnout_lo\n",
              "national_turnout                          ...                     \n",
              "141000000.0                     1.976343  ...          131000000.0\n",
              "143000000.0                     1.903847  ...          133000000.0\n",
              "146000000.0                     1.900200  ...          136000000.0\n",
              "154000000.0                     1.882668  ...          143000000.0\n",
              "156723120.0                     1.847821  ...          146239008.0\n",
              "157972048.0                     1.842986  ...          147487920.0\n",
              "158044784.0                     1.835479  ...          147560672.0\n",
              "\n",
              "[7 rows x 6 columns]"
            ]
          },
          "metadata": {
            "tags": []
          },
          "execution_count": 28
        }
      ]
    },
    {
      "cell_type": "code",
      "metadata": {
        "colab": {
          "base_uri": "https://localhost:8080/",
          "height": 297
        },
        "id": "LWefM1y6bCXY",
        "outputId": "54c46f36-8282-4113-c501-e712c02749c5"
      },
      "source": [
        "clean_dataset2.groupby('national_turnout_hi').median()"
      ],
      "execution_count": null,
      "outputs": [
        {
          "output_type": "execute_result",
          "data": {
            "text/html": [
              "<div>\n",
              "<style scoped>\n",
              "    .dataframe tbody tr th:only-of-type {\n",
              "        vertical-align: middle;\n",
              "    }\n",
              "\n",
              "    .dataframe tbody tr th {\n",
              "        vertical-align: top;\n",
              "    }\n",
              "\n",
              "    .dataframe thead th {\n",
              "        text-align: right;\n",
              "    }\n",
              "</style>\n",
              "<table border=\"1\" class=\"dataframe\">\n",
              "  <thead>\n",
              "    <tr style=\"text-align: right;\">\n",
              "      <th></th>\n",
              "      <th>nat_voteshare_other_hi</th>\n",
              "      <th>national_voteshare_inc_lo</th>\n",
              "      <th>national_voteshare_chal_lo</th>\n",
              "      <th>nat_voteshare_other_lo</th>\n",
              "      <th>national_turnout</th>\n",
              "      <th>national_turnout_lo</th>\n",
              "    </tr>\n",
              "    <tr>\n",
              "      <th>national_turnout_hi</th>\n",
              "      <th></th>\n",
              "      <th></th>\n",
              "      <th></th>\n",
              "      <th></th>\n",
              "      <th></th>\n",
              "      <th></th>\n",
              "    </tr>\n",
              "  </thead>\n",
              "  <tbody>\n",
              "    <tr>\n",
              "      <th>151000000.0</th>\n",
              "      <td>1.976343</td>\n",
              "      <td>42.079610</td>\n",
              "      <td>49.089965</td>\n",
              "      <td>0.692156</td>\n",
              "      <td>141000000.0</td>\n",
              "      <td>131000000.0</td>\n",
              "    </tr>\n",
              "    <tr>\n",
              "      <th>153000000.0</th>\n",
              "      <td>1.903847</td>\n",
              "      <td>42.127560</td>\n",
              "      <td>50.480000</td>\n",
              "      <td>0.680205</td>\n",
              "      <td>143000000.0</td>\n",
              "      <td>133000000.0</td>\n",
              "    </tr>\n",
              "    <tr>\n",
              "      <th>156000000.0</th>\n",
              "      <td>1.900200</td>\n",
              "      <td>42.396420</td>\n",
              "      <td>50.503680</td>\n",
              "      <td>0.691971</td>\n",
              "      <td>146000000.0</td>\n",
              "      <td>136000000.0</td>\n",
              "    </tr>\n",
              "    <tr>\n",
              "      <th>164000000.0</th>\n",
              "      <td>1.882668</td>\n",
              "      <td>42.665595</td>\n",
              "      <td>50.564565</td>\n",
              "      <td>0.697410</td>\n",
              "      <td>154000000.0</td>\n",
              "      <td>143000000.0</td>\n",
              "    </tr>\n",
              "    <tr>\n",
              "      <th>167175712.0</th>\n",
              "      <td>1.847821</td>\n",
              "      <td>42.925100</td>\n",
              "      <td>50.728210</td>\n",
              "      <td>0.692837</td>\n",
              "      <td>156723120.0</td>\n",
              "      <td>146239008.0</td>\n",
              "    </tr>\n",
              "    <tr>\n",
              "      <th>168424640.0</th>\n",
              "      <td>1.842986</td>\n",
              "      <td>42.913480</td>\n",
              "      <td>50.880250</td>\n",
              "      <td>0.724433</td>\n",
              "      <td>157972048.0</td>\n",
              "      <td>147487920.0</td>\n",
              "    </tr>\n",
              "    <tr>\n",
              "      <th>168497376.0</th>\n",
              "      <td>1.835479</td>\n",
              "      <td>42.980960</td>\n",
              "      <td>50.747640</td>\n",
              "      <td>0.689802</td>\n",
              "      <td>158044784.0</td>\n",
              "      <td>147560672.0</td>\n",
              "    </tr>\n",
              "  </tbody>\n",
              "</table>\n",
              "</div>"
            ],
            "text/plain": [
              "                     nat_voteshare_other_hi  ...  national_turnout_lo\n",
              "national_turnout_hi                          ...                     \n",
              "151000000.0                        1.976343  ...          131000000.0\n",
              "153000000.0                        1.903847  ...          133000000.0\n",
              "156000000.0                        1.900200  ...          136000000.0\n",
              "164000000.0                        1.882668  ...          143000000.0\n",
              "167175712.0                        1.847821  ...          146239008.0\n",
              "168424640.0                        1.842986  ...          147487920.0\n",
              "168497376.0                        1.835479  ...          147560672.0\n",
              "\n",
              "[7 rows x 6 columns]"
            ]
          },
          "metadata": {
            "tags": []
          },
          "execution_count": 22
        }
      ]
    },
    {
      "cell_type": "code",
      "metadata": {
        "colab": {
          "base_uri": "https://localhost:8080/",
          "height": 328
        },
        "id": "gXb8DtZmbXe5",
        "outputId": "650af3be-2fed-4ea5-d40a-4a5107a68aed"
      },
      "source": [
        "clean_dataset2.groupby('national_turnout_lo').agg(['min', 'median', 'max'])"
      ],
      "execution_count": null,
      "outputs": [
        {
          "output_type": "execute_result",
          "data": {
            "text/html": [
              "<div>\n",
              "<style scoped>\n",
              "    .dataframe tbody tr th:only-of-type {\n",
              "        vertical-align: middle;\n",
              "    }\n",
              "\n",
              "    .dataframe tbody tr th {\n",
              "        vertical-align: top;\n",
              "    }\n",
              "\n",
              "    .dataframe thead tr th {\n",
              "        text-align: left;\n",
              "    }\n",
              "\n",
              "    .dataframe thead tr:last-of-type th {\n",
              "        text-align: right;\n",
              "    }\n",
              "</style>\n",
              "<table border=\"1\" class=\"dataframe\">\n",
              "  <thead>\n",
              "    <tr>\n",
              "      <th></th>\n",
              "      <th colspan=\"3\" halign=\"left\">nat_voteshare_other_hi</th>\n",
              "      <th colspan=\"3\" halign=\"left\">national_voteshare_inc_lo</th>\n",
              "      <th colspan=\"3\" halign=\"left\">national_voteshare_chal_lo</th>\n",
              "      <th colspan=\"3\" halign=\"left\">nat_voteshare_other_lo</th>\n",
              "      <th colspan=\"3\" halign=\"left\">national_turnout</th>\n",
              "      <th colspan=\"3\" halign=\"left\">national_turnout_hi</th>\n",
              "    </tr>\n",
              "    <tr>\n",
              "      <th></th>\n",
              "      <th>min</th>\n",
              "      <th>median</th>\n",
              "      <th>max</th>\n",
              "      <th>min</th>\n",
              "      <th>median</th>\n",
              "      <th>max</th>\n",
              "      <th>min</th>\n",
              "      <th>median</th>\n",
              "      <th>max</th>\n",
              "      <th>min</th>\n",
              "      <th>median</th>\n",
              "      <th>max</th>\n",
              "      <th>min</th>\n",
              "      <th>median</th>\n",
              "      <th>max</th>\n",
              "      <th>min</th>\n",
              "      <th>median</th>\n",
              "      <th>max</th>\n",
              "    </tr>\n",
              "    <tr>\n",
              "      <th>national_turnout_lo</th>\n",
              "      <th></th>\n",
              "      <th></th>\n",
              "      <th></th>\n",
              "      <th></th>\n",
              "      <th></th>\n",
              "      <th></th>\n",
              "      <th></th>\n",
              "      <th></th>\n",
              "      <th></th>\n",
              "      <th></th>\n",
              "      <th></th>\n",
              "      <th></th>\n",
              "      <th></th>\n",
              "      <th></th>\n",
              "      <th></th>\n",
              "      <th></th>\n",
              "      <th></th>\n",
              "      <th></th>\n",
              "    </tr>\n",
              "  </thead>\n",
              "  <tbody>\n",
              "    <tr>\n",
              "      <th>131000000.0</th>\n",
              "      <td>1.911543</td>\n",
              "      <td>1.976343</td>\n",
              "      <td>2.030350</td>\n",
              "      <td>41.81036</td>\n",
              "      <td>42.079610</td>\n",
              "      <td>42.44763</td>\n",
              "      <td>48.26233</td>\n",
              "      <td>49.089965</td>\n",
              "      <td>50.29504</td>\n",
              "      <td>0.673267</td>\n",
              "      <td>0.692156</td>\n",
              "      <td>0.713914</td>\n",
              "      <td>141000000.0</td>\n",
              "      <td>141000000.0</td>\n",
              "      <td>141000000.0</td>\n",
              "      <td>151000000.0</td>\n",
              "      <td>151000000.0</td>\n",
              "      <td>151000000.0</td>\n",
              "    </tr>\n",
              "    <tr>\n",
              "      <th>133000000.0</th>\n",
              "      <td>1.899508</td>\n",
              "      <td>1.903847</td>\n",
              "      <td>1.914557</td>\n",
              "      <td>42.11010</td>\n",
              "      <td>42.127560</td>\n",
              "      <td>42.30985</td>\n",
              "      <td>50.28674</td>\n",
              "      <td>50.480000</td>\n",
              "      <td>50.55529</td>\n",
              "      <td>0.675187</td>\n",
              "      <td>0.680205</td>\n",
              "      <td>0.689905</td>\n",
              "      <td>143000000.0</td>\n",
              "      <td>143000000.0</td>\n",
              "      <td>143000000.0</td>\n",
              "      <td>153000000.0</td>\n",
              "      <td>153000000.0</td>\n",
              "      <td>153000000.0</td>\n",
              "    </tr>\n",
              "    <tr>\n",
              "      <th>136000000.0</th>\n",
              "      <td>1.900200</td>\n",
              "      <td>1.900200</td>\n",
              "      <td>1.900200</td>\n",
              "      <td>42.39642</td>\n",
              "      <td>42.396420</td>\n",
              "      <td>42.39642</td>\n",
              "      <td>50.50368</td>\n",
              "      <td>50.503680</td>\n",
              "      <td>50.50368</td>\n",
              "      <td>0.691971</td>\n",
              "      <td>0.691971</td>\n",
              "      <td>0.691971</td>\n",
              "      <td>146000000.0</td>\n",
              "      <td>146000000.0</td>\n",
              "      <td>146000000.0</td>\n",
              "      <td>156000000.0</td>\n",
              "      <td>156000000.0</td>\n",
              "      <td>156000000.0</td>\n",
              "    </tr>\n",
              "    <tr>\n",
              "      <th>143000000.0</th>\n",
              "      <td>1.866135</td>\n",
              "      <td>1.882668</td>\n",
              "      <td>1.902303</td>\n",
              "      <td>42.41592</td>\n",
              "      <td>42.665595</td>\n",
              "      <td>42.83503</td>\n",
              "      <td>50.48753</td>\n",
              "      <td>50.564565</td>\n",
              "      <td>50.72867</td>\n",
              "      <td>0.695292</td>\n",
              "      <td>0.697410</td>\n",
              "      <td>0.702630</td>\n",
              "      <td>154000000.0</td>\n",
              "      <td>154000000.0</td>\n",
              "      <td>154000000.0</td>\n",
              "      <td>164000000.0</td>\n",
              "      <td>164000000.0</td>\n",
              "      <td>164000000.0</td>\n",
              "    </tr>\n",
              "    <tr>\n",
              "      <th>146239008.0</th>\n",
              "      <td>1.847821</td>\n",
              "      <td>1.847821</td>\n",
              "      <td>1.847821</td>\n",
              "      <td>42.92510</td>\n",
              "      <td>42.925100</td>\n",
              "      <td>42.92510</td>\n",
              "      <td>50.72821</td>\n",
              "      <td>50.728210</td>\n",
              "      <td>50.72821</td>\n",
              "      <td>0.692837</td>\n",
              "      <td>0.692837</td>\n",
              "      <td>0.692837</td>\n",
              "      <td>156723120.0</td>\n",
              "      <td>156723120.0</td>\n",
              "      <td>156723120.0</td>\n",
              "      <td>167175712.0</td>\n",
              "      <td>167175712.0</td>\n",
              "      <td>167175712.0</td>\n",
              "    </tr>\n",
              "    <tr>\n",
              "      <th>147487920.0</th>\n",
              "      <td>1.842986</td>\n",
              "      <td>1.842986</td>\n",
              "      <td>1.842986</td>\n",
              "      <td>42.91262</td>\n",
              "      <td>42.913480</td>\n",
              "      <td>42.91348</td>\n",
              "      <td>50.87952</td>\n",
              "      <td>50.880250</td>\n",
              "      <td>50.88025</td>\n",
              "      <td>0.724433</td>\n",
              "      <td>0.724433</td>\n",
              "      <td>0.724433</td>\n",
              "      <td>157972048.0</td>\n",
              "      <td>157972048.0</td>\n",
              "      <td>157972048.0</td>\n",
              "      <td>168424640.0</td>\n",
              "      <td>168424640.0</td>\n",
              "      <td>168424640.0</td>\n",
              "    </tr>\n",
              "    <tr>\n",
              "      <th>147560672.0</th>\n",
              "      <td>1.835479</td>\n",
              "      <td>1.835479</td>\n",
              "      <td>1.835479</td>\n",
              "      <td>42.98096</td>\n",
              "      <td>42.980960</td>\n",
              "      <td>42.98096</td>\n",
              "      <td>50.74764</td>\n",
              "      <td>50.747640</td>\n",
              "      <td>50.74764</td>\n",
              "      <td>0.689802</td>\n",
              "      <td>0.689802</td>\n",
              "      <td>0.689802</td>\n",
              "      <td>158044784.0</td>\n",
              "      <td>158044784.0</td>\n",
              "      <td>158044784.0</td>\n",
              "      <td>168497376.0</td>\n",
              "      <td>168497376.0</td>\n",
              "      <td>168497376.0</td>\n",
              "    </tr>\n",
              "  </tbody>\n",
              "</table>\n",
              "</div>"
            ],
            "text/plain": [
              "                    nat_voteshare_other_hi            ... national_turnout_hi             \n",
              "                                       min    median  ...              median          max\n",
              "national_turnout_lo                                   ...                                 \n",
              "131000000.0                       1.911543  1.976343  ...         151000000.0  151000000.0\n",
              "133000000.0                       1.899508  1.903847  ...         153000000.0  153000000.0\n",
              "136000000.0                       1.900200  1.900200  ...         156000000.0  156000000.0\n",
              "143000000.0                       1.866135  1.882668  ...         164000000.0  164000000.0\n",
              "146239008.0                       1.847821  1.847821  ...         167175712.0  167175712.0\n",
              "147487920.0                       1.842986  1.842986  ...         168424640.0  168424640.0\n",
              "147560672.0                       1.835479  1.835479  ...         168497376.0  168497376.0\n",
              "\n",
              "[7 rows x 18 columns]"
            ]
          },
          "metadata": {
            "tags": []
          },
          "execution_count": 29
        }
      ]
    },
    {
      "cell_type": "code",
      "metadata": {
        "colab": {
          "base_uri": "https://localhost:8080/",
          "height": 419
        },
        "id": "Gx6KL6RybocL",
        "outputId": "1cf06bfb-05bc-45b3-ab33-5f4631c65944"
      },
      "source": [
        "clean_dataset2[clean_dataset2.isna().any(axis=1)]"
      ],
      "execution_count": null,
      "outputs": [
        {
          "output_type": "execute_result",
          "data": {
            "text/html": [
              "<div>\n",
              "<style scoped>\n",
              "    .dataframe tbody tr th:only-of-type {\n",
              "        vertical-align: middle;\n",
              "    }\n",
              "\n",
              "    .dataframe tbody tr th {\n",
              "        vertical-align: top;\n",
              "    }\n",
              "\n",
              "    .dataframe thead th {\n",
              "        text-align: right;\n",
              "    }\n",
              "</style>\n",
              "<table border=\"1\" class=\"dataframe\">\n",
              "  <thead>\n",
              "    <tr style=\"text-align: right;\">\n",
              "      <th></th>\n",
              "      <th>nat_voteshare_other_hi</th>\n",
              "      <th>national_voteshare_inc_lo</th>\n",
              "      <th>national_voteshare_chal_lo</th>\n",
              "      <th>nat_voteshare_other_lo</th>\n",
              "      <th>national_turnout</th>\n",
              "      <th>national_turnout_hi</th>\n",
              "      <th>national_turnout_lo</th>\n",
              "      <th>timestamp</th>\n",
              "    </tr>\n",
              "  </thead>\n",
              "  <tbody>\n",
              "    <tr>\n",
              "      <th>63</th>\n",
              "      <td>2.036718</td>\n",
              "      <td>42.08624</td>\n",
              "      <td>47.95645</td>\n",
              "      <td>0.700532</td>\n",
              "      <td>NaN</td>\n",
              "      <td>NaN</td>\n",
              "      <td>NaN</td>\n",
              "      <td>2020-01-09 19:06:00</td>\n",
              "    </tr>\n",
              "    <tr>\n",
              "      <th>62</th>\n",
              "      <td>2.043273</td>\n",
              "      <td>41.92453</td>\n",
              "      <td>48.15030</td>\n",
              "      <td>0.699968</td>\n",
              "      <td>NaN</td>\n",
              "      <td>NaN</td>\n",
              "      <td>NaN</td>\n",
              "      <td>2020-02-09 21:52:00</td>\n",
              "    </tr>\n",
              "    <tr>\n",
              "      <th>61</th>\n",
              "      <td>2.024914</td>\n",
              "      <td>41.92551</td>\n",
              "      <td>48.18411</td>\n",
              "      <td>0.709845</td>\n",
              "      <td>NaN</td>\n",
              "      <td>NaN</td>\n",
              "      <td>NaN</td>\n",
              "      <td>2020-03-09 21:55:00</td>\n",
              "    </tr>\n",
              "    <tr>\n",
              "      <th>60</th>\n",
              "      <td>2.035542</td>\n",
              "      <td>41.94962</td>\n",
              "      <td>48.30067</td>\n",
              "      <td>0.710622</td>\n",
              "      <td>NaN</td>\n",
              "      <td>NaN</td>\n",
              "      <td>NaN</td>\n",
              "      <td>2020-04-09 22:34:00</td>\n",
              "    </tr>\n",
              "    <tr>\n",
              "      <th>59</th>\n",
              "      <td>2.040212</td>\n",
              "      <td>41.95213</td>\n",
              "      <td>48.27627</td>\n",
              "      <td>0.711379</td>\n",
              "      <td>NaN</td>\n",
              "      <td>NaN</td>\n",
              "      <td>NaN</td>\n",
              "      <td>2020-05-09 22:17:00</td>\n",
              "    </tr>\n",
              "    <tr>\n",
              "      <th>...</th>\n",
              "      <td>...</td>\n",
              "      <td>...</td>\n",
              "      <td>...</td>\n",
              "      <td>...</td>\n",
              "      <td>...</td>\n",
              "      <td>...</td>\n",
              "      <td>...</td>\n",
              "      <td>...</td>\n",
              "    </tr>\n",
              "    <tr>\n",
              "      <th>148</th>\n",
              "      <td>2.051627</td>\n",
              "      <td>41.52457</td>\n",
              "      <td>47.69545</td>\n",
              "      <td>0.673951</td>\n",
              "      <td>NaN</td>\n",
              "      <td>NaN</td>\n",
              "      <td>NaN</td>\n",
              "      <td>2020-10-08 11:59:00</td>\n",
              "    </tr>\n",
              "    <tr>\n",
              "      <th>152</th>\n",
              "      <td>2.039343</td>\n",
              "      <td>41.49159</td>\n",
              "      <td>47.87417</td>\n",
              "      <td>0.661686</td>\n",
              "      <td>NaN</td>\n",
              "      <td>NaN</td>\n",
              "      <td>NaN</td>\n",
              "      <td>2020-10-08 12:03:00</td>\n",
              "    </tr>\n",
              "    <tr>\n",
              "      <th>85</th>\n",
              "      <td>2.034930</td>\n",
              "      <td>41.55241</td>\n",
              "      <td>47.82245</td>\n",
              "      <td>0.677032</td>\n",
              "      <td>NaN</td>\n",
              "      <td>NaN</td>\n",
              "      <td>NaN</td>\n",
              "      <td>2020-10-08 23:50:00</td>\n",
              "    </tr>\n",
              "    <tr>\n",
              "      <th>84</th>\n",
              "      <td>2.028735</td>\n",
              "      <td>41.59494</td>\n",
              "      <td>47.85249</td>\n",
              "      <td>0.662762</td>\n",
              "      <td>NaN</td>\n",
              "      <td>NaN</td>\n",
              "      <td>NaN</td>\n",
              "      <td>2020-11-08 19:08:00</td>\n",
              "    </tr>\n",
              "    <tr>\n",
              "      <th>83</th>\n",
              "      <td>2.027544</td>\n",
              "      <td>41.56429</td>\n",
              "      <td>47.97743</td>\n",
              "      <td>0.666302</td>\n",
              "      <td>NaN</td>\n",
              "      <td>NaN</td>\n",
              "      <td>NaN</td>\n",
              "      <td>2020-12-08 23:41:00</td>\n",
              "    </tr>\n",
              "  </tbody>\n",
              "</table>\n",
              "<p>97 rows × 8 columns</p>\n",
              "</div>"
            ],
            "text/plain": [
              "     nat_voteshare_other_hi  ...           timestamp\n",
              "63                 2.036718  ... 2020-01-09 19:06:00\n",
              "62                 2.043273  ... 2020-02-09 21:52:00\n",
              "61                 2.024914  ... 2020-03-09 21:55:00\n",
              "60                 2.035542  ... 2020-04-09 22:34:00\n",
              "59                 2.040212  ... 2020-05-09 22:17:00\n",
              "..                      ...  ...                 ...\n",
              "148                2.051627  ... 2020-10-08 11:59:00\n",
              "152                2.039343  ... 2020-10-08 12:03:00\n",
              "85                 2.034930  ... 2020-10-08 23:50:00\n",
              "84                 2.028735  ... 2020-11-08 19:08:00\n",
              "83                 2.027544  ... 2020-12-08 23:41:00\n",
              "\n",
              "[97 rows x 8 columns]"
            ]
          },
          "metadata": {
            "tags": []
          },
          "execution_count": 24
        }
      ]
    },
    {
      "cell_type": "markdown",
      "metadata": {
        "id": "Z_JMgFgSAdlp"
      },
      "source": [
        "Eliminating 97 rows from a 156-row dataframe is not an option. We've seen there are only 7 unique values on each of these 3 columns, and they all seem to be somehow related with the columns 'nat_voteshare_other_hi', 'national_voteshare_inc_lo'. To keep it simple for this exercise this will be sorted by splitting the dataframe and through replacement."
      ]
    },
    {
      "cell_type": "code",
      "metadata": {
        "colab": {
          "base_uri": "https://localhost:8080/"
        },
        "id": "nccCccHXc4wS",
        "outputId": "0c1689b0-90c8-4c06-8463-eeb6b0b0e5e6"
      },
      "source": [
        "clean_dataset2_part1 = clean_dataset2[clean_dataset2['nat_voteshare_other_hi'] < clean_dataset2['nat_voteshare_other_hi'].quantile(0.4)]\n",
        "clean_dataset2_part1.fillna(value= {'national_turnout': 1.430000e+08, 'national_turnout_hi': 1.530000e+08, 'national_turnout_lo': 1.330000e+08}, inplace=True)\n",
        "\n",
        "clean_dataset2_part2 = clean_dataset2[clean_dataset2['nat_voteshare_other_hi'] >= clean_dataset2['nat_voteshare_other_hi'].quantile(0.4)]\n",
        "clean_dataset2_part2.fillna(value= {'national_turnout': 1.410000e+08\t, 'national_turnout_hi': 1.510000e+08\t, 'national_turnout_lo': 1.310000e+08\t}, inplace=True)\n",
        "\n",
        "clean_dataset2 = clean_dataset2_part1.append(clean_dataset2_part2)\n",
        "clean_dataset2.info()"
      ],
      "execution_count": null,
      "outputs": [
        {
          "output_type": "stream",
          "text": [
            "<class 'pandas.core.frame.DataFrame'>\n",
            "Int64Index: 156 entries, 33 to 52\n",
            "Data columns (total 8 columns):\n",
            " #   Column                      Non-Null Count  Dtype         \n",
            "---  ------                      --------------  -----         \n",
            " 0   nat_voteshare_other_hi      156 non-null    float64       \n",
            " 1   national_voteshare_inc_lo   156 non-null    float64       \n",
            " 2   national_voteshare_chal_lo  156 non-null    float64       \n",
            " 3   nat_voteshare_other_lo      156 non-null    float64       \n",
            " 4   national_turnout            156 non-null    float64       \n",
            " 5   national_turnout_hi         156 non-null    float64       \n",
            " 6   national_turnout_lo         156 non-null    float64       \n",
            " 7   timestamp                   156 non-null    datetime64[ns]\n",
            "dtypes: datetime64[ns](1), float64(7)\n",
            "memory usage: 11.0 KB\n"
          ],
          "name": "stdout"
        },
        {
          "output_type": "stream",
          "text": [
            "/usr/local/lib/python3.7/dist-packages/pandas/core/series.py:4536: SettingWithCopyWarning: \n",
            "A value is trying to be set on a copy of a slice from a DataFrame\n",
            "\n",
            "See the caveats in the documentation: https://pandas.pydata.org/pandas-docs/stable/user_guide/indexing.html#returning-a-view-versus-a-copy\n",
            "  downcast=downcast,\n",
            "/usr/local/lib/python3.7/dist-packages/pandas/core/series.py:4536: SettingWithCopyWarning: \n",
            "A value is trying to be set on a copy of a slice from a DataFrame\n",
            "\n",
            "See the caveats in the documentation: https://pandas.pydata.org/pandas-docs/stable/user_guide/indexing.html#returning-a-view-versus-a-copy\n",
            "  downcast=downcast,\n"
          ],
          "name": "stderr"
        }
      ]
    },
    {
      "cell_type": "code",
      "metadata": {
        "colab": {
          "base_uri": "https://localhost:8080/",
          "height": 17
        },
        "id": "TwlNZ-cMGySb",
        "outputId": "4ac368fc-8196-4892-b59d-e42cd3ce05f5"
      },
      "source": [
        "from google.colab import files\n",
        "clean_dataset2.to_csv('dataset2.csv') \n",
        "files.download('dataset2.csv')"
      ],
      "execution_count": null,
      "outputs": [
        {
          "output_type": "display_data",
          "data": {
            "application/javascript": [
              "\n",
              "    async function download(id, filename, size) {\n",
              "      if (!google.colab.kernel.accessAllowed) {\n",
              "        return;\n",
              "      }\n",
              "      const div = document.createElement('div');\n",
              "      const label = document.createElement('label');\n",
              "      label.textContent = `Downloading \"${filename}\": `;\n",
              "      div.appendChild(label);\n",
              "      const progress = document.createElement('progress');\n",
              "      progress.max = size;\n",
              "      div.appendChild(progress);\n",
              "      document.body.appendChild(div);\n",
              "\n",
              "      const buffers = [];\n",
              "      let downloaded = 0;\n",
              "\n",
              "      const channel = await google.colab.kernel.comms.open(id);\n",
              "      // Send a message to notify the kernel that we're ready.\n",
              "      channel.send({})\n",
              "\n",
              "      for await (const message of channel.messages) {\n",
              "        // Send a message to notify the kernel that we're ready.\n",
              "        channel.send({})\n",
              "        if (message.buffers) {\n",
              "          for (const buffer of message.buffers) {\n",
              "            buffers.push(buffer);\n",
              "            downloaded += buffer.byteLength;\n",
              "            progress.value = downloaded;\n",
              "          }\n",
              "        }\n",
              "      }\n",
              "      const blob = new Blob(buffers, {type: 'application/binary'});\n",
              "      const a = document.createElement('a');\n",
              "      a.href = window.URL.createObjectURL(blob);\n",
              "      a.download = filename;\n",
              "      div.appendChild(a);\n",
              "      a.click();\n",
              "      div.remove();\n",
              "    }\n",
              "  "
            ],
            "text/plain": [
              "<IPython.core.display.Javascript object>"
            ]
          },
          "metadata": {
            "tags": []
          }
        },
        {
          "output_type": "display_data",
          "data": {
            "application/javascript": [
              "download(\"download_2bbceeb8-f55e-41be-b5db-d7dfd97a5acd\", \"dataset2.csv\", 16682)"
            ],
            "text/plain": [
              "<IPython.core.display.Javascript object>"
            ]
          },
          "metadata": {
            "tags": []
          }
        }
      ]
    }
  ]
}