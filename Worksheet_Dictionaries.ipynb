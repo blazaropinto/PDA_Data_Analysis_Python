{
  "nbformat": 4,
  "nbformat_minor": 0,
  "metadata": {
    "colab": {
      "name": "Copia de Worksheet - Dictionaries.ipynb",
      "provenance": [],
      "include_colab_link": true
    },
    "kernelspec": {
      "name": "python3",
      "display_name": "Python 3"
    },
    "language_info": {
      "name": "python"
    }
  },
  "cells": [
    {
      "cell_type": "markdown",
      "metadata": {
        "id": "view-in-github",
        "colab_type": "text"
      },
      "source": [
        "<a href=\"https://colab.research.google.com/github/blazaropinto/PDA_Data_Analysis_Python/blob/main/Worksheet_Dictionaries.ipynb\" target=\"_parent\"><img src=\"https://colab.research.google.com/assets/colab-badge.svg\" alt=\"Open In Colab\"/></a>"
      ]
    },
    {
      "cell_type": "markdown",
      "metadata": {
        "id": "AiiF1h2X4PHP"
      },
      "source": [
        "# Dictionaries\n",
        "\n",
        "---\n",
        "\n",
        "A **dictionary** is a collection of dissimilar data stored together in one *record*. Each item of data has a  (or key) that describes its paired value.  \n",
        "\n",
        "Create a dictionary object by declaring the set of keys and values, e.g.:\n",
        "\n",
        "```\n",
        "   transport = {\n",
        "       \"type\":\"bus\",\n",
        "       \"numPassengers\":72,\n",
        "       \"colour\":\"blue\",\n",
        "       \"fuel\":\"diesel\"\n",
        "   }\n",
        "```\n",
        "\n",
        "To access a value in a dictionary, use its key:  \n",
        "\n",
        "```\n",
        "transport[\"type\"] = \"coach\"\n",
        "transport_type = transport[\"type\"]\n",
        "transport_colour = transport[\"colour\"]\n",
        "transport[\"fuel\"] = petrol\n",
        "```\n",
        "\n",
        "To add a new key/value pair to a dictionary, simply assign a value to a new key:  \n",
        "```\n",
        "transport[\"seats\"] = 54\n",
        "```\n",
        "\n",
        "The transport dictionary will now look like this:  \n",
        "```\n",
        "   transport = {\n",
        "       \"type\":\"bus\",\n",
        "       \"numPassengers\":72,\n",
        "       \"colour\":\"blue\",\n",
        "       \"fuel\":\"diesel\",\n",
        "       \"seats\":54\n",
        "   }\n",
        "```\n",
        "\n"
      ]
    },
    {
      "cell_type": "markdown",
      "metadata": {
        "id": "1uZ5kNWB6CqK"
      },
      "source": [
        "---\n",
        "### Exercise 1 - print dictionary\n",
        "\n",
        "Write a function which will:  \n",
        "\n",
        "*  create an empty dictionary for a person (name, age and postcode, with values \"\", 0 and \"\")\n",
        "*  ask the user for name, age and postcode and assign the values to the correct keys in the dictionary  \n",
        "*  print the dictionary\n",
        "\n",
        "Test input:  \n",
        "Jack Jones  \n",
        "16  \n",
        "AB5 3DF  \n",
        "\n",
        "Expected output:  \n",
        "[\"name\":\"Jack Jones\", \"age\":16, \"postcode\":\"AB5 3DF\"]"
      ]
    },
    {
      "cell_type": "code",
      "metadata": {
        "id": "Ac7VQTj94Mrc",
        "colab": {
          "base_uri": "https://localhost:8080/"
        },
        "outputId": "6b0f1922-474e-40e6-e335-d6805c46dfb1"
      },
      "source": [
        "def print_dict():\n",
        "  person = dict(name='',age=0, postcode='')\n",
        "  person['name'] = input('please enter your name: ')\n",
        "  person['age'] = int(input('please enter your age in numbers: '))\n",
        "  person['postcode'] = input('please enter your postcode: ')\n",
        "  print(person)\n",
        "\n",
        "print_dict()"
      ],
      "execution_count": 5,
      "outputs": [
        {
          "output_type": "stream",
          "text": [
            "please enter your name: someone\n",
            "please enter your age in numbers: 999\n",
            "please enter your postcode: somewhere\n",
            "{'name': 'someone', 'age': 999, 'postcode': 'somewhere'}\n"
          ],
          "name": "stdout"
        }
      ]
    },
    {
      "cell_type": "markdown",
      "metadata": {
        "id": "0OtNqNKv7WKm"
      },
      "source": [
        "---\n",
        "### Exercise 2 - create a dictionary\n",
        "\n",
        "Write a function that will create two dictionaries,without values:  \n",
        "\n",
        "1.  person (with keys firstname, surname, birthdate, postcode)  \n",
        "2.  car (with key/value pairs as follows:  make - Vauxhall, model - Corsa, engineSize - 1199, fuelType - unleaded, num_doors - 4)  \n",
        "\n",
        "*   ask the user to enter the values for the person dictionary  \n",
        "*   print, on one line, the person's name from the person dictionary and the make of the car from the car dictionary.\n",
        "\n",
        "Test input:  \n",
        "Jack  \n",
        "Jones  \n",
        "2005/02/02    \n",
        "AB5 3DF  \n",
        "\n",
        "Expected output:  \n",
        "Jack Jones Vauxhall"
      ]
    },
    {
      "cell_type": "code",
      "metadata": {
        "id": "ZyqhaBCC-GdI",
        "colab": {
          "base_uri": "https://localhost:8080/"
        },
        "outputId": "49efbcbe-e69e-487e-e575-c2112601e432"
      },
      "source": [
        "def create_two_dicts():\n",
        "  person =dict(firstname='', surname='', birthdate='', postcode='')\n",
        "  car = dict(make= 'Vauxhall', model= 'Corsa', engineSize= 1199, fuelType= 'unleaded', num_doors= 4)\n",
        "  person['firstname'] = input('please enter your firstname: ')\n",
        "  person['surname'] = input('please enter your surname: ')\n",
        "  person['birthdate'] = input('please enter your birthdate: ')\n",
        "  person['postcode'] = input('please enter your postcode: ')\n",
        "  print(person['firstname'], person['surname'], car['make'])\n",
        "\n",
        "create_two_dicts()"
      ],
      "execution_count": 8,
      "outputs": [
        {
          "output_type": "stream",
          "text": [
            "please enter your firstname: Jack\n",
            "please enter your surname: Jones\n",
            "please enter your birthdate: 2005/02/02\n",
            "please enter your postcode: AB5 3DF\n",
            "Jack Jones Vauxhall\n"
          ],
          "name": "stdout"
        }
      ]
    },
    {
      "cell_type": "markdown",
      "metadata": {
        "id": "gYuuOUYw-G4I"
      },
      "source": [
        "---\n",
        "### Exercise 3 - check dictionary values\n",
        "\n",
        "Write a new function which will:\n",
        "\n",
        "*  set up the same two dictionaries as in Exercise 2  \n",
        "*  ask the user to enter the details to complete the person record  \n",
        "*  calculate the person's age  \n",
        "*  if the person is under 17 then print a message to say that they can't buy a car as they are too young to drive\n",
        "*  else if the person is under 25 then print a message to say that an engine size under 1200 is recommended  \n",
        "*  ask the user to enter the make of car that the person is looking for  \n",
        "*  if the user enters the same make as that stored in the car record, then print a message to say that you have one car of that make in stock and print all the details of the car that you have the record for\n",
        "*  else (if the user enters any other car make) then print a message to say sorry that you don't have any cars of that make in stock\n",
        "*  print a message to say that the user can get more details for stockist in the <user's postcode> area if they call 01234567890\n",
        "*  print a message to say \"Thank you <user's name> for using our site\"  \n",
        "\n",
        "Test input:  \n",
        "Jack  \n",
        "Jones  \n",
        "2005/02/02  \n",
        "AB5 3DF  \n",
        "Vauxhall  \n",
        "\n",
        "Expected output:  \n",
        "You are too young to drive\n",
        "\n",
        "Test input:  \n",
        "John  \n",
        "Jones  \n",
        "2003/02/02  \n",
        "AB5 3DF  \n",
        "Vauxhall \n",
        "\n",
        "Expected output:  \n",
        "An engine size under 1200 is recommended  \n",
        "We have one Vauxhall in stock, details:  \n",
        "Make - Vauxhall    \n",
        "Model - Corsa    \n",
        "Engine size - 1199  \n",
        "Fuel type - unleaded   \n",
        "Number of doors - 4  \n",
        "You can get more details of stockists near AB5 3DF on 01234567890  \n",
        "Thank you John Jones for using our site.     \n",
        "\n",
        "Test input:  \n",
        "John  \n",
        "Jones  \n",
        "2003/02/02  \n",
        "AB5 3DF  \n",
        "Ford  \n",
        "\n",
        "Expected output:  \n",
        "An engine size under 1200 is recommended  \n",
        "Sorry, we don't have any of that make in stock  \n"
      ]
    },
    {
      "cell_type": "code",
      "metadata": {
        "id": "Wp9Il2JG_hDh",
        "colab": {
          "base_uri": "https://localhost:8080/"
        },
        "outputId": "ed73cc9e-0ce5-449b-8a2f-a791ef000bca"
      },
      "source": [
        "from datetime import datetime\n",
        "\n",
        "def check_dicts():\n",
        "  person =dict(firstname='', surname='', birthdate='', postcode='')\n",
        "  car = dict(make= 'Vauxhall', model= 'Corsa', engineSize= 1199, fuelType= 'unleaded', num_doors= 4)\n",
        "\n",
        "  person['firstname'] = input('please enter your firstname: ')\n",
        "  person['surname'] = input('please enter your surname: ')\n",
        "  person['birthdate'] = input('please enter your birthdate: ')\n",
        "  person['postcode'] = input('please enter your postcode: ')\n",
        "  requested_make = input('please enter the make of car that you are looking for: ')\n",
        "\n",
        "  age = (datetime.today() - datetime.strptime(person['birthdate'], '%Y/%m/%d')).days//365\n",
        "  #print(age)\n",
        "  if age < 17:\n",
        "    print('You can\\'t buy a car as you are too young to drive')\n",
        "  elif age < 25:\n",
        "    print('an engine size under 1200 is recommended')\n",
        "    if requested_make == car['make']:\n",
        "      print('there is one car of that make in stock', '\\n', 'details:')\n",
        "      for key in car.keys():\n",
        "        print(key, '-', car[key])\n",
        "    else:\n",
        "      print('sorry, there are no cars of that make in stock')\n",
        "    print('you can get more details for stocklist in the',  person['postcode'], 'area if you call 01234567890', '\\n', \\\n",
        "        \"Thank you\", person['firstname'], person['surname'], 'for using our site')\n",
        "\n",
        "check_dicts()"
      ],
      "execution_count": 15,
      "outputs": [
        {
          "output_type": "stream",
          "text": [
            "please enter your firstname: Jack\n",
            "please enter your surname: Jones\n",
            "please enter your birthdate: 2005/02/02\n",
            "please enter your postcode: AB5 3DF\n",
            "please enter the make of car that you are looking for: Vauxhall\n",
            "You can't buy a car as you are too young to drive\n"
          ],
          "name": "stdout"
        }
      ]
    },
    {
      "cell_type": "code",
      "metadata": {
        "colab": {
          "base_uri": "https://localhost:8080/"
        },
        "id": "co7RawYhJaVL",
        "outputId": "4e9609a0-aef1-43a8-dff1-0d97a0d48451"
      },
      "source": [
        "check_dicts()"
      ],
      "execution_count": 16,
      "outputs": [
        {
          "output_type": "stream",
          "text": [
            "please enter your firstname: John\n",
            "please enter your surname: Jones\n",
            "please enter your birthdate: 2003/02/02\n",
            "please enter your postcode: AB5 3DF\n",
            "please enter the make of car that you are looking for: Vauxhall\n",
            "an engine size under 1200 is recommended\n",
            "there is one car of that make in stock \n",
            " details:\n",
            "make - Vauxhall\n",
            "model - Corsa\n",
            "engineSize - 1199\n",
            "fuelType - unleaded\n",
            "num_doors - 4\n",
            "you can get more details for stocklist in the AB5 3DF area if you call 01234567890 \n",
            " Thank you John Jones for using our site\n"
          ],
          "name": "stdout"
        }
      ]
    },
    {
      "cell_type": "code",
      "metadata": {
        "colab": {
          "base_uri": "https://localhost:8080/"
        },
        "id": "MBCyPAAaKuv_",
        "outputId": "b51a454c-1110-4200-9662-2b8651220596"
      },
      "source": [
        "check_dicts()"
      ],
      "execution_count": 17,
      "outputs": [
        {
          "output_type": "stream",
          "text": [
            "please enter your firstname: John\n",
            "please enter your surname: Jones\n",
            "please enter your birthdate: 2003/02/02\n",
            "please enter your postcode: AB5 3DF\n",
            "please enter the make of car that you are looking for: Ford\n",
            "an engine size under 1200 is recommended\n",
            "sorry, there are no cars of that make in stock\n",
            "you can get more details for stocklist in the AB5 3DF area if you call 01234567890 \n",
            " Thank you John Jones for using our site\n"
          ],
          "name": "stdout"
        }
      ]
    },
    {
      "cell_type": "markdown",
      "metadata": {
        "id": "I6dUiRwn7Gkg"
      },
      "source": [
        "---\n",
        "### Exercise 4 - print keys and values\n",
        "\n",
        "Two dictionaries have been created below.  You can print a list of the dictionary's keys using dictionary_name.keys() and the values using dictionary_name.values()\n",
        "\n",
        "Write a function which will accept a dictionary as a parameter and will:  \n",
        "*  print the dictionary keys as a list  \n",
        "*  print the dictionary values as a list\n",
        "\n",
        "Expected Output\n",
        "\n",
        "['Andy', 'Angela']\n",
        "[25, 55]\n",
        "['Andy', 'Angela']\n",
        "[58, 72]  \n",
        "\n",
        "\n",
        "\n"
      ]
    },
    {
      "cell_type": "code",
      "metadata": {
        "id": "FApOckhJEsMs",
        "colab": {
          "base_uri": "https://localhost:8080/"
        },
        "outputId": "f5ff5ab0-9ae1-4e8b-bfd8-d1eff81e4e26"
      },
      "source": [
        "def display_dictionary(scores):\n",
        "  #  add your code below this line\n",
        "  print(list(scores.keys()), list(scores.values()))\n",
        "  \n",
        "english_scores = {'Andy': 95, 'Angela': 53}\n",
        "maths_scores = {'Andy': 58, 'Angela': 72}\n",
        "display_dictionary(english_scores)\n",
        "display_dictionary(maths_scores)"
      ],
      "execution_count": 18,
      "outputs": [
        {
          "output_type": "stream",
          "text": [
            "['Andy', 'Angela'] [95, 53]\n",
            "['Andy', 'Angela'] [58, 72]\n"
          ],
          "name": "stdout"
        }
      ]
    },
    {
      "cell_type": "markdown",
      "metadata": {
        "id": "segSpkmBFSJl"
      },
      "source": [
        "---\n",
        "### Exercise 5 - add field\n",
        "\n",
        "Write a function which will:\n",
        "\n",
        "*  create a new dictionary called science with values of 0 for both Angela and Andy\n",
        "*  update Andy's score for science to 73 and Angela's score to 73   \n",
        "*  create a new key/value pair by adding another learner to the science  dictionary (George has a score of 55)    \n",
        "*  print the science dictionary to check results  \n",
        "\n",
        "Expected Output\n",
        "\n",
        "{'Andy': 73, 'Angela': 73, 'George': 55}"
      ]
    },
    {
      "cell_type": "code",
      "metadata": {
        "id": "BL1JM-Z7Gttf",
        "colab": {
          "base_uri": "https://localhost:8080/"
        },
        "outputId": "3fa77fce-e744-4eea-e021-3282b05a2ddd"
      },
      "source": [
        "def add_field():\n",
        "  science = {'Angela':0, 'Andy':0}\n",
        "  science['Andy'] = 73\n",
        "  science['Angela'] = 73\n",
        "  science['George'] = 55\n",
        "  print(science)\n",
        "\n",
        "add_field()"
      ],
      "execution_count": 19,
      "outputs": [
        {
          "output_type": "stream",
          "text": [
            "{'Angela': 73, 'Andy': 73, 'George': 55}\n"
          ],
          "name": "stdout"
        }
      ]
    },
    {
      "cell_type": "markdown",
      "metadata": {
        "id": "_Vzv0zlHGt-C"
      },
      "source": [
        "---\n",
        "### Exercise 6 - loop through keys/value pairs\n",
        "\n",
        "Write a function which will use a *for* loop to print the each key/value pair in the science dictionary (recreate this dictionary in this function) \n",
        "\n",
        "*(Hint: you can iterate through the key/value pairs in the dictionary in the same way as you iterate through a loop (e.g. for record in dictionary) and print the record (which is the key) and its value)*\n",
        "\n",
        "Expected output:  \n",
        "\n",
        "Angela 72  \n",
        "Andy 72  \n",
        "George 55  "
      ]
    },
    {
      "cell_type": "code",
      "metadata": {
        "id": "JL40_-W-Hxnt",
        "colab": {
          "base_uri": "https://localhost:8080/"
        },
        "outputId": "cf44e381-90cd-4e8f-9514-c9348cbdbdad"
      },
      "source": [
        "def fun_loop():\n",
        "  science = {'Angela': 73, 'Andy': 73, 'George': 55}\n",
        "  for k, v in science.items():\n",
        "    print (k, v)\n",
        "\n",
        "fun_loop()"
      ],
      "execution_count": 20,
      "outputs": [
        {
          "output_type": "stream",
          "text": [
            "Angela 73\n",
            "Andy 73\n",
            "George 55\n"
          ],
          "name": "stdout"
        }
      ]
    },
    {
      "cell_type": "markdown",
      "metadata": {
        "id": "G9wamxzRJdrE"
      },
      "source": [
        "---\n",
        "### Exercise 7 - generate new dictionary  \n",
        "\n",
        "Write a functions which will:\n",
        "*  create a new dictionary where the keys are numbers between 1 and 15 (both included) and the values are square of keys\n",
        "*  print the dictionary\n",
        "\n",
        "Expected output:  \n",
        "{1: 1, 2: 4, 3: 9, 4: 16, 5: 25, 6: 36, 7: 49, 8: 64, 9: 81, 10: 100, 11: 121, 12: 144, 13: 169, 14: 196, 15: 225}"
      ]
    },
    {
      "cell_type": "code",
      "metadata": {
        "id": "1-LI-LVrJ--N",
        "colab": {
          "base_uri": "https://localhost:8080/"
        },
        "outputId": "822b91bf-9332-4677-f760-15e0dafec6b5"
      },
      "source": [
        "def generate_fun():\n",
        "  new_dict = {}\n",
        "  for i in range(1,16):\n",
        "    new_dict[i] = i**2\n",
        "  print(new_dict)\n",
        "\n",
        "generate_fun()"
      ],
      "execution_count": 24,
      "outputs": [
        {
          "output_type": "stream",
          "text": [
            "{1: 1, 2: 4, 3: 9, 4: 16, 5: 25, 6: 36, 7: 49, 8: 64, 9: 81, 10: 100, 11: 121, 12: 144, 13: 169, 14: 196, 15: 225}\n"
          ],
          "name": "stdout"
        }
      ]
    },
    {
      "cell_type": "markdown",
      "metadata": {
        "id": "t0y4mefwJ_jQ"
      },
      "source": [
        "---\n",
        "### Exercise 8 - colour dictionary  \n",
        "\n",
        "Write a function which will:  \n",
        "*  create a new dictionary record called colour_codes with the values 'red' - '#FF0000', 'green' - '#008000', 'black' - '#000000', 'white' - '#FFFFFF'\n",
        "*  add a new colour code:  'blue' - '#0000FF'    \n",
        "*  remove the colours black and white from the dictionary  \n",
        "\n",
        "*Hint:  there is a list of methods [here](https://www.w3schools.com/python/python_ref_dictionary.asp)*  "
      ]
    },
    {
      "cell_type": "code",
      "metadata": {
        "id": "yod1mUNOMeWg",
        "colab": {
          "base_uri": "https://localhost:8080/"
        },
        "outputId": "fde45a38-e35e-48c2-f263-85c9fb6f62b9"
      },
      "source": [
        "def colour_dict():\n",
        "  colour_codes = {'red' : '#FF0000', 'green' : '#008000', 'black' : '#000000', 'white' : '#FFFFFF'}\n",
        "  colour_codes['blue'] =  '#0000FF'\n",
        "  colour_codes.pop('black')\n",
        "  colour_codes.pop('white')\n",
        "  print(colour_codes)\n",
        "\n",
        "colour_dict()\n"
      ],
      "execution_count": 25,
      "outputs": [
        {
          "output_type": "stream",
          "text": [
            "{'red': '#FF0000', 'green': '#008000', 'blue': '#0000FF'}\n"
          ],
          "name": "stdout"
        }
      ]
    },
    {
      "cell_type": "markdown",
      "metadata": {
        "id": "gjos_0vuMeyS"
      },
      "source": [
        "---\n",
        "### Exercise 9 - item tuples  \n",
        "\n",
        "Write a function which will:  \n",
        "*  create a new dictionary containing the colour codes for red, green, blue, black and white\n",
        "*  print the key/value pairs of a dictionary as a list of tuples  \n",
        "\n",
        "*Hint:  iterate through colours.items()*"
      ]
    },
    {
      "cell_type": "code",
      "metadata": {
        "id": "EzuMkUypOKTY"
      },
      "source": [
        ""
      ],
      "execution_count": null,
      "outputs": []
    },
    {
      "cell_type": "markdown",
      "metadata": {
        "id": "Jw1ot10cOc6r"
      },
      "source": [
        "---\n",
        "### Exercise 10 - check if empty\n",
        "Taken from w3resouce.com  \n",
        "\n",
        "Write a function which will check if a dictionary is empty or not\n",
        "\n",
        "*Hint:  you can use bool(dictionary_name), if the dictionary is empty then bool(dictionary_name will be false)*\n",
        "\n",
        "Test 1 sample data:\n",
        "{}\n",
        "\n",
        "Expected output:\n",
        "Dictionary is empty  \n",
        "\n",
        "Test 2 sample data:  \n",
        "{\"name\":\"Groucho\", \"occupation\":\"comedian\"}\n",
        "\n",
        "Expected output:  \n",
        "Dictionary is not empty"
      ]
    },
    {
      "cell_type": "code",
      "metadata": {
        "id": "7UdM1TfwRqnt",
        "colab": {
          "base_uri": "https://localhost:8080/"
        },
        "outputId": "4fe7e2cc-a397-4e54-bff0-4cd52cbed793"
      },
      "source": [
        "def check_if_empty(d):\n",
        "  if not bool(d):\n",
        "    print('Dictionary is empty')\n",
        "  else:\n",
        "    print('Dictionary is not empty')\n",
        "\n",
        "check_if_empty({})"
      ],
      "execution_count": 27,
      "outputs": [
        {
          "output_type": "stream",
          "text": [
            "Dictionary is empty\n"
          ],
          "name": "stdout"
        }
      ]
    },
    {
      "cell_type": "code",
      "metadata": {
        "colab": {
          "base_uri": "https://localhost:8080/"
        },
        "id": "r5f4SRpaQQ-b",
        "outputId": "007ecf31-dd29-4934-df0f-93d734dee09c"
      },
      "source": [
        "check_if_empty({\"name\":\"Groucho\", \"occupation\":\"comedian\"})"
      ],
      "execution_count": 28,
      "outputs": [
        {
          "output_type": "stream",
          "text": [
            "Dictionary is not empty\n"
          ],
          "name": "stdout"
        }
      ]
    }
  ]
}