{
  "nbformat": 4,
  "nbformat_minor": 0,
  "metadata": {
    "colab": {
      "name": "Copia de Describing data.ipynb",
      "provenance": [],
      "collapsed_sections": [],
      "include_colab_link": true
    },
    "kernelspec": {
      "name": "python3",
      "display_name": "Python 3"
    },
    "language_info": {
      "name": "python"
    }
  },
  "cells": [
    {
      "cell_type": "markdown",
      "metadata": {
        "id": "view-in-github",
        "colab_type": "text"
      },
      "source": [
        "<a href=\"https://colab.research.google.com/github/blazaropinto/PDA_Data_Analysis_Python/blob/main/Describing_data.ipynb\" target=\"_parent\"><img src=\"https://colab.research.google.com/assets/colab-badge.svg\" alt=\"Open In Colab\"/></a>"
      ]
    },
    {
      "cell_type": "markdown",
      "metadata": {
        "id": "mM0KF3nvGREF"
      },
      "source": [
        "# Describing data with summary statistics\n",
        "---\n",
        "\n",
        "This worksheet is tied to the Pandas Getting Started Tutorials, picking out particular tutorials to link them into a theme here.\n",
        "\n",
        "We will focus on describing data.  This is the least risky in terms of bias and inaccurate conclusions as it should focus just on what data is presented to us.\n",
        "\n",
        "Each exercise will ask you to work through on tutorial on the Getting Started page, to try the code from the tutorial here and to try a second, similar action."
      ]
    },
    {
      "cell_type": "markdown",
      "metadata": {
        "id": "kTyelqrywYQl"
      },
      "source": [
        "---\n",
        "\n",
        "The practice data from the tutorials comes from a dataset on Titanic passengers.\n"
      ]
    },
    {
      "cell_type": "markdown",
      "metadata": {
        "id": "Cb3JAeCCOeN9"
      },
      "source": [
        "### Exercise 1 - open the Titanic dataset\n",
        "---\n",
        "\n",
        "The Titanic dataset is stored at this URL:\n",
        "https://raw.githubusercontent.com/pandas-dev/pandas/master/doc/data/titanic.csv\n",
        "\n",
        "Read the dataset into a pandas dataframe that you will call **titanic**.\n",
        "\n",
        "**Test output**:  \n",
        "The shape of the dataframe will be (891, 12)"
      ]
    },
    {
      "cell_type": "code",
      "metadata": {
        "id": "bEhmZCf7GPzn",
        "colab": {
          "base_uri": "https://localhost:8080/",
          "height": 159
        },
        "outputId": "a2fe05b8-c0d4-4675-d98c-74b3f13f7d41"
      },
      "source": [
        "import pandas as pd\n",
        "\n",
        "url = 'https://raw.githubusercontent.com/pandas-dev/pandas/master/doc/data/titanic.csv'\n",
        "\n",
        "titanic = pd.read_csv(url)\n",
        "display(titanic.head(3), titanic.shape)"
      ],
      "execution_count": 1,
      "outputs": [
        {
          "output_type": "display_data",
          "data": {
            "text/html": [
              "<div>\n",
              "<style scoped>\n",
              "    .dataframe tbody tr th:only-of-type {\n",
              "        vertical-align: middle;\n",
              "    }\n",
              "\n",
              "    .dataframe tbody tr th {\n",
              "        vertical-align: top;\n",
              "    }\n",
              "\n",
              "    .dataframe thead th {\n",
              "        text-align: right;\n",
              "    }\n",
              "</style>\n",
              "<table border=\"1\" class=\"dataframe\">\n",
              "  <thead>\n",
              "    <tr style=\"text-align: right;\">\n",
              "      <th></th>\n",
              "      <th>PassengerId</th>\n",
              "      <th>Survived</th>\n",
              "      <th>Pclass</th>\n",
              "      <th>Name</th>\n",
              "      <th>Sex</th>\n",
              "      <th>Age</th>\n",
              "      <th>SibSp</th>\n",
              "      <th>Parch</th>\n",
              "      <th>Ticket</th>\n",
              "      <th>Fare</th>\n",
              "      <th>Cabin</th>\n",
              "      <th>Embarked</th>\n",
              "    </tr>\n",
              "  </thead>\n",
              "  <tbody>\n",
              "    <tr>\n",
              "      <th>0</th>\n",
              "      <td>1</td>\n",
              "      <td>0</td>\n",
              "      <td>3</td>\n",
              "      <td>Braund, Mr. Owen Harris</td>\n",
              "      <td>male</td>\n",
              "      <td>22.0</td>\n",
              "      <td>1</td>\n",
              "      <td>0</td>\n",
              "      <td>A/5 21171</td>\n",
              "      <td>7.2500</td>\n",
              "      <td>NaN</td>\n",
              "      <td>S</td>\n",
              "    </tr>\n",
              "    <tr>\n",
              "      <th>1</th>\n",
              "      <td>2</td>\n",
              "      <td>1</td>\n",
              "      <td>1</td>\n",
              "      <td>Cumings, Mrs. John Bradley (Florence Briggs Th...</td>\n",
              "      <td>female</td>\n",
              "      <td>38.0</td>\n",
              "      <td>1</td>\n",
              "      <td>0</td>\n",
              "      <td>PC 17599</td>\n",
              "      <td>71.2833</td>\n",
              "      <td>C85</td>\n",
              "      <td>C</td>\n",
              "    </tr>\n",
              "    <tr>\n",
              "      <th>2</th>\n",
              "      <td>3</td>\n",
              "      <td>1</td>\n",
              "      <td>3</td>\n",
              "      <td>Heikkinen, Miss. Laina</td>\n",
              "      <td>female</td>\n",
              "      <td>26.0</td>\n",
              "      <td>0</td>\n",
              "      <td>0</td>\n",
              "      <td>STON/O2. 3101282</td>\n",
              "      <td>7.9250</td>\n",
              "      <td>NaN</td>\n",
              "      <td>S</td>\n",
              "    </tr>\n",
              "  </tbody>\n",
              "</table>\n",
              "</div>"
            ],
            "text/plain": [
              "   PassengerId  Survived  Pclass  ...     Fare Cabin  Embarked\n",
              "0            1         0       3  ...   7.2500   NaN         S\n",
              "1            2         1       1  ...  71.2833   C85         C\n",
              "2            3         1       3  ...   7.9250   NaN         S\n",
              "\n",
              "[3 rows x 12 columns]"
            ]
          },
          "metadata": {
            "tags": []
          }
        },
        {
          "output_type": "display_data",
          "data": {
            "text/plain": [
              "(891, 12)"
            ]
          },
          "metadata": {
            "tags": []
          }
        }
      ]
    },
    {
      "cell_type": "markdown",
      "metadata": {
        "id": "bNNZCv5DQWAU"
      },
      "source": [
        "### Exercise 2 - get summary information about the dataframe\n",
        "---\n",
        "\n",
        "Read through the tutorials:  \n",
        "[What kind of data does pandas handle?](https://pandas.pydata.org/docs/getting_started/intro_tutorials/01_table_oriented.html#)  \n",
        "[How do I read and write tabular data?](https://pandas.pydata.org/docs/getting_started/intro_tutorials/02_read_write.html)\n",
        "\n",
        "Use panda functions to display the following:\n",
        "1.  A technical summary of the data (info())\n",
        "2.  A description of the numerical data (describe())\n",
        "3.  Display the Series 'Age'\n",
        "\n",
        "**Test output**:   \n",
        "1.  The info should show that there are only 204 values in the Cabin series, out of 891 records.  \n",
        "2.  The description should show 7 columns and a mean age of 29.699118\n",
        "3.  The Age series should have values of type float64 and Length 891"
      ]
    },
    {
      "cell_type": "code",
      "metadata": {
        "id": "puw-h7O0RJlk",
        "colab": {
          "base_uri": "https://localhost:8080/",
          "height": 875
        },
        "outputId": "9b4bf6cf-713d-496a-948a-59498012b985"
      },
      "source": [
        "print('A technical summary of the data: ')\n",
        "display(titanic.info())\n",
        "print('\\n')\n",
        "\n",
        "print('A description with the main statistics of the numerical data: ')\n",
        "display(titanic.describe())\n",
        "print('\\n')\n",
        "\n",
        "print('the first lines of the series \\'Age\\' and its whole length: ')\n",
        "display(titanic.Age[:5], titanic.Age.size)  #use .size instead of .count() to include missing values\n",
        "# .shape[0] also would work"
      ],
      "execution_count": 3,
      "outputs": [
        {
          "output_type": "stream",
          "text": [
            "A technical summary of the data: \n",
            "<class 'pandas.core.frame.DataFrame'>\n",
            "RangeIndex: 891 entries, 0 to 890\n",
            "Data columns (total 12 columns):\n",
            " #   Column       Non-Null Count  Dtype  \n",
            "---  ------       --------------  -----  \n",
            " 0   PassengerId  891 non-null    int64  \n",
            " 1   Survived     891 non-null    int64  \n",
            " 2   Pclass       891 non-null    int64  \n",
            " 3   Name         891 non-null    object \n",
            " 4   Sex          891 non-null    object \n",
            " 5   Age          714 non-null    float64\n",
            " 6   SibSp        891 non-null    int64  \n",
            " 7   Parch        891 non-null    int64  \n",
            " 8   Ticket       891 non-null    object \n",
            " 9   Fare         891 non-null    float64\n",
            " 10  Cabin        204 non-null    object \n",
            " 11  Embarked     889 non-null    object \n",
            "dtypes: float64(2), int64(5), object(5)\n",
            "memory usage: 83.7+ KB\n"
          ],
          "name": "stdout"
        },
        {
          "output_type": "display_data",
          "data": {
            "text/plain": [
              "None"
            ]
          },
          "metadata": {
            "tags": []
          }
        },
        {
          "output_type": "stream",
          "text": [
            "\n",
            "\n",
            "A description with the main statistics of the numerical data: \n"
          ],
          "name": "stdout"
        },
        {
          "output_type": "display_data",
          "data": {
            "text/html": [
              "<div>\n",
              "<style scoped>\n",
              "    .dataframe tbody tr th:only-of-type {\n",
              "        vertical-align: middle;\n",
              "    }\n",
              "\n",
              "    .dataframe tbody tr th {\n",
              "        vertical-align: top;\n",
              "    }\n",
              "\n",
              "    .dataframe thead th {\n",
              "        text-align: right;\n",
              "    }\n",
              "</style>\n",
              "<table border=\"1\" class=\"dataframe\">\n",
              "  <thead>\n",
              "    <tr style=\"text-align: right;\">\n",
              "      <th></th>\n",
              "      <th>PassengerId</th>\n",
              "      <th>Survived</th>\n",
              "      <th>Pclass</th>\n",
              "      <th>Age</th>\n",
              "      <th>SibSp</th>\n",
              "      <th>Parch</th>\n",
              "      <th>Fare</th>\n",
              "    </tr>\n",
              "  </thead>\n",
              "  <tbody>\n",
              "    <tr>\n",
              "      <th>count</th>\n",
              "      <td>891.000000</td>\n",
              "      <td>891.000000</td>\n",
              "      <td>891.000000</td>\n",
              "      <td>714.000000</td>\n",
              "      <td>891.000000</td>\n",
              "      <td>891.000000</td>\n",
              "      <td>891.000000</td>\n",
              "    </tr>\n",
              "    <tr>\n",
              "      <th>mean</th>\n",
              "      <td>446.000000</td>\n",
              "      <td>0.383838</td>\n",
              "      <td>2.308642</td>\n",
              "      <td>29.699118</td>\n",
              "      <td>0.523008</td>\n",
              "      <td>0.381594</td>\n",
              "      <td>32.204208</td>\n",
              "    </tr>\n",
              "    <tr>\n",
              "      <th>std</th>\n",
              "      <td>257.353842</td>\n",
              "      <td>0.486592</td>\n",
              "      <td>0.836071</td>\n",
              "      <td>14.526497</td>\n",
              "      <td>1.102743</td>\n",
              "      <td>0.806057</td>\n",
              "      <td>49.693429</td>\n",
              "    </tr>\n",
              "    <tr>\n",
              "      <th>min</th>\n",
              "      <td>1.000000</td>\n",
              "      <td>0.000000</td>\n",
              "      <td>1.000000</td>\n",
              "      <td>0.420000</td>\n",
              "      <td>0.000000</td>\n",
              "      <td>0.000000</td>\n",
              "      <td>0.000000</td>\n",
              "    </tr>\n",
              "    <tr>\n",
              "      <th>25%</th>\n",
              "      <td>223.500000</td>\n",
              "      <td>0.000000</td>\n",
              "      <td>2.000000</td>\n",
              "      <td>20.125000</td>\n",
              "      <td>0.000000</td>\n",
              "      <td>0.000000</td>\n",
              "      <td>7.910400</td>\n",
              "    </tr>\n",
              "    <tr>\n",
              "      <th>50%</th>\n",
              "      <td>446.000000</td>\n",
              "      <td>0.000000</td>\n",
              "      <td>3.000000</td>\n",
              "      <td>28.000000</td>\n",
              "      <td>0.000000</td>\n",
              "      <td>0.000000</td>\n",
              "      <td>14.454200</td>\n",
              "    </tr>\n",
              "    <tr>\n",
              "      <th>75%</th>\n",
              "      <td>668.500000</td>\n",
              "      <td>1.000000</td>\n",
              "      <td>3.000000</td>\n",
              "      <td>38.000000</td>\n",
              "      <td>1.000000</td>\n",
              "      <td>0.000000</td>\n",
              "      <td>31.000000</td>\n",
              "    </tr>\n",
              "    <tr>\n",
              "      <th>max</th>\n",
              "      <td>891.000000</td>\n",
              "      <td>1.000000</td>\n",
              "      <td>3.000000</td>\n",
              "      <td>80.000000</td>\n",
              "      <td>8.000000</td>\n",
              "      <td>6.000000</td>\n",
              "      <td>512.329200</td>\n",
              "    </tr>\n",
              "  </tbody>\n",
              "</table>\n",
              "</div>"
            ],
            "text/plain": [
              "       PassengerId    Survived      Pclass  ...       SibSp       Parch        Fare\n",
              "count   891.000000  891.000000  891.000000  ...  891.000000  891.000000  891.000000\n",
              "mean    446.000000    0.383838    2.308642  ...    0.523008    0.381594   32.204208\n",
              "std     257.353842    0.486592    0.836071  ...    1.102743    0.806057   49.693429\n",
              "min       1.000000    0.000000    1.000000  ...    0.000000    0.000000    0.000000\n",
              "25%     223.500000    0.000000    2.000000  ...    0.000000    0.000000    7.910400\n",
              "50%     446.000000    0.000000    3.000000  ...    0.000000    0.000000   14.454200\n",
              "75%     668.500000    1.000000    3.000000  ...    1.000000    0.000000   31.000000\n",
              "max     891.000000    1.000000    3.000000  ...    8.000000    6.000000  512.329200\n",
              "\n",
              "[8 rows x 7 columns]"
            ]
          },
          "metadata": {
            "tags": []
          }
        },
        {
          "output_type": "stream",
          "text": [
            "\n",
            "\n",
            "the first lines of the series 'Age' and its whole length: \n"
          ],
          "name": "stdout"
        },
        {
          "output_type": "display_data",
          "data": {
            "text/plain": [
              "0    22.0\n",
              "1    38.0\n",
              "2    26.0\n",
              "3    35.0\n",
              "4    35.0\n",
              "Name: Age, dtype: float64"
            ]
          },
          "metadata": {
            "tags": []
          }
        },
        {
          "output_type": "display_data",
          "data": {
            "text/plain": [
              "891"
            ]
          },
          "metadata": {
            "tags": []
          }
        }
      ]
    },
    {
      "cell_type": "markdown",
      "metadata": {
        "id": "g3EzF12i0m1a"
      },
      "source": [
        "### Exercise 3 - aggregating statistics\n",
        "---\n",
        "\n",
        "Read through the tutorial:  \n",
        "[How to calculate summary statistics?](https://pandas.pydata.org/docs/getting_started/intro_tutorials/06_calculate_statistics.html#)  \n",
        "\n",
        "Use panda functions to display the following summary statistics from the titanic dataset:  \n",
        "\n",
        "1.  The average (mean) age of passengers  \n",
        "2.  The median age and fare  \n",
        "3.  The mean fare\n",
        "4.  The modal fare and gender\n",
        "\n",
        "**Test output**:   \n",
        "29.699118, Age 28.0000 Fare 14.4542, 32.2042079685746, Fare 8.05 Sex male \n"
      ]
    },
    {
      "cell_type": "code",
      "metadata": {
        "id": "D7jFHvO42UL5",
        "colab": {
          "base_uri": "https://localhost:8080/",
          "height": 301
        },
        "outputId": "4b6e7157-a5cc-490c-d7fb-6129d098c5f8"
      },
      "source": [
        "print('The average (mean) age of passengers is: ', titanic.Age.mean())\n",
        "print('\\n')\n",
        "\n",
        "print('The median age and fare is: ')\n",
        "display(titanic[['Age', 'Fare']].median())\n",
        "print('\\n')\n",
        "\n",
        "print('The mean fare is: ', titanic.Fare.mean())\n",
        "print('\\n')\n",
        "\n",
        "print('The modal fare and gender is: ')\n",
        "display(titanic[['Fare', 'Sex']].mode())"
      ],
      "execution_count": 4,
      "outputs": [
        {
          "output_type": "stream",
          "text": [
            "The average (mean) age of passengers is:  29.69911764705882\n",
            "\n",
            "\n",
            "The median age and fare is: \n"
          ],
          "name": "stdout"
        },
        {
          "output_type": "display_data",
          "data": {
            "text/plain": [
              "Age     28.0000\n",
              "Fare    14.4542\n",
              "dtype: float64"
            ]
          },
          "metadata": {
            "tags": []
          }
        },
        {
          "output_type": "stream",
          "text": [
            "\n",
            "\n",
            "The mean fare is:  32.2042079685746\n",
            "\n",
            "\n",
            "The modal fare and gender is: \n"
          ],
          "name": "stdout"
        },
        {
          "output_type": "display_data",
          "data": {
            "text/html": [
              "<div>\n",
              "<style scoped>\n",
              "    .dataframe tbody tr th:only-of-type {\n",
              "        vertical-align: middle;\n",
              "    }\n",
              "\n",
              "    .dataframe tbody tr th {\n",
              "        vertical-align: top;\n",
              "    }\n",
              "\n",
              "    .dataframe thead th {\n",
              "        text-align: right;\n",
              "    }\n",
              "</style>\n",
              "<table border=\"1\" class=\"dataframe\">\n",
              "  <thead>\n",
              "    <tr style=\"text-align: right;\">\n",
              "      <th></th>\n",
              "      <th>Fare</th>\n",
              "      <th>Sex</th>\n",
              "    </tr>\n",
              "  </thead>\n",
              "  <tbody>\n",
              "    <tr>\n",
              "      <th>0</th>\n",
              "      <td>8.05</td>\n",
              "      <td>male</td>\n",
              "    </tr>\n",
              "  </tbody>\n",
              "</table>\n",
              "</div>"
            ],
            "text/plain": [
              "   Fare   Sex\n",
              "0  8.05  male"
            ]
          },
          "metadata": {
            "tags": []
          }
        }
      ]
    },
    {
      "cell_type": "markdown",
      "metadata": {
        "id": "moYrHf2s2UrP"
      },
      "source": [
        "### Exercise 4 - displaying other statistics\n",
        "---\n",
        "\n",
        "Take a look at the list of methods available for giving summary statistics [here](https://pandas.pydata.org/docs/user_guide/basics.html#basics-stats) \n",
        "\n",
        "Use panda functions, and your existing knowledge, to display the following summary statistics from the titanic dataset:\n",
        "\n",
        "1.  The total number of passengers on the titanic\n",
        "2.  The age of the youngest passenger\n",
        "3.  The most expensive ticket price\n",
        "4.  The range of ticket prices\n",
        "5.  The number of passenges with cabins\n",
        "6.  The code for the port where the highest number of passengers embarked\n",
        "7.  The most populous gender\n",
        "8.  The standard deviation for age and fare\n",
        "\n",
        "**Tests**:  \n",
        "891, 0.42, 512.3292, 512.3292, 204, S, male, Age 14.526497 Fare 49.693429"
      ]
    },
    {
      "cell_type": "code",
      "metadata": {
        "id": "AqDs2Xfw3upQ",
        "colab": {
          "base_uri": "https://localhost:8080/",
          "height": 204
        },
        "outputId": "b6ee1b8f-424f-4f44-b1ba-65b58dd94c5f"
      },
      "source": [
        "print('The total number of passengers on the titanic: ', len(titanic.PassengerId))\n",
        "\n",
        "print('The age of the youngest passenger: ', titanic.Age.min())\n",
        "\n",
        "print('The most expensive ticket price: ', titanic.Fare.max())\n",
        "\n",
        "print('The range of ticket prices: ', titanic.Fare.min(), 'to', titanic.Fare.max())\n",
        "\n",
        "print('The number of passenges with cabins: ', titanic.Cabin.notna().sum())\n",
        "\n",
        "print('The code for the port where the highest number of passengers embarked: ', titanic.Embarked.mode()[0])\n",
        "\n",
        "print('The most populous gender: ', titanic.Sex.mode()[0])\n",
        "\n",
        "#print('The standard deviation for age and fare: ', round(titanic.Age.std(),6), 'and', round(titanic.Fare.std(),3))\n",
        "print('The standard deviation for age and fare: ')\n",
        "display(titanic[['Age', 'Fare']].std())"
      ],
      "execution_count": 35,
      "outputs": [
        {
          "output_type": "stream",
          "text": [
            "The total number of passengers on the titanic:  891\n",
            "The age of the youngest passenger:  0.42\n",
            "The most expensive ticket price:  512.3292\n",
            "The range of ticket prices:  0.0 to 512.3292\n",
            "The number of passenges with cabins:  204\n",
            "The code for the port where the highest number of passengers embarked:  S\n",
            "The most populous gender:  male\n",
            "The standard deviation for age and fare: \n"
          ],
          "name": "stdout"
        },
        {
          "output_type": "display_data",
          "data": {
            "text/plain": [
              "Age     14.526497\n",
              "Fare    49.693429\n",
              "dtype: float64"
            ]
          },
          "metadata": {
            "tags": []
          }
        }
      ]
    },
    {
      "cell_type": "markdown",
      "metadata": {
        "id": "Q6s13LaY4_QC"
      },
      "source": [
        "### Exercise 5 - aggregating statistics grouped by category\n",
        "---\n",
        "\n",
        "Refer again to the tutorial  \n",
        "[How to calculate summary statistics?](https://pandas.pydata.org/docs/getting_started/intro_tutorials/06_calculate_statistics.html#)   \n",
        "looking particularly at the section on Aggregating statistics grouped by category.\n",
        "\n",
        "1.  What is the mean age for male versus female Titanic passengers?\n",
        "2.  What is the mean ticket fare price for each of the sex and cabin class combinations?\n",
        "3.  What is the mean ticket fare price for passengers who embarked at each port?\n",
        "4.  Which passenger class had the highest number of survivors (for now, just show the statistics - it may not be meaningful yet)?\n",
        "\n",
        "**Test output**:  \n",
        "1.  female 27.915709 male 30.726645\n",
        "2.  \n",
        "```\n",
        "female  1         106.125798\n",
        "            2          21.970121\n",
        "            3          16.118810\n",
        "male    1          67.226127\n",
        "            2          19.741782\n",
        "            3          12.661633\n",
        "```\n",
        "3.  \n",
        "```\n",
        "C    59.954144\n",
        "Q    13.276030\n",
        "S    27.079812\n",
        "```\n",
        "4. \n",
        "\n",
        "```\n",
        "Survived  Pclass\n",
        "\n",
        "0         1          80\n",
        "          2          97\n",
        "          3         372\n",
        "1         1         136\n",
        "          2          87\n",
        "          3         119\n",
        "```\n",
        "\n",
        "\n",
        "\n",
        "\n"
      ]
    },
    {
      "cell_type": "code",
      "metadata": {
        "id": "hH4-UZxH_omw",
        "colab": {
          "base_uri": "https://localhost:8080/",
          "height": 646
        },
        "outputId": "cd27f874-e051-4685-a2a7-a4621c62ace3"
      },
      "source": [
        "print('The mean age for male versus female Titanic passengers: ')\n",
        "display(titanic.groupby('Sex')['Age'].mean())\n",
        "print('\\n')\n",
        "\n",
        "print('The mean ticket fare price for each of the sex and cabin class combinations: ')\n",
        "display(titanic.groupby(['Sex', 'Pclass'])['Fare'].mean())\n",
        "print('\\n')\n",
        "\n",
        "print('the mean ticket fare price for passengers who embarked at each port: ')\n",
        "display(titanic.groupby('Embarked')['Fare'].mean())\n",
        "print('\\n')\n",
        "\n",
        "print('The passenger class that had the highest number of survivors: ')\n",
        "#display(titanic.groupby('Survived')['Pclass'].value_counts())\n",
        "display(titanic.groupby(['Survived', 'Pclass']).size())\n",
        "print('\\n')"
      ],
      "execution_count": 10,
      "outputs": [
        {
          "output_type": "stream",
          "text": [
            "The mean age for male versus female Titanic passengers: \n"
          ],
          "name": "stdout"
        },
        {
          "output_type": "display_data",
          "data": {
            "text/plain": [
              "Sex\n",
              "female    27.915709\n",
              "male      30.726645\n",
              "Name: Age, dtype: float64"
            ]
          },
          "metadata": {
            "tags": []
          }
        },
        {
          "output_type": "stream",
          "text": [
            "\n",
            "\n",
            "The mean ticket fare price for each of the sex and cabin class combinations: \n"
          ],
          "name": "stdout"
        },
        {
          "output_type": "display_data",
          "data": {
            "text/plain": [
              "Sex     Pclass\n",
              "female  1         106.125798\n",
              "        2          21.970121\n",
              "        3          16.118810\n",
              "male    1          67.226127\n",
              "        2          19.741782\n",
              "        3          12.661633\n",
              "Name: Fare, dtype: float64"
            ]
          },
          "metadata": {
            "tags": []
          }
        },
        {
          "output_type": "stream",
          "text": [
            "\n",
            "\n",
            "the mean ticket fare price for passengers who embarked at each port: \n"
          ],
          "name": "stdout"
        },
        {
          "output_type": "display_data",
          "data": {
            "text/plain": [
              "Embarked\n",
              "C    59.954144\n",
              "Q    13.276030\n",
              "S    27.079812\n",
              "Name: Fare, dtype: float64"
            ]
          },
          "metadata": {
            "tags": []
          }
        },
        {
          "output_type": "stream",
          "text": [
            "\n",
            "\n",
            "The passenger class that had the highest number of survivors: \n"
          ],
          "name": "stdout"
        },
        {
          "output_type": "display_data",
          "data": {
            "text/plain": [
              "Survived  Pclass\n",
              "0         1          80\n",
              "          2          97\n",
              "          3         372\n",
              "1         1         136\n",
              "          2          87\n",
              "          3         119\n",
              "dtype: int64"
            ]
          },
          "metadata": {
            "tags": []
          }
        },
        {
          "output_type": "stream",
          "text": [
            "\n",
            "\n"
          ],
          "name": "stdout"
        }
      ]
    },
    {
      "cell_type": "markdown",
      "metadata": {
        "id": "uG42G7oPCaVT"
      },
      "source": [
        "### Exercise 6 - an aggregation of different statistics\n",
        "---\n",
        "\n",
        "Use the function titanic.agg() as shown in the tutorial  \n",
        "[How to calculate summary statistics?](https://pandas.pydata.org/docs/getting_started/intro_tutorials/06_calculate_statistics.html#)  \n",
        "\n",
        "1.  Display\n",
        "\n",
        "```\n",
        "     {\n",
        "         \"Age\": [\"min\", \"max\", \"median\", \"skew\"],\n",
        "         \"Fare\": [\"min\", \"max\", \"median\", \"mean\"]\n",
        "     }\n",
        "```\n",
        "2.  Display:  \n",
        "min, max and mean for Age  \n",
        "min, max and standard deviation for Fare  \n",
        "count for Cabin\n",
        "\n",
        "**Test output**:   \n",
        "1.  \t\n",
        "```\n",
        "                  Age\t      Fare  \n",
        "max\t   80.000000\t512.329200  \n",
        "mean\t  NaN\t      32.204208  \n",
        "median\t28.000000\t14.454200  \n",
        "min\t   0.420000\t 0.000000  \n",
        "skew\t  0.389108\t NaN\n",
        "```\n",
        "\n",
        "2.   \n",
        "```\n",
        "\t        Age\t    Fare\t   Cabin\n",
        "count  NaN\t    NaN\t    204.0\n",
        "max\t80.000000  512.329200 NaN\n",
        "mean   29.699118  NaN        NaN\n",
        "min\t0.420000   0.000000   NaN\n",
        "std\tNaN        49.693429  NaN\n",
        "```\n",
        "\n",
        "\n"
      ]
    },
    {
      "cell_type": "code",
      "metadata": {
        "id": "2hqgzlZgZnzx",
        "colab": {
          "base_uri": "https://localhost:8080/",
          "height": 204
        },
        "outputId": "835de7ba-a83c-4cda-a353-75b47b5b9dca"
      },
      "source": [
        "display(titanic.agg({\n",
        "         \"Age\": [\"min\", \"max\", \"median\", \"skew\"],\n",
        "         \"Fare\": [\"min\", \"max\", \"median\", \"mean\"]\n",
        "     }))"
      ],
      "execution_count": 11,
      "outputs": [
        {
          "output_type": "display_data",
          "data": {
            "text/html": [
              "<div>\n",
              "<style scoped>\n",
              "    .dataframe tbody tr th:only-of-type {\n",
              "        vertical-align: middle;\n",
              "    }\n",
              "\n",
              "    .dataframe tbody tr th {\n",
              "        vertical-align: top;\n",
              "    }\n",
              "\n",
              "    .dataframe thead th {\n",
              "        text-align: right;\n",
              "    }\n",
              "</style>\n",
              "<table border=\"1\" class=\"dataframe\">\n",
              "  <thead>\n",
              "    <tr style=\"text-align: right;\">\n",
              "      <th></th>\n",
              "      <th>Age</th>\n",
              "      <th>Fare</th>\n",
              "    </tr>\n",
              "  </thead>\n",
              "  <tbody>\n",
              "    <tr>\n",
              "      <th>max</th>\n",
              "      <td>80.000000</td>\n",
              "      <td>512.329200</td>\n",
              "    </tr>\n",
              "    <tr>\n",
              "      <th>mean</th>\n",
              "      <td>NaN</td>\n",
              "      <td>32.204208</td>\n",
              "    </tr>\n",
              "    <tr>\n",
              "      <th>median</th>\n",
              "      <td>28.000000</td>\n",
              "      <td>14.454200</td>\n",
              "    </tr>\n",
              "    <tr>\n",
              "      <th>min</th>\n",
              "      <td>0.420000</td>\n",
              "      <td>0.000000</td>\n",
              "    </tr>\n",
              "    <tr>\n",
              "      <th>skew</th>\n",
              "      <td>0.389108</td>\n",
              "      <td>NaN</td>\n",
              "    </tr>\n",
              "  </tbody>\n",
              "</table>\n",
              "</div>"
            ],
            "text/plain": [
              "              Age        Fare\n",
              "max     80.000000  512.329200\n",
              "mean          NaN   32.204208\n",
              "median  28.000000   14.454200\n",
              "min      0.420000    0.000000\n",
              "skew     0.389108         NaN"
            ]
          },
          "metadata": {
            "tags": []
          }
        }
      ]
    },
    {
      "cell_type": "code",
      "metadata": {
        "colab": {
          "base_uri": "https://localhost:8080/",
          "height": 204
        },
        "id": "c5FnodSlyBYa",
        "outputId": "8ee72c55-9942-4018-d976-387b6a75c47f"
      },
      "source": [
        "display(titanic.agg({\n",
        "    'Age': ['min', 'max', 'mean'],\n",
        "    'Fare': ['min', 'max', 'std'],\n",
        "    'Cabin': 'count'\n",
        "      }))"
      ],
      "execution_count": 12,
      "outputs": [
        {
          "output_type": "display_data",
          "data": {
            "text/html": [
              "<div>\n",
              "<style scoped>\n",
              "    .dataframe tbody tr th:only-of-type {\n",
              "        vertical-align: middle;\n",
              "    }\n",
              "\n",
              "    .dataframe tbody tr th {\n",
              "        vertical-align: top;\n",
              "    }\n",
              "\n",
              "    .dataframe thead th {\n",
              "        text-align: right;\n",
              "    }\n",
              "</style>\n",
              "<table border=\"1\" class=\"dataframe\">\n",
              "  <thead>\n",
              "    <tr style=\"text-align: right;\">\n",
              "      <th></th>\n",
              "      <th>Age</th>\n",
              "      <th>Fare</th>\n",
              "      <th>Cabin</th>\n",
              "    </tr>\n",
              "  </thead>\n",
              "  <tbody>\n",
              "    <tr>\n",
              "      <th>count</th>\n",
              "      <td>NaN</td>\n",
              "      <td>NaN</td>\n",
              "      <td>204.0</td>\n",
              "    </tr>\n",
              "    <tr>\n",
              "      <th>max</th>\n",
              "      <td>80.000000</td>\n",
              "      <td>512.329200</td>\n",
              "      <td>NaN</td>\n",
              "    </tr>\n",
              "    <tr>\n",
              "      <th>mean</th>\n",
              "      <td>29.699118</td>\n",
              "      <td>NaN</td>\n",
              "      <td>NaN</td>\n",
              "    </tr>\n",
              "    <tr>\n",
              "      <th>min</th>\n",
              "      <td>0.420000</td>\n",
              "      <td>0.000000</td>\n",
              "      <td>NaN</td>\n",
              "    </tr>\n",
              "    <tr>\n",
              "      <th>std</th>\n",
              "      <td>NaN</td>\n",
              "      <td>49.693429</td>\n",
              "      <td>NaN</td>\n",
              "    </tr>\n",
              "  </tbody>\n",
              "</table>\n",
              "</div>"
            ],
            "text/plain": [
              "             Age        Fare  Cabin\n",
              "count        NaN         NaN  204.0\n",
              "max    80.000000  512.329200    NaN\n",
              "mean   29.699118         NaN    NaN\n",
              "min     0.420000    0.000000    NaN\n",
              "std          NaN   49.693429    NaN"
            ]
          },
          "metadata": {
            "tags": []
          }
        }
      ]
    },
    {
      "cell_type": "markdown",
      "metadata": {
        "id": "cucQCpY1SwUj"
      },
      "source": [
        "### Exercise 7 - count by category\n",
        "---\n",
        "\n",
        "Read the section Count number of records by category in the tutorial  \n",
        "[How to calculate summary statistics?](https://pandas.pydata.org/docs/getting_started/intro_tutorials/06_calculate_statistics.html#)\n",
        "\n",
        "1. Display the number of passengers of each gender who had a ticket\n",
        "2. Display the number of passengers who embarked at each port and had a ticket\n",
        "3. Calculate the percentage of PassengerIds who survived the sinking of the Titanic (*Hint:  try getting the PassengerIds with a count for survived or not.  Store this value in a new variable, which will contain a list/array.  The second item in this list will be the number who survived.  You can use this number and the count of PassengerIds to calculate the percentage*)\n",
        "\n",
        "**Test output**:  \n",
        "1.  female 314, male 577\n",
        "2.  C 168, Q 77, S 644\n",
        "3.  38.38383838383838\n",
        "\n"
      ]
    },
    {
      "cell_type": "code",
      "metadata": {
        "id": "NkZHxv_nTj-o",
        "colab": {
          "base_uri": "https://localhost:8080/",
          "height": 102
        },
        "outputId": "3806cefd-5755-4de0-c3b8-adef272a6887"
      },
      "source": [
        "print('the number of passengers of each gender who had a ticket: ')\n",
        "display(titanic.groupby('Sex')['Ticket'].count())"
      ],
      "execution_count": 13,
      "outputs": [
        {
          "output_type": "stream",
          "text": [
            "the number of passengers of each gender who had a ticket: \n"
          ],
          "name": "stdout"
        },
        {
          "output_type": "display_data",
          "data": {
            "text/plain": [
              "Sex\n",
              "female    314\n",
              "male      577\n",
              "Name: Ticket, dtype: int64"
            ]
          },
          "metadata": {
            "tags": []
          }
        }
      ]
    },
    {
      "cell_type": "code",
      "metadata": {
        "colab": {
          "base_uri": "https://localhost:8080/",
          "height": 119
        },
        "id": "hid5L48A0hQg",
        "outputId": "67d1c1be-32c2-4f4a-fa46-ee2a39fa569c"
      },
      "source": [
        "print('the number of passengers who embarked at each port and had a ticket: ')\n",
        "display(titanic.groupby('Embarked')['Ticket'].count())"
      ],
      "execution_count": 14,
      "outputs": [
        {
          "output_type": "stream",
          "text": [
            "the number of passengers who embarked at each port and had a ticket: \n"
          ],
          "name": "stdout"
        },
        {
          "output_type": "display_data",
          "data": {
            "text/plain": [
              "Embarked\n",
              "C    168\n",
              "Q     77\n",
              "S    644\n",
              "Name: Ticket, dtype: int64"
            ]
          },
          "metadata": {
            "tags": []
          }
        }
      ]
    },
    {
      "cell_type": "code",
      "metadata": {
        "colab": {
          "base_uri": "https://localhost:8080/",
          "height": 85
        },
        "id": "DRgopvl80sed",
        "outputId": "c2a44ed8-5a90-4c30-8bb8-8f0477a46391"
      },
      "source": [
        "print('percentage of PassengerIds who survived the sinking of the Titanic: ')\n",
        "#display(titanic[titanic.Survived == 1]['PassengerId'].count()/titanic.PassengerId.count())\n",
        "display(titanic.Survived.value_counts(normalize=True))"
      ],
      "execution_count": 27,
      "outputs": [
        {
          "output_type": "stream",
          "text": [
            "percentage of PassengerIds who survived the sinking of the Titanic: \n"
          ],
          "name": "stdout"
        },
        {
          "output_type": "display_data",
          "data": {
            "text/plain": [
              "0    0.616162\n",
              "1    0.383838\n",
              "Name: Survived, dtype: float64"
            ]
          },
          "metadata": {
            "tags": []
          }
        }
      ]
    },
    {
      "cell_type": "markdown",
      "metadata": {
        "id": "Y2aTzdTlLjlI"
      },
      "source": [
        "### Exercise 8 - summary happiness statistics\n",
        "---\n",
        "\n",
        "Open the data set here: https://github.com/futureCodersSE/working-with-data/blob/main/Happiness-Data/2019.xlsx?raw=true\n",
        "\n",
        "It contains data on people's perception of happiness levels in a number of countries across the world.\n",
        "\n",
        "1.  Display the number of records in the set  \n",
        "2.  Display the description of the numerical data  \n",
        "3.  Display the highest GDP and life expectancy  \n",
        "4.  Display the mean, max and min for Freedom,  mean, max, min and skew for Generosity and mean, min, max and std for GDP  \n",
        "\n",
        "**Test output**:  \n",
        "1.  156\n",
        "2.  Table showing count, mean, std, min, 25%, 50%, 75%, max for 8 columns\n",
        "3.  GDP 0.905147, life expectancy 0.725244  \n",
        "4.  \n",
        "\n",
        "\n",
        "```\n",
        "\t   Freedom to make life choices\tGenerosity\tGDP per capita\n",
        "max\t 0.631000\t                   0.566000\t  1.684000\n",
        "mean\t0.392571\t                   0.184846\t  0.905147\n",
        "min\t 0.000000\t                   0.000000  \t0.000000\n",
        "skew\tNaN\t                        0.745942\t  NaN\n",
        "std\t NaN\t                        NaN\t       0.398389\n",
        "```\n",
        "\n",
        "\n"
      ]
    },
    {
      "cell_type": "code",
      "metadata": {
        "id": "ISwIDuuAL6qo",
        "colab": {
          "base_uri": "https://localhost:8080/",
          "height": 204
        },
        "outputId": "a006a59b-08b0-40b9-af94-f538e0ec59b5"
      },
      "source": [
        "happiness = pd.read_excel('https://github.com/futureCodersSE/working-with-data/blob/main/Happiness-Data/2019.xlsx?raw=true')\n",
        "happiness.head()"
      ],
      "execution_count": 30,
      "outputs": [
        {
          "output_type": "execute_result",
          "data": {
            "text/html": [
              "<div>\n",
              "<style scoped>\n",
              "    .dataframe tbody tr th:only-of-type {\n",
              "        vertical-align: middle;\n",
              "    }\n",
              "\n",
              "    .dataframe tbody tr th {\n",
              "        vertical-align: top;\n",
              "    }\n",
              "\n",
              "    .dataframe thead th {\n",
              "        text-align: right;\n",
              "    }\n",
              "</style>\n",
              "<table border=\"1\" class=\"dataframe\">\n",
              "  <thead>\n",
              "    <tr style=\"text-align: right;\">\n",
              "      <th></th>\n",
              "      <th>Overall rank</th>\n",
              "      <th>Country or region</th>\n",
              "      <th>Score</th>\n",
              "      <th>GDP per capita</th>\n",
              "      <th>Social support</th>\n",
              "      <th>Healthy life expectancy</th>\n",
              "      <th>Freedom to make life choices</th>\n",
              "      <th>Generosity</th>\n",
              "      <th>Perceptions of corruption</th>\n",
              "    </tr>\n",
              "  </thead>\n",
              "  <tbody>\n",
              "    <tr>\n",
              "      <th>0</th>\n",
              "      <td>1</td>\n",
              "      <td>Finland</td>\n",
              "      <td>7.769</td>\n",
              "      <td>1.340</td>\n",
              "      <td>1.587</td>\n",
              "      <td>0.986</td>\n",
              "      <td>0.596</td>\n",
              "      <td>0.153</td>\n",
              "      <td>0.393</td>\n",
              "    </tr>\n",
              "    <tr>\n",
              "      <th>1</th>\n",
              "      <td>2</td>\n",
              "      <td>Denmark</td>\n",
              "      <td>7.600</td>\n",
              "      <td>1.383</td>\n",
              "      <td>1.573</td>\n",
              "      <td>0.996</td>\n",
              "      <td>0.592</td>\n",
              "      <td>0.252</td>\n",
              "      <td>0.410</td>\n",
              "    </tr>\n",
              "    <tr>\n",
              "      <th>2</th>\n",
              "      <td>3</td>\n",
              "      <td>Norway</td>\n",
              "      <td>7.554</td>\n",
              "      <td>1.488</td>\n",
              "      <td>1.582</td>\n",
              "      <td>1.028</td>\n",
              "      <td>0.603</td>\n",
              "      <td>0.271</td>\n",
              "      <td>0.341</td>\n",
              "    </tr>\n",
              "    <tr>\n",
              "      <th>3</th>\n",
              "      <td>4</td>\n",
              "      <td>Iceland</td>\n",
              "      <td>7.494</td>\n",
              "      <td>1.380</td>\n",
              "      <td>1.624</td>\n",
              "      <td>1.026</td>\n",
              "      <td>0.591</td>\n",
              "      <td>0.354</td>\n",
              "      <td>0.118</td>\n",
              "    </tr>\n",
              "    <tr>\n",
              "      <th>4</th>\n",
              "      <td>5</td>\n",
              "      <td>Netherlands</td>\n",
              "      <td>7.488</td>\n",
              "      <td>1.396</td>\n",
              "      <td>1.522</td>\n",
              "      <td>0.999</td>\n",
              "      <td>0.557</td>\n",
              "      <td>0.322</td>\n",
              "      <td>0.298</td>\n",
              "    </tr>\n",
              "  </tbody>\n",
              "</table>\n",
              "</div>"
            ],
            "text/plain": [
              "   Overall rank Country or region  ...  Generosity  Perceptions of corruption\n",
              "0             1           Finland  ...       0.153                      0.393\n",
              "1             2           Denmark  ...       0.252                      0.410\n",
              "2             3            Norway  ...       0.271                      0.341\n",
              "3             4           Iceland  ...       0.354                      0.118\n",
              "4             5       Netherlands  ...       0.322                      0.298\n",
              "\n",
              "[5 rows x 9 columns]"
            ]
          },
          "metadata": {
            "tags": []
          },
          "execution_count": 30
        }
      ]
    },
    {
      "cell_type": "code",
      "metadata": {
        "colab": {
          "base_uri": "https://localhost:8080/",
          "height": 646
        },
        "id": "75uXBoFg543A",
        "outputId": "b6294330-82c6-4007-c1ce-476a61e80c7b"
      },
      "source": [
        "print('number of records in the set:', happiness.shape[0])\n",
        "print('description of the numerical data:')\n",
        "display(happiness.info())\n",
        "print('\\n')\n",
        "print('the highest GDP and life expectancy:')\n",
        "display(happiness[['GDP per capita', 'Healthy life expectancy']].max())\n",
        "print('mean, max and min for Freedom, mean, max, min and skew for Generosity and mean, min, max and std for GDP')\n",
        "display(happiness.agg({\n",
        "    'Freedom to make life choices': ['mean', 'max', 'min'],\n",
        "    'Generosity': ['mean', 'max', 'min', 'skew'],\n",
        "    'GDP per capita': ['mean', 'min', 'max', 'std']\n",
        "    }))"
      ],
      "execution_count": 34,
      "outputs": [
        {
          "output_type": "stream",
          "text": [
            "number of records in the set: 156\n",
            "description of the numerical data:\n",
            "<class 'pandas.core.frame.DataFrame'>\n",
            "RangeIndex: 156 entries, 0 to 155\n",
            "Data columns (total 9 columns):\n",
            " #   Column                        Non-Null Count  Dtype  \n",
            "---  ------                        --------------  -----  \n",
            " 0   Overall rank                  156 non-null    int64  \n",
            " 1   Country or region             156 non-null    object \n",
            " 2   Score                         156 non-null    float64\n",
            " 3   GDP per capita                156 non-null    float64\n",
            " 4   Social support                156 non-null    float64\n",
            " 5   Healthy life expectancy       156 non-null    float64\n",
            " 6   Freedom to make life choices  156 non-null    float64\n",
            " 7   Generosity                    156 non-null    float64\n",
            " 8   Perceptions of corruption     156 non-null    float64\n",
            "dtypes: float64(7), int64(1), object(1)\n",
            "memory usage: 11.1+ KB\n"
          ],
          "name": "stdout"
        },
        {
          "output_type": "display_data",
          "data": {
            "text/plain": [
              "None"
            ]
          },
          "metadata": {
            "tags": []
          }
        },
        {
          "output_type": "stream",
          "text": [
            "\n",
            "\n",
            "the highest GDP and life expectancy:\n"
          ],
          "name": "stdout"
        },
        {
          "output_type": "display_data",
          "data": {
            "text/plain": [
              "GDP per capita             1.684\n",
              "Healthy life expectancy    1.141\n",
              "dtype: float64"
            ]
          },
          "metadata": {
            "tags": []
          }
        },
        {
          "output_type": "stream",
          "text": [
            "mean, max and min for Freedom, mean, max, min and skew for Generosity and mean, min, max and std for GDP\n"
          ],
          "name": "stdout"
        },
        {
          "output_type": "display_data",
          "data": {
            "text/html": [
              "<div>\n",
              "<style scoped>\n",
              "    .dataframe tbody tr th:only-of-type {\n",
              "        vertical-align: middle;\n",
              "    }\n",
              "\n",
              "    .dataframe tbody tr th {\n",
              "        vertical-align: top;\n",
              "    }\n",
              "\n",
              "    .dataframe thead th {\n",
              "        text-align: right;\n",
              "    }\n",
              "</style>\n",
              "<table border=\"1\" class=\"dataframe\">\n",
              "  <thead>\n",
              "    <tr style=\"text-align: right;\">\n",
              "      <th></th>\n",
              "      <th>Freedom to make life choices</th>\n",
              "      <th>Generosity</th>\n",
              "      <th>GDP per capita</th>\n",
              "    </tr>\n",
              "  </thead>\n",
              "  <tbody>\n",
              "    <tr>\n",
              "      <th>max</th>\n",
              "      <td>0.631000</td>\n",
              "      <td>0.566000</td>\n",
              "      <td>1.684000</td>\n",
              "    </tr>\n",
              "    <tr>\n",
              "      <th>mean</th>\n",
              "      <td>0.392571</td>\n",
              "      <td>0.184846</td>\n",
              "      <td>0.905147</td>\n",
              "    </tr>\n",
              "    <tr>\n",
              "      <th>min</th>\n",
              "      <td>0.000000</td>\n",
              "      <td>0.000000</td>\n",
              "      <td>0.000000</td>\n",
              "    </tr>\n",
              "    <tr>\n",
              "      <th>skew</th>\n",
              "      <td>NaN</td>\n",
              "      <td>0.745942</td>\n",
              "      <td>NaN</td>\n",
              "    </tr>\n",
              "    <tr>\n",
              "      <th>std</th>\n",
              "      <td>NaN</td>\n",
              "      <td>NaN</td>\n",
              "      <td>0.398389</td>\n",
              "    </tr>\n",
              "  </tbody>\n",
              "</table>\n",
              "</div>"
            ],
            "text/plain": [
              "      Freedom to make life choices  Generosity  GDP per capita\n",
              "max                       0.631000    0.566000        1.684000\n",
              "mean                      0.392571    0.184846        0.905147\n",
              "min                       0.000000    0.000000        0.000000\n",
              "skew                           NaN    0.745942             NaN\n",
              "std                            NaN         NaN        0.398389"
            ]
          },
          "metadata": {
            "tags": []
          }
        }
      ]
    },
    {
      "cell_type": "markdown",
      "metadata": {
        "id": "X3vlyA6zRdXs"
      },
      "source": [
        "### Exercise 9 - migration data\n",
        "---\n",
        "\n",
        "Open the dataset at this url: https://github.com/futureCodersSE/working-with-data/blob/main/Data%20sets/public_use-talent-migration.xlsx?raw=true  Open the sheet named *Country Migration*\n",
        "\n",
        "1.  Describe the dataset  \n",
        "2.  Show summary information\n",
        "3.  Display the mean net per 10K migration in each of the years 2015 to 2019\n",
        "4.  Display the mean, max and min migration for the year 2019 for each of the regions (*base_country_wb_region*)\n",
        "5.  Display the median net migration for the years 2015 and 2019 for the base countries by income level\n",
        "6.  Display the number of target countries in each income level\n",
        "7.  Display the mean net migration for all five years, for each income level\n",
        "\n",
        "**Test output**:  \n",
        "1  count, mean, std, min, 25%, 50%, 75%, max for 9 columns\n",
        "\n",
        "2  shows 16 columns with non-null count of 4148 in each column\n",
        "\n",
        "3  \n",
        "```\n",
        "net_per_10K_2015    0.461757\n",
        "net_per_10K_2016    0.150248\n",
        "net_per_10K_2017   -0.080272\n",
        "net_per_10K_2018   -0.040591\n",
        "net_per_10K_2019   -0.022743\n",
        "dtype: float64\n",
        "```\n",
        "\n",
        "4  \n",
        "```\n",
        "\tnet_per_10K_2019\n",
        "mean\tmax\tmin\n",
        "base_country_wb_region\t\t\t\n",
        "East Asia & Pacific\t0.198827\t21.57\t-9.88\n",
        "Europe & Central Asia\t0.208974\t87.71\t-21.34\n",
        "Latin America & Caribbean\t-0.904602\t21.15\t-31.75\n",
        "Middle East & North Africa\t-0.107655\t55.60\t-50.33\n",
        "North America\t0.239246\t23.20\t-0.29\n",
        "South Asia\t-0.514577\t13.72\t-24.89\n",
        "Sub-Saharan Africa\t-0.279729\t37.11\t-21.54\n",
        "```\n",
        "\n",
        "5  \n",
        "```\n",
        "\tnet_per_10K_2015\tnet_per_10K_2019\n",
        "base_country_wb_income\t\t\n",
        "High Income\t0.02\t0.04\n",
        "Low Income\t0.42\t-0.05\n",
        "Lower Middle Income\t-0.02\t-0.07\n",
        "Upper Middle Income\t-0.03\t-0.08\n",
        "```\n",
        "\n",
        "6  \n",
        "```\n",
        "base_country_wb_income\n",
        "High Income            2415\n",
        "Low Income              185\n",
        "Lower Middle Income     653\n",
        "Upper Middle Income     895\n",
        "Name: target_country_name, dtype: int64 \n",
        "```\n",
        "\n",
        "7  \n",
        "```\n",
        "net_per_10K_2015\tnet_per_10K_2016\tnet_per_10K_2017\tnet_per_10K_2018\tnet_per_10K_2019\n",
        "base_country_wb_income\t\t\t\t\t\n",
        "High Income\t0.505482\t0.391379\t0.314178\t0.379201\t0.401470\n",
        "Low Income\t1.876432\t0.798270\t-0.684865\t-0.677784\t-0.681459\n",
        "Lower Middle Income\t0.591654\t-0.029893\t-0.519433\t-0.527136\t-0.476616\n",
        "Upper Middle Income\t-0.043419\t-0.502916\t-0.699240\t-0.686626\t-0.700101\n",
        "```\n",
        "\n",
        "\n",
        "\n",
        "\n"
      ]
    },
    {
      "cell_type": "code",
      "metadata": {
        "id": "yk8cfjUvIj5x",
        "colab": {
          "base_uri": "https://localhost:8080/",
          "height": 258
        },
        "outputId": "7a1da4d2-9ec3-47b5-d073-b436bdb87927"
      },
      "source": [
        "url = \"https://github.com/futureCodersSE/working-with-data/blob/main/Data%20sets/public_use-talent-migration.xlsx?raw=true\"\n",
        "migration = pd.read_excel(url,sheet_name=\"Country Migration\")\n",
        "migration.groupby('base_country_wb_income')['net_per_10K_2015','net_per_10K_2016','net_per_10K_2017','net_per_10K_2018','net_per_10K_2019'].mean()\n"
      ],
      "execution_count": 35,
      "outputs": [
        {
          "output_type": "stream",
          "text": [
            "/usr/local/lib/python3.7/dist-packages/ipykernel_launcher.py:3: FutureWarning: Indexing with multiple keys (implicitly converted to a tuple of keys) will be deprecated, use a list instead.\n",
            "  This is separate from the ipykernel package so we can avoid doing imports until\n"
          ],
          "name": "stderr"
        },
        {
          "output_type": "execute_result",
          "data": {
            "text/html": [
              "<div>\n",
              "<style scoped>\n",
              "    .dataframe tbody tr th:only-of-type {\n",
              "        vertical-align: middle;\n",
              "    }\n",
              "\n",
              "    .dataframe tbody tr th {\n",
              "        vertical-align: top;\n",
              "    }\n",
              "\n",
              "    .dataframe thead th {\n",
              "        text-align: right;\n",
              "    }\n",
              "</style>\n",
              "<table border=\"1\" class=\"dataframe\">\n",
              "  <thead>\n",
              "    <tr style=\"text-align: right;\">\n",
              "      <th></th>\n",
              "      <th>net_per_10K_2015</th>\n",
              "      <th>net_per_10K_2016</th>\n",
              "      <th>net_per_10K_2017</th>\n",
              "      <th>net_per_10K_2018</th>\n",
              "      <th>net_per_10K_2019</th>\n",
              "    </tr>\n",
              "    <tr>\n",
              "      <th>base_country_wb_income</th>\n",
              "      <th></th>\n",
              "      <th></th>\n",
              "      <th></th>\n",
              "      <th></th>\n",
              "      <th></th>\n",
              "    </tr>\n",
              "  </thead>\n",
              "  <tbody>\n",
              "    <tr>\n",
              "      <th>High Income</th>\n",
              "      <td>0.505482</td>\n",
              "      <td>0.391379</td>\n",
              "      <td>0.314178</td>\n",
              "      <td>0.379201</td>\n",
              "      <td>0.401470</td>\n",
              "    </tr>\n",
              "    <tr>\n",
              "      <th>Low Income</th>\n",
              "      <td>1.876432</td>\n",
              "      <td>0.798270</td>\n",
              "      <td>-0.684865</td>\n",
              "      <td>-0.677784</td>\n",
              "      <td>-0.681459</td>\n",
              "    </tr>\n",
              "    <tr>\n",
              "      <th>Lower Middle Income</th>\n",
              "      <td>0.591654</td>\n",
              "      <td>-0.029893</td>\n",
              "      <td>-0.519433</td>\n",
              "      <td>-0.527136</td>\n",
              "      <td>-0.476616</td>\n",
              "    </tr>\n",
              "    <tr>\n",
              "      <th>Upper Middle Income</th>\n",
              "      <td>-0.043419</td>\n",
              "      <td>-0.502916</td>\n",
              "      <td>-0.699240</td>\n",
              "      <td>-0.686626</td>\n",
              "      <td>-0.700101</td>\n",
              "    </tr>\n",
              "  </tbody>\n",
              "</table>\n",
              "</div>"
            ],
            "text/plain": [
              "                        net_per_10K_2015  ...  net_per_10K_2019\n",
              "base_country_wb_income                    ...                  \n",
              "High Income                     0.505482  ...          0.401470\n",
              "Low Income                      1.876432  ...         -0.681459\n",
              "Lower Middle Income             0.591654  ...         -0.476616\n",
              "Upper Middle Income            -0.043419  ...         -0.700101\n",
              "\n",
              "[4 rows x 5 columns]"
            ]
          },
          "metadata": {
            "tags": []
          },
          "execution_count": 35
        }
      ]
    },
    {
      "cell_type": "code",
      "metadata": {
        "colab": {
          "base_uri": "https://localhost:8080/"
        },
        "id": "DEvOxeZoBqoC",
        "outputId": "0b7a12c9-451b-479b-dc27-ea406ef73602"
      },
      "source": [
        "count_mig = pd.read_excel('https://github.com/futureCodersSE/working-with-data/blob/main/Data%20sets/public_use-talent-migration.xlsx?raw=true',\n",
        "                         sheet_name=\"Country Migration\")\n",
        "\n",
        "count_mig.info()"
      ],
      "execution_count": 37,
      "outputs": [
        {
          "output_type": "stream",
          "text": [
            "<class 'pandas.core.frame.DataFrame'>\n",
            "RangeIndex: 4148 entries, 0 to 4147\n",
            "Data columns (total 17 columns):\n",
            " #   Column                    Non-Null Count  Dtype  \n",
            "---  ------                    --------------  -----  \n",
            " 0   base_country_code         4148 non-null   object \n",
            " 1   base_country_name         4148 non-null   object \n",
            " 2   base_lat                  4148 non-null   float64\n",
            " 3   base_long                 4148 non-null   float64\n",
            " 4   base_country_wb_income    4148 non-null   object \n",
            " 5   base_country_wb_region    4148 non-null   object \n",
            " 6   target_country_code       4148 non-null   object \n",
            " 7   target_country_name       4148 non-null   object \n",
            " 8   target_lat                4148 non-null   float64\n",
            " 9   target_long               4148 non-null   float64\n",
            " 10  target_country_wb_income  4148 non-null   object \n",
            " 11  target_country_wb_region  4148 non-null   object \n",
            " 12  net_per_10K_2015          4148 non-null   float64\n",
            " 13  net_per_10K_2016          4148 non-null   float64\n",
            " 14  net_per_10K_2017          4148 non-null   float64\n",
            " 15  net_per_10K_2018          4148 non-null   float64\n",
            " 16  net_per_10K_2019          4148 non-null   float64\n",
            "dtypes: float64(9), object(8)\n",
            "memory usage: 551.0+ KB\n"
          ],
          "name": "stdout"
        }
      ]
    },
    {
      "cell_type": "code",
      "metadata": {
        "colab": {
          "base_uri": "https://localhost:8080/",
          "height": 297
        },
        "id": "CoZ6rlg2Chqv",
        "outputId": "3c04ebe7-de19-461b-9986-27d1af9d5726"
      },
      "source": [
        "count_mig.describe()"
      ],
      "execution_count": 38,
      "outputs": [
        {
          "output_type": "execute_result",
          "data": {
            "text/html": [
              "<div>\n",
              "<style scoped>\n",
              "    .dataframe tbody tr th:only-of-type {\n",
              "        vertical-align: middle;\n",
              "    }\n",
              "\n",
              "    .dataframe tbody tr th {\n",
              "        vertical-align: top;\n",
              "    }\n",
              "\n",
              "    .dataframe thead th {\n",
              "        text-align: right;\n",
              "    }\n",
              "</style>\n",
              "<table border=\"1\" class=\"dataframe\">\n",
              "  <thead>\n",
              "    <tr style=\"text-align: right;\">\n",
              "      <th></th>\n",
              "      <th>base_lat</th>\n",
              "      <th>base_long</th>\n",
              "      <th>target_lat</th>\n",
              "      <th>target_long</th>\n",
              "      <th>net_per_10K_2015</th>\n",
              "      <th>net_per_10K_2016</th>\n",
              "      <th>net_per_10K_2017</th>\n",
              "      <th>net_per_10K_2018</th>\n",
              "      <th>net_per_10K_2019</th>\n",
              "    </tr>\n",
              "  </thead>\n",
              "  <tbody>\n",
              "    <tr>\n",
              "      <th>count</th>\n",
              "      <td>4148.000000</td>\n",
              "      <td>4148.000000</td>\n",
              "      <td>4148.000000</td>\n",
              "      <td>4148.000000</td>\n",
              "      <td>4148.000000</td>\n",
              "      <td>4148.000000</td>\n",
              "      <td>4148.000000</td>\n",
              "      <td>4148.000000</td>\n",
              "      <td>4148.000000</td>\n",
              "    </tr>\n",
              "    <tr>\n",
              "      <th>mean</th>\n",
              "      <td>28.418022</td>\n",
              "      <td>21.698305</td>\n",
              "      <td>28.418022</td>\n",
              "      <td>21.698305</td>\n",
              "      <td>0.461757</td>\n",
              "      <td>0.150248</td>\n",
              "      <td>-0.080272</td>\n",
              "      <td>-0.040591</td>\n",
              "      <td>-0.022743</td>\n",
              "    </tr>\n",
              "    <tr>\n",
              "      <th>std</th>\n",
              "      <td>25.086012</td>\n",
              "      <td>61.937381</td>\n",
              "      <td>25.086012</td>\n",
              "      <td>61.937381</td>\n",
              "      <td>5.006530</td>\n",
              "      <td>4.201118</td>\n",
              "      <td>3.203092</td>\n",
              "      <td>3.593876</td>\n",
              "      <td>3.633247</td>\n",
              "    </tr>\n",
              "    <tr>\n",
              "      <th>min</th>\n",
              "      <td>-40.900557</td>\n",
              "      <td>-106.346771</td>\n",
              "      <td>-40.900557</td>\n",
              "      <td>-106.346771</td>\n",
              "      <td>-37.010000</td>\n",
              "      <td>-40.890000</td>\n",
              "      <td>-43.660000</td>\n",
              "      <td>-56.220000</td>\n",
              "      <td>-50.330000</td>\n",
              "    </tr>\n",
              "    <tr>\n",
              "      <th>25%</th>\n",
              "      <td>14.058324</td>\n",
              "      <td>-3.435973</td>\n",
              "      <td>14.058324</td>\n",
              "      <td>-3.435973</td>\n",
              "      <td>-0.150000</td>\n",
              "      <td>-0.190000</td>\n",
              "      <td>-0.210000</td>\n",
              "      <td>-0.210000</td>\n",
              "      <td>-0.210000</td>\n",
              "    </tr>\n",
              "    <tr>\n",
              "      <th>50%</th>\n",
              "      <td>35.861660</td>\n",
              "      <td>19.145136</td>\n",
              "      <td>35.861660</td>\n",
              "      <td>19.145136</td>\n",
              "      <td>0.000000</td>\n",
              "      <td>0.000000</td>\n",
              "      <td>0.000000</td>\n",
              "      <td>0.000000</td>\n",
              "      <td>0.000000</td>\n",
              "    </tr>\n",
              "    <tr>\n",
              "      <th>75%</th>\n",
              "      <td>47.516231</td>\n",
              "      <td>53.688046</td>\n",
              "      <td>47.516231</td>\n",
              "      <td>53.688046</td>\n",
              "      <td>0.240000</td>\n",
              "      <td>0.220000</td>\n",
              "      <td>0.160000</td>\n",
              "      <td>0.170000</td>\n",
              "      <td>0.180000</td>\n",
              "    </tr>\n",
              "    <tr>\n",
              "      <th>max</th>\n",
              "      <td>64.963051</td>\n",
              "      <td>179.414413</td>\n",
              "      <td>64.963051</td>\n",
              "      <td>179.414413</td>\n",
              "      <td>150.680000</td>\n",
              "      <td>124.480000</td>\n",
              "      <td>87.000000</td>\n",
              "      <td>91.410000</td>\n",
              "      <td>87.710000</td>\n",
              "    </tr>\n",
              "  </tbody>\n",
              "</table>\n",
              "</div>"
            ],
            "text/plain": [
              "          base_lat    base_long  ...  net_per_10K_2018  net_per_10K_2019\n",
              "count  4148.000000  4148.000000  ...       4148.000000       4148.000000\n",
              "mean     28.418022    21.698305  ...         -0.040591         -0.022743\n",
              "std      25.086012    61.937381  ...          3.593876          3.633247\n",
              "min     -40.900557  -106.346771  ...        -56.220000        -50.330000\n",
              "25%      14.058324    -3.435973  ...         -0.210000         -0.210000\n",
              "50%      35.861660    19.145136  ...          0.000000          0.000000\n",
              "75%      47.516231    53.688046  ...          0.170000          0.180000\n",
              "max      64.963051   179.414413  ...         91.410000         87.710000\n",
              "\n",
              "[8 rows x 9 columns]"
            ]
          },
          "metadata": {
            "tags": []
          },
          "execution_count": 38
        }
      ]
    },
    {
      "cell_type": "code",
      "metadata": {
        "colab": {
          "base_uri": "https://localhost:8080/"
        },
        "id": "75LBJEenCjAl",
        "outputId": "7849b8c2-db82-4d11-8237-ace9ff839df6"
      },
      "source": [
        "count_mig[['net_per_10K_2015','net_per_10K_2016','net_per_10K_2017','net_per_10K_2018','net_per_10K_2019']].mean()"
      ],
      "execution_count": 39,
      "outputs": [
        {
          "output_type": "execute_result",
          "data": {
            "text/plain": [
              "net_per_10K_2015    0.461757\n",
              "net_per_10K_2016    0.150248\n",
              "net_per_10K_2017   -0.080272\n",
              "net_per_10K_2018   -0.040591\n",
              "net_per_10K_2019   -0.022743\n",
              "dtype: float64"
            ]
          },
          "metadata": {
            "tags": []
          },
          "execution_count": 39
        }
      ]
    },
    {
      "cell_type": "code",
      "metadata": {
        "colab": {
          "base_uri": "https://localhost:8080/",
          "height": 297
        },
        "id": "au_cs-45C2GP",
        "outputId": "1abc451f-8179-4289-966a-57d556d874df"
      },
      "source": [
        "count_mig.groupby('base_country_wb_region')['net_per_10K_2019'].agg(['min', 'max', 'mean'])"
      ],
      "execution_count": 40,
      "outputs": [
        {
          "output_type": "execute_result",
          "data": {
            "text/html": [
              "<div>\n",
              "<style scoped>\n",
              "    .dataframe tbody tr th:only-of-type {\n",
              "        vertical-align: middle;\n",
              "    }\n",
              "\n",
              "    .dataframe tbody tr th {\n",
              "        vertical-align: top;\n",
              "    }\n",
              "\n",
              "    .dataframe thead th {\n",
              "        text-align: right;\n",
              "    }\n",
              "</style>\n",
              "<table border=\"1\" class=\"dataframe\">\n",
              "  <thead>\n",
              "    <tr style=\"text-align: right;\">\n",
              "      <th></th>\n",
              "      <th>min</th>\n",
              "      <th>max</th>\n",
              "      <th>mean</th>\n",
              "    </tr>\n",
              "    <tr>\n",
              "      <th>base_country_wb_region</th>\n",
              "      <th></th>\n",
              "      <th></th>\n",
              "      <th></th>\n",
              "    </tr>\n",
              "  </thead>\n",
              "  <tbody>\n",
              "    <tr>\n",
              "      <th>East Asia &amp; Pacific</th>\n",
              "      <td>-9.88</td>\n",
              "      <td>21.57</td>\n",
              "      <td>0.198827</td>\n",
              "    </tr>\n",
              "    <tr>\n",
              "      <th>Europe &amp; Central Asia</th>\n",
              "      <td>-21.34</td>\n",
              "      <td>87.71</td>\n",
              "      <td>0.208974</td>\n",
              "    </tr>\n",
              "    <tr>\n",
              "      <th>Latin America &amp; Caribbean</th>\n",
              "      <td>-31.75</td>\n",
              "      <td>21.15</td>\n",
              "      <td>-0.904602</td>\n",
              "    </tr>\n",
              "    <tr>\n",
              "      <th>Middle East &amp; North Africa</th>\n",
              "      <td>-50.33</td>\n",
              "      <td>55.60</td>\n",
              "      <td>-0.107655</td>\n",
              "    </tr>\n",
              "    <tr>\n",
              "      <th>North America</th>\n",
              "      <td>-0.29</td>\n",
              "      <td>23.20</td>\n",
              "      <td>0.239246</td>\n",
              "    </tr>\n",
              "    <tr>\n",
              "      <th>South Asia</th>\n",
              "      <td>-24.89</td>\n",
              "      <td>13.72</td>\n",
              "      <td>-0.514577</td>\n",
              "    </tr>\n",
              "    <tr>\n",
              "      <th>Sub-Saharan Africa</th>\n",
              "      <td>-21.54</td>\n",
              "      <td>37.11</td>\n",
              "      <td>-0.279729</td>\n",
              "    </tr>\n",
              "  </tbody>\n",
              "</table>\n",
              "</div>"
            ],
            "text/plain": [
              "                              min    max      mean\n",
              "base_country_wb_region                            \n",
              "East Asia & Pacific         -9.88  21.57  0.198827\n",
              "Europe & Central Asia      -21.34  87.71  0.208974\n",
              "Latin America & Caribbean  -31.75  21.15 -0.904602\n",
              "Middle East & North Africa -50.33  55.60 -0.107655\n",
              "North America               -0.29  23.20  0.239246\n",
              "South Asia                 -24.89  13.72 -0.514577\n",
              "Sub-Saharan Africa         -21.54  37.11 -0.279729"
            ]
          },
          "metadata": {
            "tags": []
          },
          "execution_count": 40
        }
      ]
    },
    {
      "cell_type": "code",
      "metadata": {
        "colab": {
          "base_uri": "https://localhost:8080/",
          "height": 204
        },
        "id": "46VkX-w4DqOw",
        "outputId": "a0f9fd22-1ec4-4224-9d99-cbfb31dc6fce"
      },
      "source": [
        "count_mig.groupby('base_country_wb_income')[['net_per_10K_2015','net_per_10K_2016','net_per_10K_2017','net_per_10K_2018','net_per_10K_2019']].median()"
      ],
      "execution_count": 41,
      "outputs": [
        {
          "output_type": "execute_result",
          "data": {
            "text/html": [
              "<div>\n",
              "<style scoped>\n",
              "    .dataframe tbody tr th:only-of-type {\n",
              "        vertical-align: middle;\n",
              "    }\n",
              "\n",
              "    .dataframe tbody tr th {\n",
              "        vertical-align: top;\n",
              "    }\n",
              "\n",
              "    .dataframe thead th {\n",
              "        text-align: right;\n",
              "    }\n",
              "</style>\n",
              "<table border=\"1\" class=\"dataframe\">\n",
              "  <thead>\n",
              "    <tr style=\"text-align: right;\">\n",
              "      <th></th>\n",
              "      <th>net_per_10K_2015</th>\n",
              "      <th>net_per_10K_2016</th>\n",
              "      <th>net_per_10K_2017</th>\n",
              "      <th>net_per_10K_2018</th>\n",
              "      <th>net_per_10K_2019</th>\n",
              "    </tr>\n",
              "    <tr>\n",
              "      <th>base_country_wb_income</th>\n",
              "      <th></th>\n",
              "      <th></th>\n",
              "      <th></th>\n",
              "      <th></th>\n",
              "      <th></th>\n",
              "    </tr>\n",
              "  </thead>\n",
              "  <tbody>\n",
              "    <tr>\n",
              "      <th>High Income</th>\n",
              "      <td>0.02</td>\n",
              "      <td>0.03</td>\n",
              "      <td>0.04</td>\n",
              "      <td>0.04</td>\n",
              "      <td>0.04</td>\n",
              "    </tr>\n",
              "    <tr>\n",
              "      <th>Low Income</th>\n",
              "      <td>0.42</td>\n",
              "      <td>0.06</td>\n",
              "      <td>-0.17</td>\n",
              "      <td>-0.15</td>\n",
              "      <td>-0.05</td>\n",
              "    </tr>\n",
              "    <tr>\n",
              "      <th>Lower Middle Income</th>\n",
              "      <td>-0.02</td>\n",
              "      <td>-0.05</td>\n",
              "      <td>-0.07</td>\n",
              "      <td>-0.07</td>\n",
              "      <td>-0.07</td>\n",
              "    </tr>\n",
              "    <tr>\n",
              "      <th>Upper Middle Income</th>\n",
              "      <td>-0.03</td>\n",
              "      <td>-0.06</td>\n",
              "      <td>-0.08</td>\n",
              "      <td>-0.08</td>\n",
              "      <td>-0.08</td>\n",
              "    </tr>\n",
              "  </tbody>\n",
              "</table>\n",
              "</div>"
            ],
            "text/plain": [
              "                        net_per_10K_2015  ...  net_per_10K_2019\n",
              "base_country_wb_income                    ...                  \n",
              "High Income                         0.02  ...              0.04\n",
              "Low Income                          0.42  ...             -0.05\n",
              "Lower Middle Income                -0.02  ...             -0.07\n",
              "Upper Middle Income                -0.03  ...             -0.08\n",
              "\n",
              "[4 rows x 5 columns]"
            ]
          },
          "metadata": {
            "tags": []
          },
          "execution_count": 41
        }
      ]
    },
    {
      "cell_type": "code",
      "metadata": {
        "colab": {
          "base_uri": "https://localhost:8080/"
        },
        "id": "ojsIUjYvEZRB",
        "outputId": "75c16eca-60d2-4464-d471-ad24b2042a2d"
      },
      "source": [
        "count_mig.groupby('target_country_wb_income')['target_country_name'].count()"
      ],
      "execution_count": 42,
      "outputs": [
        {
          "output_type": "execute_result",
          "data": {
            "text/plain": [
              "target_country_wb_income\n",
              "High Income            2415\n",
              "Low Income              185\n",
              "Lower Middle Income     653\n",
              "Upper Middle Income     895\n",
              "Name: target_country_name, dtype: int64"
            ]
          },
          "metadata": {
            "tags": []
          },
          "execution_count": 42
        }
      ]
    },
    {
      "cell_type": "markdown",
      "metadata": {
        "id": "UqBCMK6dIkS-"
      },
      "source": [
        "### Exercise 10 - calculating range over a grouped series\n",
        "\n",
        "Open the dataset at this url: https://github.com/futureCodersSE/working-with-data/blob/main/Data%20sets/public_use-talent-migration.xlsx?raw=true Open the sheet named *Skill Migration*\n",
        "\n",
        "1.  Display the max for each skill group category of net migration for the year 2017\n",
        "2.  Assign the max for each skill group category of net migration for the year 2017 to a variable called **max_skill_migration** and print `max_skill_migration`\n",
        "3.  Create a second variable called **min_skill_migration** and assign to it the min for each skill group category of net migration for the year 2017, print `min_skill_migration`\n",
        "\n",
        "4.  You now have two series `max_skill_migration` and `min_skill_migration` each of which is a numpy array.  You can perfom calculations on these two series in the same way as you would individual data items.\n",
        "\n",
        "So, you can calculate the range for each skill category by subtracting the `min_skill_migration` from `max_skill_migration` to get a new series **skill_migration_range**\n",
        "\n",
        "skill_migration_range = max_skill_migration - min_skill_migration\n",
        "\n",
        "Try it out.\n",
        "\n",
        "5.  Now calculate the range for the year 2019\n",
        "6.  Now calculate the range for countries grouped by income level for the year 2015\n",
        "\n",
        "Test output:  \n",
        "1 and 2  \n",
        "```\n",
        "skill_group_category\n",
        "Business Skills                1048.20\n",
        "Disruptive Tech Skills         1478.56\n",
        "Soft Skills                    1572.35\n",
        "Specialized Industry Skills    1906.14\n",
        "Tech Skills                    1336.78\n",
        "Name: net_per_10K_2017, dtype: float64\n",
        "```\n",
        "\n",
        "3    \n",
        "```\n",
        "skill_group_category\n",
        "Business Skills               -3471.35\n",
        "Disruptive Tech Skills        -2646.19\n",
        "Soft Skills                   -2542.23\n",
        "Specialized Industry Skills   -6604.67\n",
        "Tech Skills                   -6060.98\n",
        "Name: net_per_10K_2017, dtype: float64\n",
        "```\n",
        "\n",
        "4  \n",
        "```\n",
        "skill_group_category\n",
        "Business Skills                4519.55\n",
        "Disruptive Tech Skills         4124.75\n",
        "Soft Skills                    4114.58\n",
        "Specialized Industry Skills    8510.81\n",
        "Tech Skills                    7397.76\n",
        "Name: net_per_10K_2017, dtype: float64\n",
        "```\n",
        "\n",
        "5  \n",
        "```\n",
        "skill_group_category\n",
        "Business Skills                4543.96\n",
        "Disruptive Tech Skills         3651.81\n",
        "Soft Skills                    5528.47\n",
        "Specialized Industry Skills    4036.44\n",
        "Tech Skills                    3424.45\n",
        "Name: net_per_10K_2019, dtype: float64\n",
        "```\n",
        "\n",
        "6  \n",
        "```\n",
        "wb_income\n",
        "High income            4246.50\n",
        "Low income             4556.42\n",
        "Lower middle income    2148.36\n",
        "Upper middle income    4045.43\n",
        "Name: net_per_10K_2015, dtype: float64\n",
        "```\n",
        "\n",
        "\n",
        "\n"
      ]
    },
    {
      "cell_type": "code",
      "metadata": {
        "id": "1_2brpLnKIBt",
        "colab": {
          "base_uri": "https://localhost:8080/",
          "height": 309
        },
        "outputId": "c35208c5-6a76-4db0-e926-fae634bdd9b5"
      },
      "source": [
        "skill_mig = pd.read_excel('https://github.com/futureCodersSE/working-with-data/blob/main/Data%20sets/public_use-talent-migration.xlsx?raw=true',\n",
        "                        sheet_name='Skill Migration')\n",
        "\n",
        "skill_mig.head()"
      ],
      "execution_count": 43,
      "outputs": [
        {
          "output_type": "execute_result",
          "data": {
            "text/html": [
              "<div>\n",
              "<style scoped>\n",
              "    .dataframe tbody tr th:only-of-type {\n",
              "        vertical-align: middle;\n",
              "    }\n",
              "\n",
              "    .dataframe tbody tr th {\n",
              "        vertical-align: top;\n",
              "    }\n",
              "\n",
              "    .dataframe thead th {\n",
              "        text-align: right;\n",
              "    }\n",
              "</style>\n",
              "<table border=\"1\" class=\"dataframe\">\n",
              "  <thead>\n",
              "    <tr style=\"text-align: right;\">\n",
              "      <th></th>\n",
              "      <th>country_code</th>\n",
              "      <th>country_name</th>\n",
              "      <th>wb_income</th>\n",
              "      <th>wb_region</th>\n",
              "      <th>skill_group_id</th>\n",
              "      <th>skill_group_category</th>\n",
              "      <th>skill_group_name</th>\n",
              "      <th>net_per_10K_2015</th>\n",
              "      <th>net_per_10K_2016</th>\n",
              "      <th>net_per_10K_2017</th>\n",
              "      <th>net_per_10K_2018</th>\n",
              "      <th>net_per_10K_2019</th>\n",
              "    </tr>\n",
              "  </thead>\n",
              "  <tbody>\n",
              "    <tr>\n",
              "      <th>0</th>\n",
              "      <td>af</td>\n",
              "      <td>Afghanistan</td>\n",
              "      <td>Low income</td>\n",
              "      <td>South Asia</td>\n",
              "      <td>2549</td>\n",
              "      <td>Tech Skills</td>\n",
              "      <td>Information Management</td>\n",
              "      <td>-791.59</td>\n",
              "      <td>-705.88</td>\n",
              "      <td>-550.04</td>\n",
              "      <td>-680.92</td>\n",
              "      <td>-1208.79</td>\n",
              "    </tr>\n",
              "    <tr>\n",
              "      <th>1</th>\n",
              "      <td>af</td>\n",
              "      <td>Afghanistan</td>\n",
              "      <td>Low income</td>\n",
              "      <td>South Asia</td>\n",
              "      <td>2608</td>\n",
              "      <td>Business Skills</td>\n",
              "      <td>Operational Efficiency</td>\n",
              "      <td>-1610.25</td>\n",
              "      <td>-933.55</td>\n",
              "      <td>-776.06</td>\n",
              "      <td>-532.22</td>\n",
              "      <td>-790.09</td>\n",
              "    </tr>\n",
              "    <tr>\n",
              "      <th>2</th>\n",
              "      <td>af</td>\n",
              "      <td>Afghanistan</td>\n",
              "      <td>Low income</td>\n",
              "      <td>South Asia</td>\n",
              "      <td>3806</td>\n",
              "      <td>Specialized Industry Skills</td>\n",
              "      <td>National Security</td>\n",
              "      <td>-1731.45</td>\n",
              "      <td>-769.68</td>\n",
              "      <td>-756.59</td>\n",
              "      <td>-600.44</td>\n",
              "      <td>-767.64</td>\n",
              "    </tr>\n",
              "    <tr>\n",
              "      <th>3</th>\n",
              "      <td>af</td>\n",
              "      <td>Afghanistan</td>\n",
              "      <td>Low income</td>\n",
              "      <td>South Asia</td>\n",
              "      <td>50321</td>\n",
              "      <td>Tech Skills</td>\n",
              "      <td>Software Testing</td>\n",
              "      <td>-957.50</td>\n",
              "      <td>-828.54</td>\n",
              "      <td>-964.73</td>\n",
              "      <td>-406.50</td>\n",
              "      <td>-739.51</td>\n",
              "    </tr>\n",
              "    <tr>\n",
              "      <th>4</th>\n",
              "      <td>af</td>\n",
              "      <td>Afghanistan</td>\n",
              "      <td>Low income</td>\n",
              "      <td>South Asia</td>\n",
              "      <td>1606</td>\n",
              "      <td>Specialized Industry Skills</td>\n",
              "      <td>Navy</td>\n",
              "      <td>-1510.71</td>\n",
              "      <td>-841.17</td>\n",
              "      <td>-842.32</td>\n",
              "      <td>-581.71</td>\n",
              "      <td>-718.64</td>\n",
              "    </tr>\n",
              "  </tbody>\n",
              "</table>\n",
              "</div>"
            ],
            "text/plain": [
              "  country_code country_name  ... net_per_10K_2018 net_per_10K_2019\n",
              "0           af  Afghanistan  ...          -680.92         -1208.79\n",
              "1           af  Afghanistan  ...          -532.22          -790.09\n",
              "2           af  Afghanistan  ...          -600.44          -767.64\n",
              "3           af  Afghanistan  ...          -406.50          -739.51\n",
              "4           af  Afghanistan  ...          -581.71          -718.64\n",
              "\n",
              "[5 rows x 12 columns]"
            ]
          },
          "metadata": {
            "tags": []
          },
          "execution_count": 43
        }
      ]
    },
    {
      "cell_type": "code",
      "metadata": {
        "colab": {
          "base_uri": "https://localhost:8080/"
        },
        "id": "qTCde-u0F3vi",
        "outputId": "69c48799-f29f-44e9-f12a-5fa305c61bb2"
      },
      "source": [
        "skill_mig.groupby('skill_group_category')['net_per_10K_2017'].max()"
      ],
      "execution_count": 44,
      "outputs": [
        {
          "output_type": "execute_result",
          "data": {
            "text/plain": [
              "skill_group_category\n",
              "Business Skills                1048.20\n",
              "Disruptive Tech Skills         1478.56\n",
              "Soft Skills                    1572.35\n",
              "Specialized Industry Skills    1906.14\n",
              "Tech Skills                    1336.78\n",
              "Name: net_per_10K_2017, dtype: float64"
            ]
          },
          "metadata": {
            "tags": []
          },
          "execution_count": 44
        }
      ]
    },
    {
      "cell_type": "code",
      "metadata": {
        "colab": {
          "base_uri": "https://localhost:8080/"
        },
        "id": "64UW4j4LGQ0n",
        "outputId": "9eb729ee-bf73-43d2-e0dc-5a8961aec600"
      },
      "source": [
        "max_skill_migration = skill_mig.groupby('skill_group_category')['net_per_10K_2017'].max()\n",
        "\n",
        "print(max_skill_migration)"
      ],
      "execution_count": 45,
      "outputs": [
        {
          "output_type": "stream",
          "text": [
            "skill_group_category\n",
            "Business Skills                1048.20\n",
            "Disruptive Tech Skills         1478.56\n",
            "Soft Skills                    1572.35\n",
            "Specialized Industry Skills    1906.14\n",
            "Tech Skills                    1336.78\n",
            "Name: net_per_10K_2017, dtype: float64\n"
          ],
          "name": "stdout"
        }
      ]
    },
    {
      "cell_type": "code",
      "metadata": {
        "colab": {
          "base_uri": "https://localhost:8080/"
        },
        "id": "k1I3oJjvGhss",
        "outputId": "956d9d85-1dc7-4d00-ded7-beb87ed068c9"
      },
      "source": [
        "min_skill_migration = skill_mig.groupby('skill_group_category')['net_per_10K_2017'].min()\n",
        "\n",
        "print(min_skill_migration)"
      ],
      "execution_count": 46,
      "outputs": [
        {
          "output_type": "stream",
          "text": [
            "skill_group_category\n",
            "Business Skills               -3471.35\n",
            "Disruptive Tech Skills        -2646.19\n",
            "Soft Skills                   -2542.23\n",
            "Specialized Industry Skills   -6604.67\n",
            "Tech Skills                   -6060.98\n",
            "Name: net_per_10K_2017, dtype: float64\n"
          ],
          "name": "stdout"
        }
      ]
    },
    {
      "cell_type": "code",
      "metadata": {
        "colab": {
          "base_uri": "https://localhost:8080/"
        },
        "id": "soShnMzoHAlh",
        "outputId": "71d6919b-c5ba-4c27-eae0-508e11cf759c"
      },
      "source": [
        "skill_migration_range = max_skill_migration - min_skill_migration\n",
        "\n",
        "print(skill_migration_range)"
      ],
      "execution_count": 47,
      "outputs": [
        {
          "output_type": "stream",
          "text": [
            "skill_group_category\n",
            "Business Skills                4519.55\n",
            "Disruptive Tech Skills         4124.75\n",
            "Soft Skills                    4114.58\n",
            "Specialized Industry Skills    8510.81\n",
            "Tech Skills                    7397.76\n",
            "Name: net_per_10K_2017, dtype: float64\n"
          ],
          "name": "stdout"
        }
      ]
    },
    {
      "cell_type": "code",
      "metadata": {
        "colab": {
          "base_uri": "https://localhost:8080/"
        },
        "id": "nxE2yom-HYoh",
        "outputId": "5eba7bab-9fef-49e8-8dc7-12d919bd4ca5"
      },
      "source": [
        "skill_migration_range2019 = skill_mig.groupby('skill_group_category')['net_per_10K_2019'].max() \\\n",
        "                          - skill_mig.groupby('skill_group_category')['net_per_10K_2019'].min()\n",
        "\n",
        "print(skill_migration_range2019)"
      ],
      "execution_count": 48,
      "outputs": [
        {
          "output_type": "stream",
          "text": [
            "skill_group_category\n",
            "Business Skills                4543.96\n",
            "Disruptive Tech Skills         3651.81\n",
            "Soft Skills                    5528.47\n",
            "Specialized Industry Skills    4036.44\n",
            "Tech Skills                    3424.45\n",
            "Name: net_per_10K_2019, dtype: float64\n"
          ],
          "name": "stdout"
        }
      ]
    },
    {
      "cell_type": "code",
      "metadata": {
        "colab": {
          "base_uri": "https://localhost:8080/"
        },
        "id": "VTkTfLOiH483",
        "outputId": "488b9820-408d-435b-b52d-a98b9c110c8a"
      },
      "source": [
        "skill_migration_range2015 = skill_mig.groupby('skill_group_category')['net_per_10K_2015'].max() \\\n",
        "                          - skill_mig.groupby('skill_group_category')['net_per_10K_2015'].min()\n",
        "\n",
        "print(skill_migration_range2015)"
      ],
      "execution_count": 49,
      "outputs": [
        {
          "output_type": "stream",
          "text": [
            "skill_group_category\n",
            "Business Skills                3983.53\n",
            "Disruptive Tech Skills         3558.47\n",
            "Soft Skills                    3371.63\n",
            "Specialized Industry Skills    4750.47\n",
            "Tech Skills                    4418.45\n",
            "Name: net_per_10K_2015, dtype: float64\n"
          ],
          "name": "stdout"
        }
      ]
    }
  ]
}